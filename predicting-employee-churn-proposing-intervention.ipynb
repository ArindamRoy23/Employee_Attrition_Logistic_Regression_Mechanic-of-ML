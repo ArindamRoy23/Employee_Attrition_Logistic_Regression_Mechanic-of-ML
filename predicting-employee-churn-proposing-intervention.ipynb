{
 "cells": [
  {
   "cell_type": "markdown",
   "metadata": {
    "papermill": {
     "duration": 0.047738,
     "end_time": "2020-10-13T23:51:44.784789",
     "exception": false,
     "start_time": "2020-10-13T23:51:44.737051",
     "status": "completed"
    },
    "tags": []
   },
   "source": [
    " \n",
    "The goal of this notebook is to explore the development of a risk model that forecasts the likelihood of employee attrition. First, I clean and explore the dataset to prepare it for subsequent analyses. After reviewing the organization's demographic and performance characteristics through EDA and feature engineering techniques, I generate two logistic regression models that predict employee turnover. The first regression model takes a large set of predictors while the second model includes only seven.\n",
    "\n",
    "I also explore the implementation of the k-Nearest Neighbors algorithm to predict employee attrition based on a host of predictors. \n",
    "\n",
    "Finally, after model validation, I explore the business case for possible HR intervention strategies. Discussion on intervention strategy and ROI estimates draw on recent research in HR and management journals around the cost of employee turnover. \n",
    "\n",
    "\n",
    "Thanks for feedback on my code and on my line of thinking for these analyses. I wanted to approach a popular dataset for my first Kaggle project to troubleshoot as needed. This is a draft notebook that I am in the process of updating.\n",
    "\n",
    "\n",
    "*   I) Import and Clean Data\n",
    "*   II) EDA\n",
    "*   III) Feature Engineering\n",
    "*   IV) Significance Testing \n",
    "*   V) Logistic Regression Modeling and Validation \n",
    "*   VI) k-Nearest Neighbors Classifier  \n",
    "*   VII) Risk Assessment \n",
    "*   VIII) Workforce Retention Strategy \n",
    "\n"
   ]
  },
  {
   "cell_type": "markdown",
   "metadata": {
    "papermill": {
     "duration": 0.045941,
     "end_time": "2020-10-13T23:51:44.877230",
     "exception": false,
     "start_time": "2020-10-13T23:51:44.831289",
     "status": "completed"
    },
    "tags": []
   },
   "source": [
    "Load packages used in this notebook: "
   ]
  },
  {
   "cell_type": "code",
   "execution_count": 1,
   "metadata": {
    "_kg_hide-output": true,
    "execution": {
     "iopub.execute_input": "2020-10-13T23:51:45.003696Z",
     "iopub.status.busy": "2020-10-13T23:51:45.001215Z",
     "iopub.status.idle": "2020-10-13T23:52:28.125201Z",
     "shell.execute_reply": "2020-10-13T23:52:28.123351Z"
    },
    "papermill": {
     "duration": 43.201856,
     "end_time": "2020-10-13T23:52:28.125552",
     "exception": false,
     "start_time": "2020-10-13T23:51:44.923696",
     "status": "completed"
    },
    "tags": []
   },
   "outputs": [
    {
     "name": "stderr",
     "output_type": "stream",
     "text": [
      "\n",
      "Attaching package: ‘dplyr’\n",
      "\n",
      "\n",
      "The following objects are masked from ‘package:stats’:\n",
      "\n",
      "    filter, lag\n",
      "\n",
      "\n",
      "The following objects are masked from ‘package:base’:\n",
      "\n",
      "    intersect, setdiff, setequal, union\n",
      "\n",
      "\n",
      "\n",
      "Attaching package: ‘gridExtra’\n",
      "\n",
      "\n",
      "The following object is masked from ‘package:dplyr’:\n",
      "\n",
      "    combine\n",
      "\n",
      "\n",
      "Installing package into ‘/usr/local/lib/R/site-library’\n",
      "(as ‘lib’ is unspecified)\n",
      "\n",
      "\n",
      "Attaching package: ‘kableExtra’\n",
      "\n",
      "\n",
      "The following object is masked from ‘package:dplyr’:\n",
      "\n",
      "    group_rows\n",
      "\n",
      "\n",
      "Loading required package: lattice\n",
      "\n",
      "\n",
      "Attaching package: ‘caret’\n",
      "\n",
      "\n",
      "The following object is masked from ‘package:httr’:\n",
      "\n",
      "    progress\n",
      "\n",
      "\n",
      "Loading required package: carData\n",
      "\n",
      "\n",
      "Attaching package: ‘car’\n",
      "\n",
      "\n",
      "The following object is masked from ‘package:dplyr’:\n",
      "\n",
      "    recode\n",
      "\n",
      "\n",
      "Installing package into ‘/usr/local/lib/R/site-library’\n",
      "(as ‘lib’ is unspecified)\n",
      "\n",
      "Installing package into ‘/usr/local/lib/R/site-library’\n",
      "(as ‘lib’ is unspecified)\n",
      "\n",
      "Installing package into ‘/usr/local/lib/R/site-library’\n",
      "(as ‘lib’ is unspecified)\n",
      "\n"
     ]
    }
   ],
   "source": [
    "# data manipulation \n",
    "library(dplyr)\n",
    "library(readr)\n",
    "library(broom) \n",
    "\n",
    "# visualization \n",
    "library(ggplot2) \n",
    "library(RColorBrewer) \n",
    "library(gridExtra)\n",
    "library(wesanderson)\n",
    "install.packages(\"kableExtra\") \n",
    "library(kableExtra)\n",
    "\n",
    "# classification and model testing \n",
    "library(caret) \n",
    "library(car) \n",
    "install.packages(\"tidypredict\") \n",
    "library(tidypredict)\n",
    "install.packages(\"Information\")\n",
    "library(Information)\n",
    "install.packages(\"caTools\")\n",
    "library(caTools)\n",
    "library(class)"
   ]
  },
  {
   "cell_type": "markdown",
   "metadata": {
    "papermill": {
     "duration": 0.055406,
     "end_time": "2020-10-13T23:52:28.237114",
     "exception": false,
     "start_time": "2020-10-13T23:52:28.181708",
     "status": "completed"
    },
    "tags": []
   },
   "source": [
    "Import dataset and view the column headings. "
   ]
  },
  {
   "cell_type": "code",
   "execution_count": 2,
   "metadata": {
    "_kg_hide-output": true,
    "execution": {
     "iopub.execute_input": "2020-10-13T23:52:28.386951Z",
     "iopub.status.busy": "2020-10-13T23:52:28.349131Z",
     "iopub.status.idle": "2020-10-13T23:52:28.753111Z",
     "shell.execute_reply": "2020-10-13T23:52:28.751588Z"
    },
    "papermill": {
     "duration": 0.463772,
     "end_time": "2020-10-13T23:52:28.753282",
     "exception": false,
     "start_time": "2020-10-13T23:52:28.289510",
     "status": "completed"
    },
    "tags": []
   },
   "outputs": [
    {
     "name": "stderr",
     "output_type": "stream",
     "text": [
      "Parsed with column specification:\n",
      "cols(\n",
      "  .default = col_double(),\n",
      "  Attrition = \u001b[31mcol_character()\u001b[39m,\n",
      "  BusinessTravel = \u001b[31mcol_character()\u001b[39m,\n",
      "  Department = \u001b[31mcol_character()\u001b[39m,\n",
      "  EducationField = \u001b[31mcol_character()\u001b[39m,\n",
      "  Gender = \u001b[31mcol_character()\u001b[39m,\n",
      "  JobRole = \u001b[31mcol_character()\u001b[39m,\n",
      "  MaritalStatus = \u001b[31mcol_character()\u001b[39m,\n",
      "  Over18 = \u001b[31mcol_character()\u001b[39m,\n",
      "  OverTime = \u001b[31mcol_character()\u001b[39m\n",
      ")\n",
      "\n",
      "See spec(...) for full column specifications.\n",
      "\n"
     ]
    },
    {
     "data": {
      "text/html": [
       "<table class=\"dataframe\">\n",
       "<caption>A tibble: 6 × 35</caption>\n",
       "<thead>\n",
       "\t<tr><th scope=col>Age</th><th scope=col>Attrition</th><th scope=col>BusinessTravel</th><th scope=col>DailyRate</th><th scope=col>Department</th><th scope=col>DistanceFromHome</th><th scope=col>Education</th><th scope=col>EducationField</th><th scope=col>EmployeeCount</th><th scope=col>EmployeeNumber</th><th scope=col>⋯</th><th scope=col>RelationshipSatisfaction</th><th scope=col>StandardHours</th><th scope=col>StockOptionLevel</th><th scope=col>TotalWorkingYears</th><th scope=col>TrainingTimesLastYear</th><th scope=col>WorkLifeBalance</th><th scope=col>YearsAtCompany</th><th scope=col>YearsInCurrentRole</th><th scope=col>YearsSinceLastPromotion</th><th scope=col>YearsWithCurrManager</th></tr>\n",
       "\t<tr><th scope=col>&lt;dbl&gt;</th><th scope=col>&lt;chr&gt;</th><th scope=col>&lt;chr&gt;</th><th scope=col>&lt;dbl&gt;</th><th scope=col>&lt;chr&gt;</th><th scope=col>&lt;dbl&gt;</th><th scope=col>&lt;dbl&gt;</th><th scope=col>&lt;chr&gt;</th><th scope=col>&lt;dbl&gt;</th><th scope=col>&lt;dbl&gt;</th><th scope=col>⋯</th><th scope=col>&lt;dbl&gt;</th><th scope=col>&lt;dbl&gt;</th><th scope=col>&lt;dbl&gt;</th><th scope=col>&lt;dbl&gt;</th><th scope=col>&lt;dbl&gt;</th><th scope=col>&lt;dbl&gt;</th><th scope=col>&lt;dbl&gt;</th><th scope=col>&lt;dbl&gt;</th><th scope=col>&lt;dbl&gt;</th><th scope=col>&lt;dbl&gt;</th></tr>\n",
       "</thead>\n",
       "<tbody>\n",
       "\t<tr><td>41</td><td>Yes</td><td>Travel_Rarely    </td><td>1102</td><td>Sales                 </td><td>1</td><td>2</td><td>Life Sciences</td><td>1</td><td>1</td><td>⋯</td><td>1</td><td>80</td><td>0</td><td> 8</td><td>0</td><td>1</td><td> 6</td><td>4</td><td>0</td><td>5</td></tr>\n",
       "\t<tr><td>49</td><td>No </td><td>Travel_Frequently</td><td> 279</td><td>Research &amp; Development</td><td>8</td><td>1</td><td>Life Sciences</td><td>1</td><td>2</td><td>⋯</td><td>4</td><td>80</td><td>1</td><td>10</td><td>3</td><td>3</td><td>10</td><td>7</td><td>1</td><td>7</td></tr>\n",
       "\t<tr><td>37</td><td>Yes</td><td><span style=white-space:pre-wrap>Travel_Rarely    </span></td><td>1373</td><td>Research &amp; Development</td><td>2</td><td>2</td><td><span style=white-space:pre-wrap>Other        </span></td><td>1</td><td>4</td><td>⋯</td><td>2</td><td>80</td><td>0</td><td> 7</td><td>3</td><td>3</td><td> 0</td><td>0</td><td>0</td><td>0</td></tr>\n",
       "\t<tr><td>33</td><td>No </td><td>Travel_Frequently</td><td>1392</td><td>Research &amp; Development</td><td>3</td><td>4</td><td>Life Sciences</td><td>1</td><td>5</td><td>⋯</td><td>3</td><td>80</td><td>0</td><td> 8</td><td>3</td><td>3</td><td> 8</td><td>7</td><td>3</td><td>0</td></tr>\n",
       "\t<tr><td>27</td><td>No </td><td><span style=white-space:pre-wrap>Travel_Rarely    </span></td><td> 591</td><td>Research &amp; Development</td><td>2</td><td>1</td><td><span style=white-space:pre-wrap>Medical      </span></td><td>1</td><td>7</td><td>⋯</td><td>4</td><td>80</td><td>1</td><td> 6</td><td>3</td><td>3</td><td> 2</td><td>2</td><td>2</td><td>2</td></tr>\n",
       "\t<tr><td>32</td><td>No </td><td>Travel_Frequently</td><td>1005</td><td>Research &amp; Development</td><td>2</td><td>2</td><td>Life Sciences</td><td>1</td><td>8</td><td>⋯</td><td>3</td><td>80</td><td>0</td><td> 8</td><td>2</td><td>2</td><td> 7</td><td>7</td><td>3</td><td>6</td></tr>\n",
       "</tbody>\n",
       "</table>\n"
      ],
      "text/latex": [
       "A tibble: 6 × 35\n",
       "\\begin{tabular}{lllllllllllllllllllll}\n",
       " Age & Attrition & BusinessTravel & DailyRate & Department & DistanceFromHome & Education & EducationField & EmployeeCount & EmployeeNumber & ⋯ & RelationshipSatisfaction & StandardHours & StockOptionLevel & TotalWorkingYears & TrainingTimesLastYear & WorkLifeBalance & YearsAtCompany & YearsInCurrentRole & YearsSinceLastPromotion & YearsWithCurrManager\\\\\n",
       " <dbl> & <chr> & <chr> & <dbl> & <chr> & <dbl> & <dbl> & <chr> & <dbl> & <dbl> & ⋯ & <dbl> & <dbl> & <dbl> & <dbl> & <dbl> & <dbl> & <dbl> & <dbl> & <dbl> & <dbl>\\\\\n",
       "\\hline\n",
       "\t 41 & Yes & Travel\\_Rarely     & 1102 & Sales                  & 1 & 2 & Life Sciences & 1 & 1 & ⋯ & 1 & 80 & 0 &  8 & 0 & 1 &  6 & 4 & 0 & 5\\\\\n",
       "\t 49 & No  & Travel\\_Frequently &  279 & Research \\& Development & 8 & 1 & Life Sciences & 1 & 2 & ⋯ & 4 & 80 & 1 & 10 & 3 & 3 & 10 & 7 & 1 & 7\\\\\n",
       "\t 37 & Yes & Travel\\_Rarely     & 1373 & Research \\& Development & 2 & 2 & Other         & 1 & 4 & ⋯ & 2 & 80 & 0 &  7 & 3 & 3 &  0 & 0 & 0 & 0\\\\\n",
       "\t 33 & No  & Travel\\_Frequently & 1392 & Research \\& Development & 3 & 4 & Life Sciences & 1 & 5 & ⋯ & 3 & 80 & 0 &  8 & 3 & 3 &  8 & 7 & 3 & 0\\\\\n",
       "\t 27 & No  & Travel\\_Rarely     &  591 & Research \\& Development & 2 & 1 & Medical       & 1 & 7 & ⋯ & 4 & 80 & 1 &  6 & 3 & 3 &  2 & 2 & 2 & 2\\\\\n",
       "\t 32 & No  & Travel\\_Frequently & 1005 & Research \\& Development & 2 & 2 & Life Sciences & 1 & 8 & ⋯ & 3 & 80 & 0 &  8 & 2 & 2 &  7 & 7 & 3 & 6\\\\\n",
       "\\end{tabular}\n"
      ],
      "text/markdown": [
       "\n",
       "A tibble: 6 × 35\n",
       "\n",
       "| Age &lt;dbl&gt; | Attrition &lt;chr&gt; | BusinessTravel &lt;chr&gt; | DailyRate &lt;dbl&gt; | Department &lt;chr&gt; | DistanceFromHome &lt;dbl&gt; | Education &lt;dbl&gt; | EducationField &lt;chr&gt; | EmployeeCount &lt;dbl&gt; | EmployeeNumber &lt;dbl&gt; | ⋯ ⋯ | RelationshipSatisfaction &lt;dbl&gt; | StandardHours &lt;dbl&gt; | StockOptionLevel &lt;dbl&gt; | TotalWorkingYears &lt;dbl&gt; | TrainingTimesLastYear &lt;dbl&gt; | WorkLifeBalance &lt;dbl&gt; | YearsAtCompany &lt;dbl&gt; | YearsInCurrentRole &lt;dbl&gt; | YearsSinceLastPromotion &lt;dbl&gt; | YearsWithCurrManager &lt;dbl&gt; |\n",
       "|---|---|---|---|---|---|---|---|---|---|---|---|---|---|---|---|---|---|---|---|---|\n",
       "| 41 | Yes | Travel_Rarely     | 1102 | Sales                  | 1 | 2 | Life Sciences | 1 | 1 | ⋯ | 1 | 80 | 0 |  8 | 0 | 1 |  6 | 4 | 0 | 5 |\n",
       "| 49 | No  | Travel_Frequently |  279 | Research &amp; Development | 8 | 1 | Life Sciences | 1 | 2 | ⋯ | 4 | 80 | 1 | 10 | 3 | 3 | 10 | 7 | 1 | 7 |\n",
       "| 37 | Yes | Travel_Rarely     | 1373 | Research &amp; Development | 2 | 2 | Other         | 1 | 4 | ⋯ | 2 | 80 | 0 |  7 | 3 | 3 |  0 | 0 | 0 | 0 |\n",
       "| 33 | No  | Travel_Frequently | 1392 | Research &amp; Development | 3 | 4 | Life Sciences | 1 | 5 | ⋯ | 3 | 80 | 0 |  8 | 3 | 3 |  8 | 7 | 3 | 0 |\n",
       "| 27 | No  | Travel_Rarely     |  591 | Research &amp; Development | 2 | 1 | Medical       | 1 | 7 | ⋯ | 4 | 80 | 1 |  6 | 3 | 3 |  2 | 2 | 2 | 2 |\n",
       "| 32 | No  | Travel_Frequently | 1005 | Research &amp; Development | 2 | 2 | Life Sciences | 1 | 8 | ⋯ | 3 | 80 | 0 |  8 | 2 | 2 |  7 | 7 | 3 | 6 |\n",
       "\n"
      ],
      "text/plain": [
       "  Age Attrition BusinessTravel    DailyRate Department            \n",
       "1 41  Yes       Travel_Rarely     1102      Sales                 \n",
       "2 49  No        Travel_Frequently  279      Research & Development\n",
       "3 37  Yes       Travel_Rarely     1373      Research & Development\n",
       "4 33  No        Travel_Frequently 1392      Research & Development\n",
       "5 27  No        Travel_Rarely      591      Research & Development\n",
       "6 32  No        Travel_Frequently 1005      Research & Development\n",
       "  DistanceFromHome Education EducationField EmployeeCount EmployeeNumber ⋯\n",
       "1 1                2         Life Sciences  1             1              ⋯\n",
       "2 8                1         Life Sciences  1             2              ⋯\n",
       "3 2                2         Other          1             4              ⋯\n",
       "4 3                4         Life Sciences  1             5              ⋯\n",
       "5 2                1         Medical        1             7              ⋯\n",
       "6 2                2         Life Sciences  1             8              ⋯\n",
       "  RelationshipSatisfaction StandardHours StockOptionLevel TotalWorkingYears\n",
       "1 1                        80            0                 8               \n",
       "2 4                        80            1                10               \n",
       "3 2                        80            0                 7               \n",
       "4 3                        80            0                 8               \n",
       "5 4                        80            1                 6               \n",
       "6 3                        80            0                 8               \n",
       "  TrainingTimesLastYear WorkLifeBalance YearsAtCompany YearsInCurrentRole\n",
       "1 0                     1                6             4                 \n",
       "2 3                     3               10             7                 \n",
       "3 3                     3                0             0                 \n",
       "4 3                     3                8             7                 \n",
       "5 3                     3                2             2                 \n",
       "6 2                     2                7             7                 \n",
       "  YearsSinceLastPromotion YearsWithCurrManager\n",
       "1 0                       5                   \n",
       "2 1                       7                   \n",
       "3 0                       0                   \n",
       "4 3                       0                   \n",
       "5 2                       2                   \n",
       "6 3                       6                   "
      ]
     },
     "metadata": {},
     "output_type": "display_data"
    }
   ],
   "source": [
    "employee_data <- read_csv(\"../input/ibm-hr-analytics-attrition-dataset/WA_Fn-UseC_-HR-Employee-Attrition.csv\")\n",
    "head(employee_data)"
   ]
  },
  {
   "cell_type": "markdown",
   "metadata": {
    "papermill": {
     "duration": 0.054748,
     "end_time": "2020-10-13T23:52:28.863132",
     "exception": false,
     "start_time": "2020-10-13T23:52:28.808384",
     "status": "completed"
    },
    "tags": []
   },
   "source": [
    "Explore data columns that can be removed."
   ]
  },
  {
   "cell_type": "code",
   "execution_count": 3,
   "metadata": {
    "execution": {
     "iopub.execute_input": "2020-10-13T23:52:28.978179Z",
     "iopub.status.busy": "2020-10-13T23:52:28.976865Z",
     "iopub.status.idle": "2020-10-13T23:52:29.009146Z",
     "shell.execute_reply": "2020-10-13T23:52:29.007775Z"
    },
    "papermill": {
     "duration": 0.091381,
     "end_time": "2020-10-13T23:52:29.009327",
     "exception": false,
     "start_time": "2020-10-13T23:52:28.917946",
     "status": "completed"
    },
    "tags": []
   },
   "outputs": [],
   "source": [
    "employee_filter <- employee_data %>% \n",
    "  select(-c(\"Over18\", \"StandardHours\", \"EmployeeCount\"))  "
   ]
  },
  {
   "cell_type": "markdown",
   "metadata": {
    "papermill": {
     "duration": 0.055436,
     "end_time": "2020-10-13T23:52:29.119438",
     "exception": false,
     "start_time": "2020-10-13T23:52:29.064002",
     "status": "completed"
    },
    "tags": []
   },
   "source": [
    "Convert data types in columns: "
   ]
  },
  {
   "cell_type": "code",
   "execution_count": 4,
   "metadata": {
    "execution": {
     "iopub.execute_input": "2020-10-13T23:52:29.235038Z",
     "iopub.status.busy": "2020-10-13T23:52:29.233485Z",
     "iopub.status.idle": "2020-10-13T23:52:29.287444Z",
     "shell.execute_reply": "2020-10-13T23:52:29.286328Z"
    },
    "papermill": {
     "duration": 0.113618,
     "end_time": "2020-10-13T23:52:29.287655",
     "exception": false,
     "start_time": "2020-10-13T23:52:29.174037",
     "status": "completed"
    },
    "tags": []
   },
   "outputs": [],
   "source": [
    "cols <-c(\"BusinessTravel\", \"Education\", \"Gender\", \"JobLevel\") \n",
    "employee_filter[cols] <- lapply(employee_filter[cols], factor)\n",
    "\n",
    "\n",
    "# convert Attrition to numeric \n",
    "employee_filter <- employee_filter %>%\n",
    "  mutate(turnover = ifelse(Attrition == \"Yes\", 1, 0)) \n"
   ]
  },
  {
   "cell_type": "markdown",
   "metadata": {
    "papermill": {
     "duration": 0.055478,
     "end_time": "2020-10-13T23:52:29.397830",
     "exception": false,
     "start_time": "2020-10-13T23:52:29.342352",
     "status": "completed"
    },
    "tags": []
   },
   "source": [
    "**II) Exploratory Data Analysis **\n",
    "\n",
    "\n",
    "The following graphs breakdown attrition by organizational subgroups and demographic characteristics to generate an initial sense of the profile of turnover in this company. \n",
    "\n",
    "The first graph indicates that there are 1,233 active employees and 237 inactive employees in the dataset (n = 1470). The data on inactive employees will be used in the machine learning portions of this notebook as predictions about the likelihood of attrition rates in the remaining workforce are developed. \n"
   ]
  },
  {
   "cell_type": "code",
   "execution_count": 5,
   "metadata": {
    "_kg_hide-input": true,
    "execution": {
     "iopub.execute_input": "2020-10-13T23:52:29.512974Z",
     "iopub.status.busy": "2020-10-13T23:52:29.511670Z",
     "iopub.status.idle": "2020-10-13T23:52:30.186377Z",
     "shell.execute_reply": "2020-10-13T23:52:30.184624Z"
    },
    "papermill": {
     "duration": 0.733793,
     "end_time": "2020-10-13T23:52:30.186612",
     "exception": false,
     "start_time": "2020-10-13T23:52:29.452819",
     "status": "completed"
    },
    "tags": []
   },
   "outputs": [
    {
     "data": {
      "image/png": "[encoded data removed]"
     },
     "metadata": {
      "image/png": {
       "height": 480,
       "width": 480
      }
     },
     "output_type": "display_data"
    }
   ],
   "source": [
    "options(repr.plot.width = 8, repr.plot.height = 8)\n",
    "employee_filter %>%\n",
    "  group_by(Attrition) %>%\n",
    "  ggplot(aes(factor(Attrition))) + geom_bar(aes(fill = Attrition)) + \n",
    "  scale_x_discrete(labels = c(\"Active\", \"Inactive\")) + \n",
    "  theme(axis.title.x = element_blank()) + ylab(\"Employee Count\") + \n",
    "  theme(legend.position = \"none\") + \n",
    "  geom_text(stat = \"count\", aes(label = ..count..), vjust = -.5) + \n",
    "  theme(text = element_text(size = 15)) + \n",
    "  ggtitle(\"Total Active and Inactive Employees in Sample\") + \n",
    "  scale_fill_brewer(palette = \"Paired\")"
   ]
  },
  {
   "cell_type": "markdown",
   "metadata": {
    "papermill": {
     "duration": 0.056358,
     "end_time": "2020-10-13T23:52:30.300199",
     "exception": false,
     "start_time": "2020-10-13T23:52:30.243841",
     "status": "completed"
    },
    "tags": []
   },
   "source": [
    "Turnover rate by Department "
   ]
  },
  {
   "cell_type": "code",
   "execution_count": 6,
   "metadata": {
    "_kg_hide-input": true,
    "execution": {
     "iopub.execute_input": "2020-10-13T23:52:30.418952Z",
     "iopub.status.busy": "2020-10-13T23:52:30.417137Z",
     "iopub.status.idle": "2020-10-13T23:52:30.943824Z",
     "shell.execute_reply": "2020-10-13T23:52:30.942392Z"
    },
    "papermill": {
     "duration": 0.587978,
     "end_time": "2020-10-13T23:52:30.944026",
     "exception": false,
     "start_time": "2020-10-13T23:52:30.356048",
     "status": "completed"
    },
    "tags": []
   },
   "outputs": [
    {
     "data": {
      "image/png": "[encoded data removed]"
     },
     "metadata": {
      "image/png": {
       "height": 480,
       "width": 480
      }
     },
     "output_type": "display_data"
    }
   ],
   "source": [
    "employee_filter %>%\n",
    "  group_by(Department) %>%\n",
    "  summarize(turnover_rate = mean(turnover), .groups = 'drop') %>%\n",
    "  ggplot(aes(x = reorder(Department, -turnover_rate),y = turnover_rate)) + \n",
    "  geom_bar(stat = \"identity\", aes(fill = Department)) + \n",
    "  theme(axis.title.x = element_blank()) + ylab(\"Turnover Rate\") + \n",
    "  scale_x_discrete(labels = c(\"Sales\", \"HR\", \"R&D\")) + \n",
    "  ggtitle(\"Turnover Rate by Department\")  + scale_fill_brewer(palette = \"Paired\") + \n",
    "  theme(text = element_text(size = 15)) "
   ]
  },
  {
   "cell_type": "markdown",
   "metadata": {
    "papermill": {
     "duration": 0.0577,
     "end_time": "2020-10-13T23:52:31.060418",
     "exception": false,
     "start_time": "2020-10-13T23:52:31.002718",
     "status": "completed"
    },
    "tags": []
   },
   "source": [
    "Turnover rate by Gender "
   ]
  },
  {
   "cell_type": "code",
   "execution_count": 7,
   "metadata": {
    "_kg_hide-input": true,
    "execution": {
     "iopub.execute_input": "2020-10-13T23:52:31.183805Z",
     "iopub.status.busy": "2020-10-13T23:52:31.181892Z",
     "iopub.status.idle": "2020-10-13T23:52:31.464182Z",
     "shell.execute_reply": "2020-10-13T23:52:31.462711Z"
    },
    "papermill": {
     "duration": 0.344525,
     "end_time": "2020-10-13T23:52:31.464340",
     "exception": false,
     "start_time": "2020-10-13T23:52:31.119815",
     "status": "completed"
    },
    "tags": []
   },
   "outputs": [
    {
     "data": {
      "image/png": "[encoded data removed]"
     },
     "metadata": {
      "image/png": {
       "height": 480,
       "width": 480
      }
     },
     "output_type": "display_data"
    }
   ],
   "source": [
    "employee_filter %>%\n",
    "  group_by(Gender) %>%\n",
    "  summarize(turnover_rate = mean(turnover), .groups = 'drop') %>%\n",
    "  ggplot(aes(Gender, turnover_rate))  + \n",
    "  geom_bar(stat = \"identity\", aes(fill = Gender)) + \n",
    "  theme(axis.title.x = element_blank()) + ylab(\"Turnover Rate\") + \n",
    "  theme(legend.position = \"none\") + scale_fill_brewer(palette = \"Paired\") + \n",
    "  ggtitle(\"Turnover Rate by Gender\") + \n",
    "  theme(text = element_text(size = 15)) "
   ]
  },
  {
   "cell_type": "markdown",
   "metadata": {
    "papermill": {
     "duration": 0.059064,
     "end_time": "2020-10-13T23:52:31.583160",
     "exception": false,
     "start_time": "2020-10-13T23:52:31.524096",
     "status": "completed"
    },
    "tags": []
   },
   "source": [
    "Turnover rate by Job Level "
   ]
  },
  {
   "cell_type": "code",
   "execution_count": 8,
   "metadata": {
    "_kg_hide-input": true,
    "execution": {
     "iopub.execute_input": "2020-10-13T23:52:31.709097Z",
     "iopub.status.busy": "2020-10-13T23:52:31.707322Z",
     "iopub.status.idle": "2020-10-13T23:52:31.988434Z",
     "shell.execute_reply": "2020-10-13T23:52:31.987003Z"
    },
    "papermill": {
     "duration": 0.344666,
     "end_time": "2020-10-13T23:52:31.988620",
     "exception": false,
     "start_time": "2020-10-13T23:52:31.643954",
     "status": "completed"
    },
    "tags": []
   },
   "outputs": [
    {
     "data": {
      "image/png": "[encoded data removed]"
     },
     "metadata": {
      "image/png": {
       "height": 480,
       "width": 480
      }
     },
     "output_type": "display_data"
    }
   ],
   "source": [
    "employee_filter %>%\n",
    "  group_by(JobLevel) %>%\n",
    "  summarize(turnover_rate = mean(turnover), .groups = 'drop') %>%\n",
    "  ggplot(aes(JobLevel, turnover_rate))  + \n",
    "  geom_bar(stat = \"identity\", aes(fill = JobLevel)) + \n",
    "  theme(axis.title.x = element_blank()) + ylab(\"Turnover Rate\") +\n",
    "  theme(legend.position = \"none\") + scale_fill_brewer(palette = \"Paired\") + \n",
    "ggtitle(\"Turnover Rate by Job Level\") + \n",
    "  theme(text = element_text(size = 15)) "
   ]
  },
  {
   "cell_type": "markdown",
   "metadata": {
    "papermill": {
     "duration": 0.062491,
     "end_time": "2020-10-13T23:52:32.113250",
     "exception": false,
     "start_time": "2020-10-13T23:52:32.050759",
     "status": "completed"
    },
    "tags": []
   },
   "source": [
    "The following combined plots indicate the total employee counts by gender and job characteritics for the overall data set. We see that the number of employees by department are not equal, which is worth considering in the statistical analyses portions of this notebook as the models may need more data in the future from under-represented departments. "
   ]
  },
  {
   "cell_type": "code",
   "execution_count": 9,
   "metadata": {
    "_kg_hide-input": true,
    "execution": {
     "iopub.execute_input": "2020-10-13T23:52:32.242419Z",
     "iopub.status.busy": "2020-10-13T23:52:32.240496Z",
     "iopub.status.idle": "2020-10-13T23:52:33.086148Z",
     "shell.execute_reply": "2020-10-13T23:52:33.084462Z"
    },
    "papermill": {
     "duration": 0.912492,
     "end_time": "2020-10-13T23:52:33.086314",
     "exception": false,
     "start_time": "2020-10-13T23:52:32.173822",
     "status": "completed"
    },
    "tags": []
   },
   "outputs": [
    {
     "data": {
      "image/png": "[encoded data removed]"
     },
     "metadata": {
      "image/png": {
       "height": 480,
       "width": 480
      }
     },
     "output_type": "display_data"
    }
   ],
   "source": [
    "gender_count <- employee_filter %>%\n",
    "  count(Gender) %>%\n",
    "  ggplot(aes(x = Gender, y = n, fill = Gender)) + \n",
    "  geom_bar(stat = \"identity\") + theme(legend.position = \"none\") + \n",
    "  scale_fill_brewer(palette = \"Paired\")  + ylab(\"Count\") +\n",
    "  theme(axis.title.y = element_blank()) + \n",
    "  theme(text = element_text(size = 15))\n",
    "\n",
    "department_count <- employee_filter %>%\n",
    "  count(Department) %>%\n",
    "  ggplot(aes(x = Department, y = n, fill = Department)) + \n",
    "  geom_bar(stat = \"identity\") + \n",
    "  theme(axis.text.x = element_blank(), legend.position = \"none\") +\n",
    "  scale_fill_brewer(palette = \"Paired\") +\n",
    "  theme(axis.title.y = element_blank()) + \n",
    "  theme(text = element_text(size = 15))\n",
    "\n",
    "level_count <- employee_filter %>%\n",
    "  count(JobLevel) %>%\n",
    "  ggplot(aes(x = JobLevel, y = n, fill = JobLevel)) + \n",
    "  geom_bar(stat = \"identity\") + theme(legend.position = \"none\") + \n",
    "  scale_fill_brewer(palette = \"Paired\") +\n",
    "  theme(axis.title.y = element_blank())+ \n",
    "  theme(text = element_text(size = 15))\n",
    "\n",
    "role_count <- employee_filter %>%\n",
    "  count(JobRole) %>%\n",
    "  ggplot(aes(x = JobRole, y = n, fill = JobRole)) + \n",
    "  geom_bar(stat = \"identity\") +\n",
    "  theme(axis.text.x = element_blank(), legend.position = \"none\") + \n",
    "  scale_fill_brewer(palette = \"Paired\") +\n",
    "  theme(axis.title.y = element_blank()) + \n",
    "  theme(text = element_text(size = 15))\n",
    "\n",
    "grid.arrange(gender_count, department_count, level_count, role_count) \n"
   ]
  },
  {
   "cell_type": "markdown",
   "metadata": {
    "papermill": {
     "duration": 0.063054,
     "end_time": "2020-10-13T23:52:33.211608",
     "exception": false,
     "start_time": "2020-10-13T23:52:33.148554",
     "status": "completed"
    },
    "tags": []
   },
   "source": [
    "The next combined plot represents the same counts but now with just active employees. The counts of active employees only look similar to the combined plots above with the exception of Job Level 1, an entry-level position, which has relatively less active employees in proportion to the whole than in the total employee counts above. "
   ]
  },
  {
   "cell_type": "code",
   "execution_count": 10,
   "metadata": {
    "_kg_hide-input": true,
    "execution": {
     "iopub.execute_input": "2020-10-13T23:52:33.343969Z",
     "iopub.status.busy": "2020-10-13T23:52:33.341991Z",
     "iopub.status.idle": "2020-10-13T23:52:34.315084Z",
     "shell.execute_reply": "2020-10-13T23:52:34.314219Z"
    },
    "papermill": {
     "duration": 1.040429,
     "end_time": "2020-10-13T23:52:34.315554",
     "exception": false,
     "start_time": "2020-10-13T23:52:33.275125",
     "status": "completed"
    },
    "tags": []
   },
   "outputs": [
    {
     "data": {
      "image/png": "[encoded data removed]"
     },
     "metadata": {
      "image/png": {
       "height": 480,
       "width": 480
      }
     },
     "output_type": "display_data"
    }
   ],
   "source": [
    "gender_current <- employee_filter %>%\n",
    "  filter(Attrition == \"No\") %>%\n",
    "  count(Gender) %>%\n",
    "  ggplot(aes(x = Gender, y = n, fill = Gender)) + \n",
    "  geom_bar(stat = \"identity\") + theme(legend.position = \"none\") + \n",
    "  ylab(\"\") + scale_fill_brewer(palette = \"Paired\") + \n",
    "  theme(text = element_text(size = 15))\n",
    "\n",
    "department_current <- employee_filter %>%\n",
    "  filter(Attrition == \"No\") %>%\n",
    "  count(Department) %>%\n",
    "  ggplot(aes(x = Department, y = n, fill = Department)) + \n",
    "  geom_bar(stat = \"identity\") + \n",
    "  theme(axis.text.x = element_blank(), legend.position = \"none\") + \n",
    "  ylab(\"\") + scale_fill_brewer(palette = \"Paired\") + \n",
    "  theme(text = element_text(size = 15))\n",
    "\n",
    "level_current <- employee_filter %>%\n",
    "  filter(Attrition == \"No\") %>%\n",
    "  count(JobLevel) %>%\n",
    "  ggplot(aes(x = JobLevel, y = n, fill = JobLevel)) + \n",
    "  geom_bar(stat = \"identity\") + theme(legend.position = \"none\") + \n",
    "  ylab(\"\") + scale_fill_brewer(palette = \"Paired\") + \n",
    "  theme(text = element_text(size = 15))\n",
    "\n",
    "role_current <- employee_filter %>%\n",
    "  filter(Attrition == \"No\") %>%\n",
    "  count(JobRole) %>%\n",
    "  ggplot(aes(x = JobRole, y = n, fill = JobRole)) + \n",
    "  geom_bar(stat = \"identity\") +\n",
    "  theme(axis.text.x = element_blank(), legend.position = \"none\") + \n",
    "  ylab(\"\") + scale_fill_brewer(palette = \"Paired\") + \n",
    "  theme(text = element_text(size = 15))\n",
    "\n",
    "grid.arrange(gender_current, department_current, level_current, role_current, \n",
    "             top = \"Employee Counts - Current Employees Only\")\n"
   ]
  },
  {
   "cell_type": "markdown",
   "metadata": {
    "papermill": {
     "duration": 0.064937,
     "end_time": "2020-10-13T23:52:34.456415",
     "exception": false,
     "start_time": "2020-10-13T23:52:34.391478",
     "status": "completed"
    },
    "tags": []
   },
   "source": [
    "**III) Feature Engineering **\n",
    "\n",
    "\n",
    "In this section of the notebook, I create a new version of the dataset called 'employee'. I continually re-call 'employee' as I add new metrics through feature engineering. Those new metrics include the following: "
   ]
  },
  {
   "cell_type": "code",
   "execution_count": 11,
   "metadata": {
    "execution": {
     "iopub.execute_input": "2020-10-13T23:52:34.596721Z",
     "iopub.status.busy": "2020-10-13T23:52:34.594718Z",
     "iopub.status.idle": "2020-10-13T23:52:34.616983Z",
     "shell.execute_reply": "2020-10-13T23:52:34.615187Z"
    },
    "papermill": {
     "duration": 0.09536,
     "end_time": "2020-10-13T23:52:34.617276",
     "exception": false,
     "start_time": "2020-10-13T23:52:34.521916",
     "status": "completed"
    },
    "tags": []
   },
   "outputs": [],
   "source": [
    "# High Potentials \n",
    "employee <- employee_filter %>%\n",
    "  mutate(hipo = ifelse(PerformanceRating == \"4\", 1, 0)) "
   ]
  },
  {
   "cell_type": "markdown",
   "metadata": {
    "papermill": {
     "duration": 0.07844,
     "end_time": "2020-10-13T23:52:34.769642",
     "exception": false,
     "start_time": "2020-10-13T23:52:34.691202",
     "status": "completed"
    },
    "tags": []
   },
   "source": [
    "Disengaged Employees "
   ]
  },
  {
   "cell_type": "code",
   "execution_count": 12,
   "metadata": {
    "execution": {
     "iopub.execute_input": "2020-10-13T23:52:34.922359Z",
     "iopub.status.busy": "2020-10-13T23:52:34.920855Z",
     "iopub.status.idle": "2020-10-13T23:52:34.992529Z",
     "shell.execute_reply": "2020-10-13T23:52:34.991102Z"
    },
    "papermill": {
     "duration": 0.15782,
     "end_time": "2020-10-13T23:52:34.992748",
     "exception": false,
     "start_time": "2020-10-13T23:52:34.834928",
     "status": "completed"
    },
    "tags": []
   },
   "outputs": [
    {
     "data": {
      "text/html": [
       "<table class=\"dataframe\">\n",
       "<caption>A grouped_df: 2 × 2</caption>\n",
       "<thead>\n",
       "\t<tr><th scope=col>disengaged</th><th scope=col>n</th></tr>\n",
       "\t<tr><th scope=col>&lt;dbl&gt;</th><th scope=col>&lt;int&gt;</th></tr>\n",
       "</thead>\n",
       "<tbody>\n",
       "\t<tr><td>0</td><td>1181</td></tr>\n",
       "\t<tr><td>1</td><td> 289</td></tr>\n",
       "</tbody>\n",
       "</table>\n"
      ],
      "text/latex": [
       "A grouped\\_df: 2 × 2\n",
       "\\begin{tabular}{ll}\n",
       " disengaged & n\\\\\n",
       " <dbl> & <int>\\\\\n",
       "\\hline\n",
       "\t 0 & 1181\\\\\n",
       "\t 1 &  289\\\\\n",
       "\\end{tabular}\n"
      ],
      "text/markdown": [
       "\n",
       "A grouped_df: 2 × 2\n",
       "\n",
       "| disengaged &lt;dbl&gt; | n &lt;int&gt; |\n",
       "|---|---|\n",
       "| 0 | 1181 |\n",
       "| 1 |  289 |\n",
       "\n"
      ],
      "text/plain": [
       "  disengaged n   \n",
       "1 0          1181\n",
       "2 1           289"
      ]
     },
     "metadata": {},
     "output_type": "display_data"
    }
   ],
   "source": [
    "\n",
    "employee <- employee %>%\n",
    "  mutate(disengaged = ifelse(JobSatisfaction == \"1\", 1, 0)) \n",
    "\n",
    "employee %>%\n",
    "  group_by(disengaged) %>%\n",
    "count(disengaged)"
   ]
  },
  {
   "cell_type": "markdown",
   "metadata": {
    "papermill": {
     "duration": 0.066251,
     "end_time": "2020-10-13T23:52:35.136554",
     "exception": false,
     "start_time": "2020-10-13T23:52:35.070303",
     "status": "completed"
    },
    "tags": []
   },
   "source": [
    "Compensation Ratio - Comparison to Median Pay \n",
    "\n",
    "Median compensation ratio (compa ratio) is calculated as the proportion of an employee's overall monthly income to the median compensation of peers in their job level. The density distribution below shows the distribution of monthly income in the company by job level. "
   ]
  },
  {
   "cell_type": "code",
   "execution_count": 13,
   "metadata": {
    "execution": {
     "iopub.execute_input": "2020-10-13T23:52:35.274818Z",
     "iopub.status.busy": "2020-10-13T23:52:35.273348Z",
     "iopub.status.idle": "2020-10-13T23:52:36.003106Z",
     "shell.execute_reply": "2020-10-13T23:52:36.001735Z"
    },
    "papermill": {
     "duration": 0.800927,
     "end_time": "2020-10-13T23:52:36.003278",
     "exception": false,
     "start_time": "2020-10-13T23:52:35.202351",
     "status": "completed"
    },
    "tags": []
   },
   "outputs": [
    {
     "data": {
      "text/html": [
       "<table class=\"dataframe\">\n",
       "<caption>A grouped_df: 5 × 2</caption>\n",
       "<thead>\n",
       "\t<tr><th scope=col>JobLevel</th><th scope=col>median_comp</th></tr>\n",
       "\t<tr><th scope=col>&lt;fct&gt;</th><th scope=col>&lt;dbl&gt;</th></tr>\n",
       "</thead>\n",
       "<tbody>\n",
       "\t<tr><td>2</td><td> 5340</td></tr>\n",
       "\t<tr><td>1</td><td> 2670</td></tr>\n",
       "\t<tr><td>3</td><td> 9980</td></tr>\n",
       "\t<tr><td>4</td><td>16154</td></tr>\n",
       "\t<tr><td>5</td><td>19232</td></tr>\n",
       "</tbody>\n",
       "</table>\n"
      ],
      "text/latex": [
       "A grouped\\_df: 5 × 2\n",
       "\\begin{tabular}{ll}\n",
       " JobLevel & median\\_comp\\\\\n",
       " <fct> & <dbl>\\\\\n",
       "\\hline\n",
       "\t 2 &  5340\\\\\n",
       "\t 1 &  2670\\\\\n",
       "\t 3 &  9980\\\\\n",
       "\t 4 & 16154\\\\\n",
       "\t 5 & 19232\\\\\n",
       "\\end{tabular}\n"
      ],
      "text/markdown": [
       "\n",
       "A grouped_df: 5 × 2\n",
       "\n",
       "| JobLevel &lt;fct&gt; | median_comp &lt;dbl&gt; |\n",
       "|---|---|\n",
       "| 2 |  5340 |\n",
       "| 1 |  2670 |\n",
       "| 3 |  9980 |\n",
       "| 4 | 16154 |\n",
       "| 5 | 19232 |\n",
       "\n"
      ],
      "text/plain": [
       "  JobLevel median_comp\n",
       "1 2         5340      \n",
       "2 1         2670      \n",
       "3 3         9980      \n",
       "4 4        16154      \n",
       "5 5        19232      "
      ]
     },
     "metadata": {},
     "output_type": "display_data"
    },
    {
     "data": {
      "image/png": "[encoded data removed]"
     },
     "metadata": {
      "image/png": {
       "height": 480,
       "width": 480
      }
     },
     "output_type": "display_data"
    }
   ],
   "source": [
    "employee <- employee %>%\n",
    "  group_by(JobLevel) %>% \n",
    "  mutate(median_comp = median(MonthlyIncome), \n",
    "         compa_ratio = (MonthlyIncome/ median_comp))\n",
    "\n",
    "employee %>%\n",
    "  distinct(JobLevel, median_comp)\n",
    "\n",
    "employee <- employee %>%\n",
    "  mutate(compa_level = ifelse(compa_ratio > 1, \"Above\", \"Below\")) \n",
    "\n",
    "employee %>%\n",
    "  ggplot() + geom_density(aes(x = MonthlyIncome, fill = JobLevel)) + theme(text = element_text(size = 15)) + \n",
    "ggtitle(\"Distribution of Monthly Income by Job Level\") + \n",
    "scale_fill_brewer(palette = \"Paired\") \n"
   ]
  },
  {
   "cell_type": "markdown",
   "metadata": {
    "papermill": {
     "duration": 0.070181,
     "end_time": "2020-10-13T23:52:36.144045",
     "exception": false,
     "start_time": "2020-10-13T23:52:36.073864",
     "status": "completed"
    },
    "tags": []
   },
   "source": [
    "Annualized Salary\n",
    "\n",
    "Annualized salary is estimated by twelve times an employee's monthly income. The table below incidates the average annual salary at this company based on job level. "
   ]
  },
  {
   "cell_type": "code",
   "execution_count": 14,
   "metadata": {
    "execution": {
     "iopub.execute_input": "2020-10-13T23:52:36.289159Z",
     "iopub.status.busy": "2020-10-13T23:52:36.287555Z",
     "iopub.status.idle": "2020-10-13T23:52:36.322670Z",
     "shell.execute_reply": "2020-10-13T23:52:36.321251Z"
    },
    "papermill": {
     "duration": 0.109536,
     "end_time": "2020-10-13T23:52:36.322853",
     "exception": false,
     "start_time": "2020-10-13T23:52:36.213317",
     "status": "completed"
    },
    "tags": []
   },
   "outputs": [
    {
     "data": {
      "text/html": [
       "<table class=\"dataframe\">\n",
       "<caption>A tibble: 5 × 2</caption>\n",
       "<thead>\n",
       "\t<tr><th scope=col>JobLevel</th><th scope=col>avg_salary</th></tr>\n",
       "\t<tr><th scope=col>&lt;fct&gt;</th><th scope=col>&lt;dbl&gt;</th></tr>\n",
       "</thead>\n",
       "<tbody>\n",
       "\t<tr><td>1</td><td> 33442.98</td></tr>\n",
       "\t<tr><td>2</td><td> 66027.33</td></tr>\n",
       "\t<tr><td>3</td><td>117807.03</td></tr>\n",
       "\t<tr><td>4</td><td>186045.40</td></tr>\n",
       "\t<tr><td>5</td><td>230301.91</td></tr>\n",
       "</tbody>\n",
       "</table>\n"
      ],
      "text/latex": [
       "A tibble: 5 × 2\n",
       "\\begin{tabular}{ll}\n",
       " JobLevel & avg\\_salary\\\\\n",
       " <fct> & <dbl>\\\\\n",
       "\\hline\n",
       "\t 1 &  33442.98\\\\\n",
       "\t 2 &  66027.33\\\\\n",
       "\t 3 & 117807.03\\\\\n",
       "\t 4 & 186045.40\\\\\n",
       "\t 5 & 230301.91\\\\\n",
       "\\end{tabular}\n"
      ],
      "text/markdown": [
       "\n",
       "A tibble: 5 × 2\n",
       "\n",
       "| JobLevel &lt;fct&gt; | avg_salary &lt;dbl&gt; |\n",
       "|---|---|\n",
       "| 1 |  33442.98 |\n",
       "| 2 |  66027.33 |\n",
       "| 3 | 117807.03 |\n",
       "| 4 | 186045.40 |\n",
       "| 5 | 230301.91 |\n",
       "\n"
      ],
      "text/plain": [
       "  JobLevel avg_salary\n",
       "1 1         33442.98 \n",
       "2 2         66027.33 \n",
       "3 3        117807.03 \n",
       "4 4        186045.40 \n",
       "5 5        230301.91 "
      ]
     },
     "metadata": {},
     "output_type": "display_data"
    }
   ],
   "source": [
    "employee <- employee %>%\n",
    "  mutate(AnnualSalary = MonthlyIncome * 12)\n",
    "\n",
    "employee %>%\n",
    "  group_by(JobLevel) %>%\n",
    "  summarize(avg_salary = mean(AnnualSalary), .groups = 'drop') "
   ]
  },
  {
   "cell_type": "markdown",
   "metadata": {
    "papermill": {
     "duration": 0.0705,
     "end_time": "2020-10-13T23:52:36.464109",
     "exception": false,
     "start_time": "2020-10-13T23:52:36.393609",
     "status": "completed"
    },
    "tags": []
   },
   "source": [
    "Job Hop Index \n",
    "\n",
    "Job Hop Index is calcuated as the ratio of total working years to number of previous companies worked, providing a numerical estimate for the average number of years working at each company in one's career. The density curve shows the distribution of job hopping in this company's workforce. "
   ]
  },
  {
   "cell_type": "code",
   "execution_count": 15,
   "metadata": {
    "_kg_hide-input": true,
    "execution": {
     "iopub.execute_input": "2020-10-13T23:52:36.611335Z",
     "iopub.status.busy": "2020-10-13T23:52:36.609925Z",
     "iopub.status.idle": "2020-10-13T23:52:36.930023Z",
     "shell.execute_reply": "2020-10-13T23:52:36.927709Z"
    },
    "papermill": {
     "duration": 0.395468,
     "end_time": "2020-10-13T23:52:36.930430",
     "exception": false,
     "start_time": "2020-10-13T23:52:36.534962",
     "status": "completed"
    },
    "tags": []
   },
   "outputs": [
    {
     "data": {
      "image/png": "[encoded data removed]"
     },
     "metadata": {
      "image/png": {
       "height": 480,
       "width": 480
      }
     },
     "output_type": "display_data"
    }
   ],
   "source": [
    "employee <- employee %>%\n",
    "  mutate(job_hop = (TotalWorkingYears/ (NumCompaniesWorked + 1))) \n",
    "\n",
    "employee %>%\n",
    "  ggplot() + geom_density(aes(x = job_hop)) + xlab(\"Job Hop Index\") + ylab(\"Density\") + theme(text = element_text(size = 15))"
   ]
  },
  {
   "cell_type": "markdown",
   "metadata": {
    "papermill": {
     "duration": 0.075634,
     "end_time": "2020-10-13T23:52:37.097862",
     "exception": false,
     "start_time": "2020-10-13T23:52:37.022228",
     "status": "completed"
    },
    "tags": []
   },
   "source": [
    "**IV) Significance Testing **\n",
    "\n",
    "\n",
    "In this section, I run statistical analyses on the data to identify causes of employee attrition in our data sample. The first significance test finds that employees who left the company were statistically more disengaged than current employees at the company - an outcome we'd expect. \n"
   ]
  },
  {
   "cell_type": "code",
   "execution_count": 16,
   "metadata": {
    "_kg_hide-input": true,
    "execution": {
     "iopub.execute_input": "2020-10-13T23:52:37.248435Z",
     "iopub.status.busy": "2020-10-13T23:52:37.246993Z",
     "iopub.status.idle": "2020-10-13T23:52:37.606930Z",
     "shell.execute_reply": "2020-10-13T23:52:37.605233Z"
    },
    "papermill": {
     "duration": 0.437423,
     "end_time": "2020-10-13T23:52:37.607096",
     "exception": false,
     "start_time": "2020-10-13T23:52:37.169673",
     "status": "completed"
    },
    "tags": []
   },
   "outputs": [
    {
     "data": {
      "text/html": [
       "<table class=\"dataframe\">\n",
       "<caption>A tibble: 1 × 10</caption>\n",
       "<thead>\n",
       "\t<tr><th scope=col>estimate</th><th scope=col>estimate1</th><th scope=col>estimate2</th><th scope=col>statistic</th><th scope=col>p.value</th><th scope=col>parameter</th><th scope=col>conf.low</th><th scope=col>conf.high</th><th scope=col>method</th><th scope=col>alternative</th></tr>\n",
       "\t<tr><th scope=col>&lt;dbl&gt;</th><th scope=col>&lt;dbl&gt;</th><th scope=col>&lt;dbl&gt;</th><th scope=col>&lt;dbl&gt;</th><th scope=col>&lt;dbl&gt;</th><th scope=col>&lt;dbl&gt;</th><th scope=col>&lt;dbl&gt;</th><th scope=col>&lt;dbl&gt;</th><th scope=col>&lt;chr&gt;</th><th scope=col>&lt;chr&gt;</th></tr>\n",
       "</thead>\n",
       "<tbody>\n",
       "\t<tr><td>-0.09762132</td><td>0.1808597</td><td>0.278481</td><td>-3.131775</td><td>0.001905411</td><td>306.2031</td><td>-0.1589583</td><td>-0.03628436</td><td>Welch Two Sample t-test</td><td>two.sided</td></tr>\n",
       "</tbody>\n",
       "</table>\n"
      ],
      "text/latex": [
       "A tibble: 1 × 10\n",
       "\\begin{tabular}{llllllllll}\n",
       " estimate & estimate1 & estimate2 & statistic & p.value & parameter & conf.low & conf.high & method & alternative\\\\\n",
       " <dbl> & <dbl> & <dbl> & <dbl> & <dbl> & <dbl> & <dbl> & <dbl> & <chr> & <chr>\\\\\n",
       "\\hline\n",
       "\t -0.09762132 & 0.1808597 & 0.278481 & -3.131775 & 0.001905411 & 306.2031 & -0.1589583 & -0.03628436 & Welch Two Sample t-test & two.sided\\\\\n",
       "\\end{tabular}\n"
      ],
      "text/markdown": [
       "\n",
       "A tibble: 1 × 10\n",
       "\n",
       "| estimate &lt;dbl&gt; | estimate1 &lt;dbl&gt; | estimate2 &lt;dbl&gt; | statistic &lt;dbl&gt; | p.value &lt;dbl&gt; | parameter &lt;dbl&gt; | conf.low &lt;dbl&gt; | conf.high &lt;dbl&gt; | method &lt;chr&gt; | alternative &lt;chr&gt; |\n",
       "|---|---|---|---|---|---|---|---|---|---|\n",
       "| -0.09762132 | 0.1808597 | 0.278481 | -3.131775 | 0.001905411 | 306.2031 | -0.1589583 | -0.03628436 | Welch Two Sample t-test | two.sided |\n",
       "\n"
      ],
      "text/plain": [
       "  estimate    estimate1 estimate2 statistic p.value     parameter conf.low  \n",
       "1 -0.09762132 0.1808597 0.278481  -3.131775 0.001905411 306.2031  -0.1589583\n",
       "  conf.high   method                  alternative\n",
       "1 -0.03628436 Welch Two Sample t-test two.sided  "
      ]
     },
     "metadata": {},
     "output_type": "display_data"
    },
    {
     "data": {
      "image/png": "[encoded data removed]"
     },
     "metadata": {
      "image/png": {
       "height": 480,
       "width": 480
      }
     },
     "output_type": "display_data"
    }
   ],
   "source": [
    "employee %>%\n",
    "  group_by(Attrition) %>%\n",
    "  summarize(avg_disengagement = mean(disengaged), .groups = 'drop') %>%\n",
    "  ggplot(aes(Attrition, avg_disengagement)) + geom_col(aes(fill = Attrition)) + \n",
    "  xlab(\"Left Company?\") + ylab(\"% Disengaged\") + \n",
    "  theme(legend.position = \"none\") + scale_fill_brewer(palette = \"Paired\") + ggtitle(\"Attrition by Disengaged\") + \n",
    "  theme(text = element_text(size = 15))\n",
    "\n",
    "t.test(disengaged ~ Attrition, data = employee) %>%\n",
    "  tidy()\n"
   ]
  },
  {
   "cell_type": "markdown",
   "metadata": {
    "papermill": {
     "duration": 0.106382,
     "end_time": "2020-10-13T23:52:37.790253",
     "exception": false,
     "start_time": "2020-10-13T23:52:37.683871",
     "status": "completed"
    },
    "tags": []
   },
   "source": [
    "The next significance test explores whether employees who are disenaged are paid less employees. We find that there is no difference in pay between engaged and disengaged employees. The boxplot below shows near similar median pay and interquartile ranges for pay across enagaged and disengaged groups.  "
   ]
  },
  {
   "cell_type": "code",
   "execution_count": 17,
   "metadata": {
    "_kg_hide-input": true,
    "execution": {
     "iopub.execute_input": "2020-10-13T23:52:37.948134Z",
     "iopub.status.busy": "2020-10-13T23:52:37.946046Z",
     "iopub.status.idle": "2020-10-13T23:52:38.414092Z",
     "shell.execute_reply": "2020-10-13T23:52:38.412843Z"
    },
    "papermill": {
     "duration": 0.548217,
     "end_time": "2020-10-13T23:52:38.414260",
     "exception": false,
     "start_time": "2020-10-13T23:52:37.866043",
     "status": "completed"
    },
    "tags": []
   },
   "outputs": [
    {
     "data": {
      "text/html": [
       "<table class=\"dataframe\">\n",
       "<caption>A tibble: 2 × 5</caption>\n",
       "<thead>\n",
       "\t<tr><th scope=col>term</th><th scope=col>estimate</th><th scope=col>std.error</th><th scope=col>statistic</th><th scope=col>p.value</th></tr>\n",
       "\t<tr><th scope=col>&lt;chr&gt;</th><th scope=col>&lt;dbl&gt;</th><th scope=col>&lt;dbl&gt;</th><th scope=col>&lt;dbl&gt;</th><th scope=col>&lt;dbl&gt;</th></tr>\n",
       "</thead>\n",
       "<tbody>\n",
       "\t<tr><td>(Intercept)  </td><td>-1.429056e+00</td><td>1.119698e-01</td><td>-12.7628664</td><td>2.642935e-37</td></tr>\n",
       "\t<tr><td>MonthlyIncome</td><td> 3.274426e-06</td><td>1.385678e-05</td><td>  0.2363049</td><td>8.131961e-01</td></tr>\n",
       "</tbody>\n",
       "</table>\n"
      ],
      "text/latex": [
       "A tibble: 2 × 5\n",
       "\\begin{tabular}{lllll}\n",
       " term & estimate & std.error & statistic & p.value\\\\\n",
       " <chr> & <dbl> & <dbl> & <dbl> & <dbl>\\\\\n",
       "\\hline\n",
       "\t (Intercept)   & -1.429056e+00 & 1.119698e-01 & -12.7628664 & 2.642935e-37\\\\\n",
       "\t MonthlyIncome &  3.274426e-06 & 1.385678e-05 &   0.2363049 & 8.131961e-01\\\\\n",
       "\\end{tabular}\n"
      ],
      "text/markdown": [
       "\n",
       "A tibble: 2 × 5\n",
       "\n",
       "| term &lt;chr&gt; | estimate &lt;dbl&gt; | std.error &lt;dbl&gt; | statistic &lt;dbl&gt; | p.value &lt;dbl&gt; |\n",
       "|---|---|---|---|---|\n",
       "| (Intercept)   | -1.429056e+00 | 1.119698e-01 | -12.7628664 | 2.642935e-37 |\n",
       "| MonthlyIncome |  3.274426e-06 | 1.385678e-05 |   0.2363049 | 8.131961e-01 |\n",
       "\n"
      ],
      "text/plain": [
       "  term          estimate      std.error    statistic   p.value     \n",
       "1 (Intercept)   -1.429056e+00 1.119698e-01 -12.7628664 2.642935e-37\n",
       "2 MonthlyIncome  3.274426e-06 1.385678e-05   0.2363049 8.131961e-01"
      ]
     },
     "metadata": {},
     "output_type": "display_data"
    },
    {
     "data": {
      "image/png": "[encoded data removed]"
     },
     "metadata": {
      "image/png": {
       "height": 480,
       "width": 480
      }
     },
     "output_type": "display_data"
    }
   ],
   "source": [
    "employee %>%\n",
    "  mutate(dis_label = ifelse(disengaged == \"1\", \"Disengaged\", \"Engaged\")) %>%\n",
    "  ggplot(aes(dis_label, MonthlyIncome)) + geom_boxplot(aes(group = dis_label)) + \n",
    "  theme(text = element_text(size = 15)) + xlab(\"Engagement\") + ylab(\"Monthly Income\")\n",
    "\n",
    "\n",
    "glm(disengaged ~ MonthlyIncome, family = \"binomial\", data =employee) %>%\n",
    "  tidy()"
   ]
  },
  {
   "cell_type": "markdown",
   "metadata": {
    "papermill": {
     "duration": 0.081388,
     "end_time": "2020-10-13T23:52:38.574010",
     "exception": false,
     "start_time": "2020-10-13T23:52:38.492622",
     "status": "completed"
    },
    "tags": []
   },
   "source": [
    "Next, I explore whether turnover rates were statistically higher for speicfic job levels. The analysis finds that turnover rates are different by job level. "
   ]
  },
  {
   "cell_type": "code",
   "execution_count": 18,
   "metadata": {
    "_kg_hide-input": true,
    "execution": {
     "iopub.execute_input": "2020-10-13T23:52:38.736905Z",
     "iopub.status.busy": "2020-10-13T23:52:38.735313Z",
     "iopub.status.idle": "2020-10-13T23:52:39.435069Z",
     "shell.execute_reply": "2020-10-13T23:52:39.433075Z"
    },
    "papermill": {
     "duration": 0.78242,
     "end_time": "2020-10-13T23:52:39.435292",
     "exception": false,
     "start_time": "2020-10-13T23:52:38.652872",
     "status": "completed"
    },
    "tags": []
   },
   "outputs": [
    {
     "data": {
      "text/html": [
       "<table class=\"dataframe\">\n",
       "<caption>A tibble: 5 × 2</caption>\n",
       "<thead>\n",
       "\t<tr><th scope=col>JobLevel</th><th scope=col>avg_turnover</th></tr>\n",
       "\t<tr><th scope=col>&lt;fct&gt;</th><th scope=col>&lt;dbl&gt;</th></tr>\n",
       "</thead>\n",
       "<tbody>\n",
       "\t<tr><td>1</td><td>0.26335175</td></tr>\n",
       "\t<tr><td>3</td><td>0.14678899</td></tr>\n",
       "\t<tr><td>2</td><td>0.09737828</td></tr>\n",
       "\t<tr><td>5</td><td>0.07246377</td></tr>\n",
       "\t<tr><td>4</td><td>0.04716981</td></tr>\n",
       "</tbody>\n",
       "</table>\n"
      ],
      "text/latex": [
       "A tibble: 5 × 2\n",
       "\\begin{tabular}{ll}\n",
       " JobLevel & avg\\_turnover\\\\\n",
       " <fct> & <dbl>\\\\\n",
       "\\hline\n",
       "\t 1 & 0.26335175\\\\\n",
       "\t 3 & 0.14678899\\\\\n",
       "\t 2 & 0.09737828\\\\\n",
       "\t 5 & 0.07246377\\\\\n",
       "\t 4 & 0.04716981\\\\\n",
       "\\end{tabular}\n"
      ],
      "text/markdown": [
       "\n",
       "A tibble: 5 × 2\n",
       "\n",
       "| JobLevel &lt;fct&gt; | avg_turnover &lt;dbl&gt; |\n",
       "|---|---|\n",
       "| 1 | 0.26335175 |\n",
       "| 3 | 0.14678899 |\n",
       "| 2 | 0.09737828 |\n",
       "| 5 | 0.07246377 |\n",
       "| 4 | 0.04716981 |\n",
       "\n"
      ],
      "text/plain": [
       "  JobLevel avg_turnover\n",
       "1 1        0.26335175  \n",
       "2 3        0.14678899  \n",
       "3 2        0.09737828  \n",
       "4 5        0.07246377  \n",
       "5 4        0.04716981  "
      ]
     },
     "metadata": {},
     "output_type": "display_data"
    },
    {
     "data": {
      "text/html": [
       "<table class=\"dataframe\">\n",
       "<caption>A tibble: 5 × 5</caption>\n",
       "<thead>\n",
       "\t<tr><th scope=col>term</th><th scope=col>estimate</th><th scope=col>std.error</th><th scope=col>statistic</th><th scope=col>p.value</th></tr>\n",
       "\t<tr><th scope=col>&lt;chr&gt;</th><th scope=col>&lt;dbl&gt;</th><th scope=col>&lt;dbl&gt;</th><th scope=col>&lt;dbl&gt;</th><th scope=col>&lt;dbl&gt;</th></tr>\n",
       "</thead>\n",
       "<tbody>\n",
       "\t<tr><td>(Intercept)</td><td>-1.0286199</td><td>0.09743206</td><td>-10.557304</td><td>4.699658e-26</td></tr>\n",
       "\t<tr><td>JobLevel2  </td><td>-1.1980805</td><td>0.17549491</td><td> -6.826867</td><td>8.678892e-12</td></tr>\n",
       "\t<tr><td>JobLevel3  </td><td>-0.7313909</td><td>0.21475416</td><td> -3.405712</td><td>6.599173e-04</td></tr>\n",
       "\t<tr><td>JobLevel4  </td><td>-1.9770627</td><td>0.46835848</td><td> -4.221260</td><td>2.429411e-05</td></tr>\n",
       "\t<tr><td>JobLevel5  </td><td>-1.5208253</td><td>0.47446548</td><td> -3.205344</td><td>1.349010e-03</td></tr>\n",
       "</tbody>\n",
       "</table>\n"
      ],
      "text/latex": [
       "A tibble: 5 × 5\n",
       "\\begin{tabular}{lllll}\n",
       " term & estimate & std.error & statistic & p.value\\\\\n",
       " <chr> & <dbl> & <dbl> & <dbl> & <dbl>\\\\\n",
       "\\hline\n",
       "\t (Intercept) & -1.0286199 & 0.09743206 & -10.557304 & 4.699658e-26\\\\\n",
       "\t JobLevel2   & -1.1980805 & 0.17549491 &  -6.826867 & 8.678892e-12\\\\\n",
       "\t JobLevel3   & -0.7313909 & 0.21475416 &  -3.405712 & 6.599173e-04\\\\\n",
       "\t JobLevel4   & -1.9770627 & 0.46835848 &  -4.221260 & 2.429411e-05\\\\\n",
       "\t JobLevel5   & -1.5208253 & 0.47446548 &  -3.205344 & 1.349010e-03\\\\\n",
       "\\end{tabular}\n"
      ],
      "text/markdown": [
       "\n",
       "A tibble: 5 × 5\n",
       "\n",
       "| term &lt;chr&gt; | estimate &lt;dbl&gt; | std.error &lt;dbl&gt; | statistic &lt;dbl&gt; | p.value &lt;dbl&gt; |\n",
       "|---|---|---|---|---|\n",
       "| (Intercept) | -1.0286199 | 0.09743206 | -10.557304 | 4.699658e-26 |\n",
       "| JobLevel2   | -1.1980805 | 0.17549491 |  -6.826867 | 8.678892e-12 |\n",
       "| JobLevel3   | -0.7313909 | 0.21475416 |  -3.405712 | 6.599173e-04 |\n",
       "| JobLevel4   | -1.9770627 | 0.46835848 |  -4.221260 | 2.429411e-05 |\n",
       "| JobLevel5   | -1.5208253 | 0.47446548 |  -3.205344 | 1.349010e-03 |\n",
       "\n"
      ],
      "text/plain": [
       "  term        estimate   std.error  statistic  p.value     \n",
       "1 (Intercept) -1.0286199 0.09743206 -10.557304 4.699658e-26\n",
       "2 JobLevel2   -1.1980805 0.17549491  -6.826867 8.678892e-12\n",
       "3 JobLevel3   -0.7313909 0.21475416  -3.405712 6.599173e-04\n",
       "4 JobLevel4   -1.9770627 0.46835848  -4.221260 2.429411e-05\n",
       "5 JobLevel5   -1.5208253 0.47446548  -3.205344 1.349010e-03"
      ]
     },
     "metadata": {},
     "output_type": "display_data"
    },
    {
     "data": {
      "image/png": "[encoded data removed]"
     },
     "metadata": {
      "image/png": {
       "height": 480,
       "width": 480
      }
     },
     "output_type": "display_data"
    }
   ],
   "source": [
    "employee %>%\n",
    "  group_by(JobLevel) %>%\n",
    "  summarize(avg_turnover = mean(turnover), .groups = 'drop') %>%\n",
    "  arrange(desc(avg_turnover)) \n",
    "\n",
    "employee %>%\n",
    "  group_by(JobLevel) %>%\n",
    "  summarize(avg_turnover = mean(turnover), .groups = 'drop') %>%\n",
    "  ggplot(aes(JobLevel, avg_turnover, fill = JobLevel)) + \n",
    "  geom_bar(stat = \"identity\") + ylab(\"Job Level\") + xlab(\"Turnover Rate\") + \n",
    "  ggtitle(\"Turnover Rate by Job Level\") + scale_fill_brewer(palette = \"Paired\") + \n",
    "  theme(text = element_text(size = 15)) \n",
    "\n",
    "glm(turnover ~ JobLevel, family = \"binomial\", data = employee) %>%\n",
    "  tidy()"
   ]
  },
  {
   "cell_type": "markdown",
   "metadata": {
    "papermill": {
     "duration": 0.083801,
     "end_time": "2020-10-13T23:52:39.608423",
     "exception": false,
     "start_time": "2020-10-13T23:52:39.524622",
     "status": "completed"
    },
    "tags": []
   },
   "source": [
    "Earlier, disengagement was correlated with leaving the company. Does Job Level predict disengagement at this company? What about disenagement within departments and roles at the company? \n"
   ]
  },
  {
   "cell_type": "code",
   "execution_count": 19,
   "metadata": {
    "_kg_hide-input": true,
    "execution": {
     "iopub.execute_input": "2020-10-13T23:52:39.779129Z",
     "iopub.status.busy": "2020-10-13T23:52:39.776863Z",
     "iopub.status.idle": "2020-10-13T23:52:39.862391Z",
     "shell.execute_reply": "2020-10-13T23:52:39.860225Z"
    },
    "papermill": {
     "duration": 0.171531,
     "end_time": "2020-10-13T23:52:39.862586",
     "exception": false,
     "start_time": "2020-10-13T23:52:39.691055",
     "status": "completed"
    },
    "tags": []
   },
   "outputs": [
    {
     "data": {
      "text/html": [
       "<table class=\"dataframe\">\n",
       "<caption>A tibble: 3 × 5</caption>\n",
       "<thead>\n",
       "\t<tr><th scope=col>term</th><th scope=col>estimate</th><th scope=col>std.error</th><th scope=col>statistic</th><th scope=col>p.value</th></tr>\n",
       "\t<tr><th scope=col>&lt;chr&gt;</th><th scope=col>&lt;dbl&gt;</th><th scope=col>&lt;dbl&gt;</th><th scope=col>&lt;dbl&gt;</th><th scope=col>&lt;dbl&gt;</th></tr>\n",
       "</thead>\n",
       "<tbody>\n",
       "\t<tr><td>(Intercept)                     </td><td>-1.5533484</td><td>0.3318733</td><td>-4.6805472</td><td>2.861102e-06</td></tr>\n",
       "\t<tr><td>DepartmentResearch &amp; Development</td><td> 0.1657528</td><td>0.3415385</td><td> 0.4853123</td><td>6.274549e-01</td></tr>\n",
       "\t<tr><td>DepartmentSales                 </td><td> 0.1215917</td><td>0.3529101</td><td> 0.3445402</td><td>7.304401e-01</td></tr>\n",
       "</tbody>\n",
       "</table>\n"
      ],
      "text/latex": [
       "A tibble: 3 × 5\n",
       "\\begin{tabular}{lllll}\n",
       " term & estimate & std.error & statistic & p.value\\\\\n",
       " <chr> & <dbl> & <dbl> & <dbl> & <dbl>\\\\\n",
       "\\hline\n",
       "\t (Intercept)                      & -1.5533484 & 0.3318733 & -4.6805472 & 2.861102e-06\\\\\n",
       "\t DepartmentResearch \\& Development &  0.1657528 & 0.3415385 &  0.4853123 & 6.274549e-01\\\\\n",
       "\t DepartmentSales                  &  0.1215917 & 0.3529101 &  0.3445402 & 7.304401e-01\\\\\n",
       "\\end{tabular}\n"
      ],
      "text/markdown": [
       "\n",
       "A tibble: 3 × 5\n",
       "\n",
       "| term &lt;chr&gt; | estimate &lt;dbl&gt; | std.error &lt;dbl&gt; | statistic &lt;dbl&gt; | p.value &lt;dbl&gt; |\n",
       "|---|---|---|---|---|\n",
       "| (Intercept)                      | -1.5533484 | 0.3318733 | -4.6805472 | 2.861102e-06 |\n",
       "| DepartmentResearch &amp; Development |  0.1657528 | 0.3415385 |  0.4853123 | 6.274549e-01 |\n",
       "| DepartmentSales                  |  0.1215917 | 0.3529101 |  0.3445402 | 7.304401e-01 |\n",
       "\n"
      ],
      "text/plain": [
       "  term                             estimate   std.error statistic  p.value     \n",
       "1 (Intercept)                      -1.5533484 0.3318733 -4.6805472 2.861102e-06\n",
       "2 DepartmentResearch & Development  0.1657528 0.3415385  0.4853123 6.274549e-01\n",
       "3 DepartmentSales                   0.1215917 0.3529101  0.3445402 7.304401e-01"
      ]
     },
     "metadata": {},
     "output_type": "display_data"
    },
    {
     "data": {
      "text/html": [
       "<table class=\"dataframe\">\n",
       "<caption>A tibble: 9 × 5</caption>\n",
       "<thead>\n",
       "\t<tr><th scope=col>term</th><th scope=col>estimate</th><th scope=col>std.error</th><th scope=col>statistic</th><th scope=col>p.value</th></tr>\n",
       "\t<tr><th scope=col>&lt;chr&gt;</th><th scope=col>&lt;dbl&gt;</th><th scope=col>&lt;dbl&gt;</th><th scope=col>&lt;dbl&gt;</th><th scope=col>&lt;dbl&gt;</th></tr>\n",
       "</thead>\n",
       "<tbody>\n",
       "\t<tr><td>(Intercept)                  </td><td>-1.39586381</td><td>0.2190555</td><td>-6.37219153</td><td>1.863460e-10</td></tr>\n",
       "\t<tr><td>JobRoleHuman Resources       </td><td>-0.03922071</td><td>0.4144814</td><td>-0.09462599</td><td>9.246119e-01</td></tr>\n",
       "\t<tr><td>JobRoleLaboratory Technician </td><td> 0.10800952</td><td>0.2660236</td><td> 0.40601482</td><td>6.847317e-01</td></tr>\n",
       "\t<tr><td>JobRoleManager               </td><td> 0.04593710</td><td>0.3285575</td><td> 0.13981449</td><td>8.888066e-01</td></tr>\n",
       "\t<tr><td>JobRoleManufacturing Director</td><td>-0.12516314</td><td>0.3079776</td><td>-0.40640335</td><td>6.844463e-01</td></tr>\n",
       "\t<tr><td>JobRoleResearch Director     </td><td>-0.07047326</td><td>0.3606059</td><td>-0.19543014</td><td>8.450562e-01</td></tr>\n",
       "\t<tr><td>JobRoleResearch Scientist    </td><td>-0.08742281</td><td>0.2659051</td><td>-0.32877449</td><td>7.423261e-01</td></tr>\n",
       "\t<tr><td>JobRoleSales Executive       </td><td> 0.08089423</td><td>0.2576220</td><td> 0.31400354</td><td>7.535184e-01</td></tr>\n",
       "\t<tr><td>JobRoleSales Representative  </td><td>-0.38190942</td><td>0.3813176</td><td>-1.00155190</td><td>3.165601e-01</td></tr>\n",
       "</tbody>\n",
       "</table>\n"
      ],
      "text/latex": [
       "A tibble: 9 × 5\n",
       "\\begin{tabular}{lllll}\n",
       " term & estimate & std.error & statistic & p.value\\\\\n",
       " <chr> & <dbl> & <dbl> & <dbl> & <dbl>\\\\\n",
       "\\hline\n",
       "\t (Intercept)                   & -1.39586381 & 0.2190555 & -6.37219153 & 1.863460e-10\\\\\n",
       "\t JobRoleHuman Resources        & -0.03922071 & 0.4144814 & -0.09462599 & 9.246119e-01\\\\\n",
       "\t JobRoleLaboratory Technician  &  0.10800952 & 0.2660236 &  0.40601482 & 6.847317e-01\\\\\n",
       "\t JobRoleManager                &  0.04593710 & 0.3285575 &  0.13981449 & 8.888066e-01\\\\\n",
       "\t JobRoleManufacturing Director & -0.12516314 & 0.3079776 & -0.40640335 & 6.844463e-01\\\\\n",
       "\t JobRoleResearch Director      & -0.07047326 & 0.3606059 & -0.19543014 & 8.450562e-01\\\\\n",
       "\t JobRoleResearch Scientist     & -0.08742281 & 0.2659051 & -0.32877449 & 7.423261e-01\\\\\n",
       "\t JobRoleSales Executive        &  0.08089423 & 0.2576220 &  0.31400354 & 7.535184e-01\\\\\n",
       "\t JobRoleSales Representative   & -0.38190942 & 0.3813176 & -1.00155190 & 3.165601e-01\\\\\n",
       "\\end{tabular}\n"
      ],
      "text/markdown": [
       "\n",
       "A tibble: 9 × 5\n",
       "\n",
       "| term &lt;chr&gt; | estimate &lt;dbl&gt; | std.error &lt;dbl&gt; | statistic &lt;dbl&gt; | p.value &lt;dbl&gt; |\n",
       "|---|---|---|---|---|\n",
       "| (Intercept)                   | -1.39586381 | 0.2190555 | -6.37219153 | 1.863460e-10 |\n",
       "| JobRoleHuman Resources        | -0.03922071 | 0.4144814 | -0.09462599 | 9.246119e-01 |\n",
       "| JobRoleLaboratory Technician  |  0.10800952 | 0.2660236 |  0.40601482 | 6.847317e-01 |\n",
       "| JobRoleManager                |  0.04593710 | 0.3285575 |  0.13981449 | 8.888066e-01 |\n",
       "| JobRoleManufacturing Director | -0.12516314 | 0.3079776 | -0.40640335 | 6.844463e-01 |\n",
       "| JobRoleResearch Director      | -0.07047326 | 0.3606059 | -0.19543014 | 8.450562e-01 |\n",
       "| JobRoleResearch Scientist     | -0.08742281 | 0.2659051 | -0.32877449 | 7.423261e-01 |\n",
       "| JobRoleSales Executive        |  0.08089423 | 0.2576220 |  0.31400354 | 7.535184e-01 |\n",
       "| JobRoleSales Representative   | -0.38190942 | 0.3813176 | -1.00155190 | 3.165601e-01 |\n",
       "\n"
      ],
      "text/plain": [
       "  term                          estimate    std.error statistic   p.value     \n",
       "1 (Intercept)                   -1.39586381 0.2190555 -6.37219153 1.863460e-10\n",
       "2 JobRoleHuman Resources        -0.03922071 0.4144814 -0.09462599 9.246119e-01\n",
       "3 JobRoleLaboratory Technician   0.10800952 0.2660236  0.40601482 6.847317e-01\n",
       "4 JobRoleManager                 0.04593710 0.3285575  0.13981449 8.888066e-01\n",
       "5 JobRoleManufacturing Director -0.12516314 0.3079776 -0.40640335 6.844463e-01\n",
       "6 JobRoleResearch Director      -0.07047326 0.3606059 -0.19543014 8.450562e-01\n",
       "7 JobRoleResearch Scientist     -0.08742281 0.2659051 -0.32877449 7.423261e-01\n",
       "8 JobRoleSales Executive         0.08089423 0.2576220  0.31400354 7.535184e-01\n",
       "9 JobRoleSales Representative   -0.38190942 0.3813176 -1.00155190 3.165601e-01"
      ]
     },
     "metadata": {},
     "output_type": "display_data"
    }
   ],
   "source": [
    "glm(disengaged ~ Department, family = \"binomial\", data = employee) %>%\n",
    "  tidy()\n",
    "glm(disengaged ~ JobRole, family = \"binomial\", data = employee) %>%\n",
    "  tidy()"
   ]
  },
  {
   "cell_type": "markdown",
   "metadata": {
    "papermill": {
     "duration": 0.084778,
     "end_time": "2020-10-13T23:52:40.058833",
     "exception": false,
     "start_time": "2020-10-13T23:52:39.974055",
     "status": "completed"
    },
    "tags": []
   },
   "source": [
    "Department and job role are not statistically correlated with disengagement.\n",
    "\n",
    "\n",
    "But are either of these predictors statistically correlated with the observed attrition at the company? "
   ]
  },
  {
   "cell_type": "code",
   "execution_count": 20,
   "metadata": {
    "_kg_hide-input": true,
    "execution": {
     "iopub.execute_input": "2020-10-13T23:52:40.235432Z",
     "iopub.status.busy": "2020-10-13T23:52:40.233415Z",
     "iopub.status.idle": "2020-10-13T23:52:40.342173Z",
     "shell.execute_reply": "2020-10-13T23:52:40.337177Z"
    },
    "papermill": {
     "duration": 0.200744,
     "end_time": "2020-10-13T23:52:40.342441",
     "exception": false,
     "start_time": "2020-10-13T23:52:40.141697",
     "status": "completed"
    },
    "tags": []
   },
   "outputs": [
    {
     "data": {
      "text/html": [
       "<table class=\"dataframe\">\n",
       "<caption>A tibble: 3 × 5</caption>\n",
       "<thead>\n",
       "\t<tr><th scope=col>term</th><th scope=col>estimate</th><th scope=col>std.error</th><th scope=col>statistic</th><th scope=col>p.value</th></tr>\n",
       "\t<tr><th scope=col>&lt;chr&gt;</th><th scope=col>&lt;dbl&gt;</th><th scope=col>&lt;dbl&gt;</th><th scope=col>&lt;dbl&gt;</th><th scope=col>&lt;dbl&gt;</th></tr>\n",
       "</thead>\n",
       "<tbody>\n",
       "\t<tr><td>(Intercept)                     </td><td>-1.44691898</td><td>0.3208444</td><td>-4.5097213</td><td>6.491286e-06</td></tr>\n",
       "\t<tr><td>DepartmentResearch &amp; Development</td><td>-0.38174504</td><td>0.3341671</td><td>-1.1423776</td><td>2.532971e-01</td></tr>\n",
       "\t<tr><td>DepartmentSales                 </td><td> 0.09941065</td><td>0.3415195</td><td> 0.2910834</td><td>7.709876e-01</td></tr>\n",
       "</tbody>\n",
       "</table>\n"
      ],
      "text/latex": [
       "A tibble: 3 × 5\n",
       "\\begin{tabular}{lllll}\n",
       " term & estimate & std.error & statistic & p.value\\\\\n",
       " <chr> & <dbl> & <dbl> & <dbl> & <dbl>\\\\\n",
       "\\hline\n",
       "\t (Intercept)                      & -1.44691898 & 0.3208444 & -4.5097213 & 6.491286e-06\\\\\n",
       "\t DepartmentResearch \\& Development & -0.38174504 & 0.3341671 & -1.1423776 & 2.532971e-01\\\\\n",
       "\t DepartmentSales                  &  0.09941065 & 0.3415195 &  0.2910834 & 7.709876e-01\\\\\n",
       "\\end{tabular}\n"
      ],
      "text/markdown": [
       "\n",
       "A tibble: 3 × 5\n",
       "\n",
       "| term &lt;chr&gt; | estimate &lt;dbl&gt; | std.error &lt;dbl&gt; | statistic &lt;dbl&gt; | p.value &lt;dbl&gt; |\n",
       "|---|---|---|---|---|\n",
       "| (Intercept)                      | -1.44691898 | 0.3208444 | -4.5097213 | 6.491286e-06 |\n",
       "| DepartmentResearch &amp; Development | -0.38174504 | 0.3341671 | -1.1423776 | 2.532971e-01 |\n",
       "| DepartmentSales                  |  0.09941065 | 0.3415195 |  0.2910834 | 7.709876e-01 |\n",
       "\n"
      ],
      "text/plain": [
       "  term                             estimate    std.error statistic \n",
       "1 (Intercept)                      -1.44691898 0.3208444 -4.5097213\n",
       "2 DepartmentResearch & Development -0.38174504 0.3341671 -1.1423776\n",
       "3 DepartmentSales                   0.09941065 0.3415195  0.2910834\n",
       "  p.value     \n",
       "1 6.491286e-06\n",
       "2 2.532971e-01\n",
       "3 7.709876e-01"
      ]
     },
     "metadata": {},
     "output_type": "display_data"
    },
    {
     "data": {
      "text/html": [
       "<table class=\"dataframe\">\n",
       "<caption>A tibble: 9 × 5</caption>\n",
       "<thead>\n",
       "\t<tr><th scope=col>term</th><th scope=col>estimate</th><th scope=col>std.error</th><th scope=col>statistic</th><th scope=col>p.value</th></tr>\n",
       "\t<tr><th scope=col>&lt;chr&gt;</th><th scope=col>&lt;dbl&gt;</th><th scope=col>&lt;dbl&gt;</th><th scope=col>&lt;dbl&gt;</th><th scope=col>&lt;dbl&gt;</th></tr>\n",
       "</thead>\n",
       "<tbody>\n",
       "\t<tr><td>(Intercept)                  </td><td>-2.606796467</td><td>0.3454097</td><td>-7.546970389</td><td>4.454998e-14</td></tr>\n",
       "\t<tr><td>JobRoleHuman Resources       </td><td> 1.402823663</td><td>0.4771176</td><td> 2.940205479</td><td>3.279947e-03</td></tr>\n",
       "\t<tr><td>JobRoleLaboratory Technician </td><td> 1.450727124</td><td>0.3748506</td><td> 3.870147055</td><td>1.087697e-04</td></tr>\n",
       "\t<tr><td>JobRoleManager               </td><td>-0.358476599</td><td>0.5741229</td><td>-0.624389997</td><td>5.323715e-01</td></tr>\n",
       "\t<tr><td>JobRoleManufacturing Director</td><td> 0.004106782</td><td>0.4761462</td><td> 0.008625043</td><td>9.931183e-01</td></tr>\n",
       "\t<tr><td>JobRoleResearch Director     </td><td>-1.056765179</td><td>0.7950582</td><td>-1.329167046</td><td>1.837929e-01</td></tr>\n",
       "\t<tr><td>JobRoleResearch Scientist    </td><td> 0.955685859</td><td>0.3803499</td><td> 2.512649040</td><td>1.198285e-02</td></tr>\n",
       "\t<tr><td>JobRoleSales Executive       </td><td> 1.055136356</td><td>0.3749255</td><td> 2.814255710</td><td>4.889032e-03</td></tr>\n",
       "\t<tr><td>JobRoleSales Representative  </td><td> 2.191281023</td><td>0.4118384</td><td> 5.320730305</td><td>1.033515e-07</td></tr>\n",
       "</tbody>\n",
       "</table>\n"
      ],
      "text/latex": [
       "A tibble: 9 × 5\n",
       "\\begin{tabular}{lllll}\n",
       " term & estimate & std.error & statistic & p.value\\\\\n",
       " <chr> & <dbl> & <dbl> & <dbl> & <dbl>\\\\\n",
       "\\hline\n",
       "\t (Intercept)                   & -2.606796467 & 0.3454097 & -7.546970389 & 4.454998e-14\\\\\n",
       "\t JobRoleHuman Resources        &  1.402823663 & 0.4771176 &  2.940205479 & 3.279947e-03\\\\\n",
       "\t JobRoleLaboratory Technician  &  1.450727124 & 0.3748506 &  3.870147055 & 1.087697e-04\\\\\n",
       "\t JobRoleManager                & -0.358476599 & 0.5741229 & -0.624389997 & 5.323715e-01\\\\\n",
       "\t JobRoleManufacturing Director &  0.004106782 & 0.4761462 &  0.008625043 & 9.931183e-01\\\\\n",
       "\t JobRoleResearch Director      & -1.056765179 & 0.7950582 & -1.329167046 & 1.837929e-01\\\\\n",
       "\t JobRoleResearch Scientist     &  0.955685859 & 0.3803499 &  2.512649040 & 1.198285e-02\\\\\n",
       "\t JobRoleSales Executive        &  1.055136356 & 0.3749255 &  2.814255710 & 4.889032e-03\\\\\n",
       "\t JobRoleSales Representative   &  2.191281023 & 0.4118384 &  5.320730305 & 1.033515e-07\\\\\n",
       "\\end{tabular}\n"
      ],
      "text/markdown": [
       "\n",
       "A tibble: 9 × 5\n",
       "\n",
       "| term &lt;chr&gt; | estimate &lt;dbl&gt; | std.error &lt;dbl&gt; | statistic &lt;dbl&gt; | p.value &lt;dbl&gt; |\n",
       "|---|---|---|---|---|\n",
       "| (Intercept)                   | -2.606796467 | 0.3454097 | -7.546970389 | 4.454998e-14 |\n",
       "| JobRoleHuman Resources        |  1.402823663 | 0.4771176 |  2.940205479 | 3.279947e-03 |\n",
       "| JobRoleLaboratory Technician  |  1.450727124 | 0.3748506 |  3.870147055 | 1.087697e-04 |\n",
       "| JobRoleManager                | -0.358476599 | 0.5741229 | -0.624389997 | 5.323715e-01 |\n",
       "| JobRoleManufacturing Director |  0.004106782 | 0.4761462 |  0.008625043 | 9.931183e-01 |\n",
       "| JobRoleResearch Director      | -1.056765179 | 0.7950582 | -1.329167046 | 1.837929e-01 |\n",
       "| JobRoleResearch Scientist     |  0.955685859 | 0.3803499 |  2.512649040 | 1.198285e-02 |\n",
       "| JobRoleSales Executive        |  1.055136356 | 0.3749255 |  2.814255710 | 4.889032e-03 |\n",
       "| JobRoleSales Representative   |  2.191281023 | 0.4118384 |  5.320730305 | 1.033515e-07 |\n",
       "\n"
      ],
      "text/plain": [
       "  term                          estimate     std.error statistic   \n",
       "1 (Intercept)                   -2.606796467 0.3454097 -7.546970389\n",
       "2 JobRoleHuman Resources         1.402823663 0.4771176  2.940205479\n",
       "3 JobRoleLaboratory Technician   1.450727124 0.3748506  3.870147055\n",
       "4 JobRoleManager                -0.358476599 0.5741229 -0.624389997\n",
       "5 JobRoleManufacturing Director  0.004106782 0.4761462  0.008625043\n",
       "6 JobRoleResearch Director      -1.056765179 0.7950582 -1.329167046\n",
       "7 JobRoleResearch Scientist      0.955685859 0.3803499  2.512649040\n",
       "8 JobRoleSales Executive         1.055136356 0.3749255  2.814255710\n",
       "9 JobRoleSales Representative    2.191281023 0.4118384  5.320730305\n",
       "  p.value     \n",
       "1 4.454998e-14\n",
       "2 3.279947e-03\n",
       "3 1.087697e-04\n",
       "4 5.323715e-01\n",
       "5 9.931183e-01\n",
       "6 1.837929e-01\n",
       "7 1.198285e-02\n",
       "8 4.889032e-03\n",
       "9 1.033515e-07"
      ]
     },
     "metadata": {},
     "output_type": "display_data"
    }
   ],
   "source": [
    "glm(turnover ~ Department, family = \"binomial\", data = employee) %>%\n",
    "  tidy()\n",
    "glm(turnover ~ JobRole, family = \"binomial\", data = employee) %>%\n",
    "  tidy()"
   ]
  },
  {
   "cell_type": "markdown",
   "metadata": {
    "papermill": {
     "duration": 0.088144,
     "end_time": "2020-10-13T23:52:40.549384",
     "exception": false,
     "start_time": "2020-10-13T23:52:40.461240",
     "status": "completed"
    },
    "tags": []
   },
   "source": [
    "Here we see that department shows no statistical effect on attrition. However, job level does seem to.\n",
    "\n",
    "\n",
    "Does one's proclivity to job hopping have an effect on attrition outcome? "
   ]
  },
  {
   "cell_type": "code",
   "execution_count": 21,
   "metadata": {
    "_kg_hide-input": true,
    "execution": {
     "iopub.execute_input": "2020-10-13T23:52:40.733176Z",
     "iopub.status.busy": "2020-10-13T23:52:40.731670Z",
     "iopub.status.idle": "2020-10-13T23:52:40.768487Z",
     "shell.execute_reply": "2020-10-13T23:52:40.767016Z"
    },
    "papermill": {
     "duration": 0.129361,
     "end_time": "2020-10-13T23:52:40.768684",
     "exception": false,
     "start_time": "2020-10-13T23:52:40.639323",
     "status": "completed"
    },
    "tags": []
   },
   "outputs": [
    {
     "data": {
      "text/html": [
       "<table class=\"dataframe\">\n",
       "<caption>A tibble: 2 × 5</caption>\n",
       "<thead>\n",
       "\t<tr><th scope=col>term</th><th scope=col>estimate</th><th scope=col>std.error</th><th scope=col>statistic</th><th scope=col>p.value</th></tr>\n",
       "\t<tr><th scope=col>&lt;chr&gt;</th><th scope=col>&lt;dbl&gt;</th><th scope=col>&lt;dbl&gt;</th><th scope=col>&lt;dbl&gt;</th><th scope=col>&lt;dbl&gt;</th></tr>\n",
       "</thead>\n",
       "<tbody>\n",
       "\t<tr><td>(Intercept)</td><td>-1.0184435</td><td>0.11610731</td><td>-8.771571</td><td>1.761906e-18</td></tr>\n",
       "\t<tr><td>job_hop    </td><td>-0.1822377</td><td>0.03096985</td><td>-5.884360</td><td>3.995967e-09</td></tr>\n",
       "</tbody>\n",
       "</table>\n"
      ],
      "text/latex": [
       "A tibble: 2 × 5\n",
       "\\begin{tabular}{lllll}\n",
       " term & estimate & std.error & statistic & p.value\\\\\n",
       " <chr> & <dbl> & <dbl> & <dbl> & <dbl>\\\\\n",
       "\\hline\n",
       "\t (Intercept) & -1.0184435 & 0.11610731 & -8.771571 & 1.761906e-18\\\\\n",
       "\t job\\_hop     & -0.1822377 & 0.03096985 & -5.884360 & 3.995967e-09\\\\\n",
       "\\end{tabular}\n"
      ],
      "text/markdown": [
       "\n",
       "A tibble: 2 × 5\n",
       "\n",
       "| term &lt;chr&gt; | estimate &lt;dbl&gt; | std.error &lt;dbl&gt; | statistic &lt;dbl&gt; | p.value &lt;dbl&gt; |\n",
       "|---|---|---|---|---|\n",
       "| (Intercept) | -1.0184435 | 0.11610731 | -8.771571 | 1.761906e-18 |\n",
       "| job_hop     | -0.1822377 | 0.03096985 | -5.884360 | 3.995967e-09 |\n",
       "\n"
      ],
      "text/plain": [
       "  term        estimate   std.error  statistic p.value     \n",
       "1 (Intercept) -1.0184435 0.11610731 -8.771571 1.761906e-18\n",
       "2 job_hop     -0.1822377 0.03096985 -5.884360 3.995967e-09"
      ]
     },
     "metadata": {},
     "output_type": "display_data"
    }
   ],
   "source": [
    "glm(turnover ~ job_hop, family = \"binomial\", data = employee) %>%\n",
    " tidy()"
   ]
  },
  {
   "cell_type": "markdown",
   "metadata": {
    "papermill": {
     "duration": 0.097547,
     "end_time": "2020-10-13T23:52:40.953079",
     "exception": false,
     "start_time": "2020-10-13T23:52:40.855532",
     "status": "completed"
    },
    "tags": []
   },
   "source": [
    "**V) Model Development: Multiple Logistic Regression **\n",
    "\n",
    "\n",
    "Calculate Information Value: "
   ]
  },
  {
   "cell_type": "code",
   "execution_count": 22,
   "metadata": {
    "execution": {
     "iopub.execute_input": "2020-10-13T23:52:41.141791Z",
     "iopub.status.busy": "2020-10-13T23:52:41.140301Z",
     "iopub.status.idle": "2020-10-13T23:52:42.067033Z",
     "shell.execute_reply": "2020-10-13T23:52:42.064800Z"
    },
    "papermill": {
     "duration": 1.021368,
     "end_time": "2020-10-13T23:52:42.067248",
     "exception": false,
     "start_time": "2020-10-13T23:52:41.045880",
     "status": "completed"
    },
    "tags": []
   },
   "outputs": [
    {
     "data": {
      "text/html": [
       "<table class=\"dataframe\">\n",
       "<caption>A data.frame: 39 × 2</caption>\n",
       "<thead>\n",
       "\t<tr><th></th><th scope=col>Variable</th><th scope=col>IV</th></tr>\n",
       "\t<tr><th></th><th scope=col>&lt;chr&gt;</th><th scope=col>&lt;dbl&gt;</th></tr>\n",
       "</thead>\n",
       "<tbody>\n",
       "\t<tr><th scope=row>15</th><td>JobRole                 </td><td>4.909971e-01</td></tr>\n",
       "\t<tr><th scope=row>39</th><td>job_hop                 </td><td>4.819959e-01</td></tr>\n",
       "\t<tr><th scope=row>18</th><td>MonthlyIncome           </td><td>4.250153e-01</td></tr>\n",
       "\t<tr><th scope=row>38</th><td>AnnualSalary            </td><td>4.250153e-01</td></tr>\n",
       "\t<tr><th scope=row>21</th><td>OverTime                </td><td>4.001828e-01</td></tr>\n",
       "\t<tr><th scope=row>14</th><td>JobLevel                </td><td>3.841516e-01</td></tr>\n",
       "\t<tr><th scope=row>35</th><td>median_comp             </td><td>3.796698e-01</td></tr>\n",
       "\t<tr><th scope=row>26</th><td>TotalWorkingYears       </td><td>3.775447e-01</td></tr>\n",
       "\t<tr><th scope=row>29</th><td>YearsAtCompany          </td><td>3.366758e-01</td></tr>\n",
       "\t<tr><th scope=row>1</th><td>Age                     </td><td>3.057637e-01</td></tr>\n",
       "\t<tr><th scope=row>32</th><td>YearsWithCurrManager    </td><td>2.947473e-01</td></tr>\n",
       "\t<tr><th scope=row>25</th><td>StockOptionLevel        </td><td>2.871532e-01</td></tr>\n",
       "\t<tr><th scope=row>30</th><td>YearsInCurrentRole      </td><td>2.670369e-01</td></tr>\n",
       "\t<tr><th scope=row>17</th><td>MaritalStatus           </td><td>2.188976e-01</td></tr>\n",
       "\t<tr><th scope=row>3</th><td>BusinessTravel          </td><td>1.208679e-01</td></tr>\n",
       "\t<tr><th scope=row>20</th><td>NumCompaniesWorked      </td><td>1.170546e-01</td></tr>\n",
       "\t<tr><th scope=row>13</th><td>JobInvolvement          </td><td>1.068475e-01</td></tr>\n",
       "\t<tr><th scope=row>10</th><td>EnvironmentSatisfaction </td><td>9.988602e-02</td></tr>\n",
       "\t<tr><th scope=row>16</th><td>JobSatisfaction         </td><td>8.768933e-02</td></tr>\n",
       "\t<tr><th scope=row>4</th><td>DailyRate               </td><td>8.026896e-02</td></tr>\n",
       "\t<tr><th scope=row>36</th><td>compa_ratio             </td><td>7.290827e-02</td></tr>\n",
       "\t<tr><th scope=row>8</th><td>EducationField          </td><td>7.277886e-02</td></tr>\n",
       "\t<tr><th scope=row>28</th><td>WorkLifeBalance         </td><td>6.698148e-02</td></tr>\n",
       "\t<tr><th scope=row>6</th><td>DistanceFromHome        </td><td>6.513171e-02</td></tr>\n",
       "\t<tr><th scope=row>12</th><td>HourlyRate              </td><td>5.880276e-02</td></tr>\n",
       "\t<tr><th scope=row>34</th><td>disengaged              </td><td>5.452395e-02</td></tr>\n",
       "\t<tr><th scope=row>31</th><td>YearsSinceLastPromotion </td><td>5.344577e-02</td></tr>\n",
       "\t<tr><th scope=row>19</th><td>MonthlyRate             </td><td>5.231508e-02</td></tr>\n",
       "\t<tr><th scope=row>5</th><td>Department              </td><td>5.217464e-02</td></tr>\n",
       "\t<tr><th scope=row>27</th><td>TrainingTimesLastYear   </td><td>5.108594e-02</td></tr>\n",
       "\t<tr><th scope=row>22</th><td>PercentSalaryHike       </td><td>3.495744e-02</td></tr>\n",
       "\t<tr><th scope=row>9</th><td>EmployeeNumber          </td><td>2.979650e-02</td></tr>\n",
       "\t<tr><th scope=row>37</th><td>compa_level             </td><td>2.663984e-02</td></tr>\n",
       "\t<tr><th scope=row>24</th><td>RelationshipSatisfaction</td><td>2.453174e-02</td></tr>\n",
       "\t<tr><th scope=row>7</th><td>Education               </td><td>1.650537e-02</td></tr>\n",
       "\t<tr><th scope=row>11</th><td>Gender                  </td><td>6.495864e-03</td></tr>\n",
       "\t<tr><th scope=row>23</th><td>PerformanceRating       </td><td>6.139652e-05</td></tr>\n",
       "\t<tr><th scope=row>33</th><td>hipo                    </td><td>6.139652e-05</td></tr>\n",
       "\t<tr><th scope=row>2</th><td>Attrition               </td><td>0.000000e+00</td></tr>\n",
       "</tbody>\n",
       "</table>\n"
      ],
      "text/latex": [
       "A data.frame: 39 × 2\n",
       "\\begin{tabular}{r|ll}\n",
       "  & Variable & IV\\\\\n",
       "  & <chr> & <dbl>\\\\\n",
       "\\hline\n",
       "\t15 & JobRole                  & 4.909971e-01\\\\\n",
       "\t39 & job\\_hop                  & 4.819959e-01\\\\\n",
       "\t18 & MonthlyIncome            & 4.250153e-01\\\\\n",
       "\t38 & AnnualSalary             & 4.250153e-01\\\\\n",
       "\t21 & OverTime                 & 4.001828e-01\\\\\n",
       "\t14 & JobLevel                 & 3.841516e-01\\\\\n",
       "\t35 & median\\_comp              & 3.796698e-01\\\\\n",
       "\t26 & TotalWorkingYears        & 3.775447e-01\\\\\n",
       "\t29 & YearsAtCompany           & 3.366758e-01\\\\\n",
       "\t1 & Age                      & 3.057637e-01\\\\\n",
       "\t32 & YearsWithCurrManager     & 2.947473e-01\\\\\n",
       "\t25 & StockOptionLevel         & 2.871532e-01\\\\\n",
       "\t30 & YearsInCurrentRole       & 2.670369e-01\\\\\n",
       "\t17 & MaritalStatus            & 2.188976e-01\\\\\n",
       "\t3 & BusinessTravel           & 1.208679e-01\\\\\n",
       "\t20 & NumCompaniesWorked       & 1.170546e-01\\\\\n",
       "\t13 & JobInvolvement           & 1.068475e-01\\\\\n",
       "\t10 & EnvironmentSatisfaction  & 9.988602e-02\\\\\n",
       "\t16 & JobSatisfaction          & 8.768933e-02\\\\\n",
       "\t4 & DailyRate                & 8.026896e-02\\\\\n",
       "\t36 & compa\\_ratio              & 7.290827e-02\\\\\n",
       "\t8 & EducationField           & 7.277886e-02\\\\\n",
       "\t28 & WorkLifeBalance          & 6.698148e-02\\\\\n",
       "\t6 & DistanceFromHome         & 6.513171e-02\\\\\n",
       "\t12 & HourlyRate               & 5.880276e-02\\\\\n",
       "\t34 & disengaged               & 5.452395e-02\\\\\n",
       "\t31 & YearsSinceLastPromotion  & 5.344577e-02\\\\\n",
       "\t19 & MonthlyRate              & 5.231508e-02\\\\\n",
       "\t5 & Department               & 5.217464e-02\\\\\n",
       "\t27 & TrainingTimesLastYear    & 5.108594e-02\\\\\n",
       "\t22 & PercentSalaryHike        & 3.495744e-02\\\\\n",
       "\t9 & EmployeeNumber           & 2.979650e-02\\\\\n",
       "\t37 & compa\\_level              & 2.663984e-02\\\\\n",
       "\t24 & RelationshipSatisfaction & 2.453174e-02\\\\\n",
       "\t7 & Education                & 1.650537e-02\\\\\n",
       "\t11 & Gender                   & 6.495864e-03\\\\\n",
       "\t23 & PerformanceRating        & 6.139652e-05\\\\\n",
       "\t33 & hipo                     & 6.139652e-05\\\\\n",
       "\t2 & Attrition                & 0.000000e+00\\\\\n",
       "\\end{tabular}\n"
      ],
      "text/markdown": [
       "\n",
       "A data.frame: 39 × 2\n",
       "\n",
       "| <!--/--> | Variable &lt;chr&gt; | IV &lt;dbl&gt; |\n",
       "|---|---|---|\n",
       "| 15 | JobRole                  | 4.909971e-01 |\n",
       "| 39 | job_hop                  | 4.819959e-01 |\n",
       "| 18 | MonthlyIncome            | 4.250153e-01 |\n",
       "| 38 | AnnualSalary             | 4.250153e-01 |\n",
       "| 21 | OverTime                 | 4.001828e-01 |\n",
       "| 14 | JobLevel                 | 3.841516e-01 |\n",
       "| 35 | median_comp              | 3.796698e-01 |\n",
       "| 26 | TotalWorkingYears        | 3.775447e-01 |\n",
       "| 29 | YearsAtCompany           | 3.366758e-01 |\n",
       "| 1 | Age                      | 3.057637e-01 |\n",
       "| 32 | YearsWithCurrManager     | 2.947473e-01 |\n",
       "| 25 | StockOptionLevel         | 2.871532e-01 |\n",
       "| 30 | YearsInCurrentRole       | 2.670369e-01 |\n",
       "| 17 | MaritalStatus            | 2.188976e-01 |\n",
       "| 3 | BusinessTravel           | 1.208679e-01 |\n",
       "| 20 | NumCompaniesWorked       | 1.170546e-01 |\n",
       "| 13 | JobInvolvement           | 1.068475e-01 |\n",
       "| 10 | EnvironmentSatisfaction  | 9.988602e-02 |\n",
       "| 16 | JobSatisfaction          | 8.768933e-02 |\n",
       "| 4 | DailyRate                | 8.026896e-02 |\n",
       "| 36 | compa_ratio              | 7.290827e-02 |\n",
       "| 8 | EducationField           | 7.277886e-02 |\n",
       "| 28 | WorkLifeBalance          | 6.698148e-02 |\n",
       "| 6 | DistanceFromHome         | 6.513171e-02 |\n",
       "| 12 | HourlyRate               | 5.880276e-02 |\n",
       "| 34 | disengaged               | 5.452395e-02 |\n",
       "| 31 | YearsSinceLastPromotion  | 5.344577e-02 |\n",
       "| 19 | MonthlyRate              | 5.231508e-02 |\n",
       "| 5 | Department               | 5.217464e-02 |\n",
       "| 27 | TrainingTimesLastYear    | 5.108594e-02 |\n",
       "| 22 | PercentSalaryHike        | 3.495744e-02 |\n",
       "| 9 | EmployeeNumber           | 2.979650e-02 |\n",
       "| 37 | compa_level              | 2.663984e-02 |\n",
       "| 24 | RelationshipSatisfaction | 2.453174e-02 |\n",
       "| 7 | Education                | 1.650537e-02 |\n",
       "| 11 | Gender                   | 6.495864e-03 |\n",
       "| 23 | PerformanceRating        | 6.139652e-05 |\n",
       "| 33 | hipo                     | 6.139652e-05 |\n",
       "| 2 | Attrition                | 0.000000e+00 |\n",
       "\n"
      ],
      "text/plain": [
       "   Variable                 IV          \n",
       "15 JobRole                  4.909971e-01\n",
       "39 job_hop                  4.819959e-01\n",
       "18 MonthlyIncome            4.250153e-01\n",
       "38 AnnualSalary             4.250153e-01\n",
       "21 OverTime                 4.001828e-01\n",
       "14 JobLevel                 3.841516e-01\n",
       "35 median_comp              3.796698e-01\n",
       "26 TotalWorkingYears        3.775447e-01\n",
       "29 YearsAtCompany           3.366758e-01\n",
       "1  Age                      3.057637e-01\n",
       "32 YearsWithCurrManager     2.947473e-01\n",
       "25 StockOptionLevel         2.871532e-01\n",
       "30 YearsInCurrentRole       2.670369e-01\n",
       "17 MaritalStatus            2.188976e-01\n",
       "3  BusinessTravel           1.208679e-01\n",
       "20 NumCompaniesWorked       1.170546e-01\n",
       "13 JobInvolvement           1.068475e-01\n",
       "10 EnvironmentSatisfaction  9.988602e-02\n",
       "16 JobSatisfaction          8.768933e-02\n",
       "4  DailyRate                8.026896e-02\n",
       "36 compa_ratio              7.290827e-02\n",
       "8  EducationField           7.277886e-02\n",
       "28 WorkLifeBalance          6.698148e-02\n",
       "6  DistanceFromHome         6.513171e-02\n",
       "12 HourlyRate               5.880276e-02\n",
       "34 disengaged               5.452395e-02\n",
       "31 YearsSinceLastPromotion  5.344577e-02\n",
       "19 MonthlyRate              5.231508e-02\n",
       "5  Department               5.217464e-02\n",
       "27 TrainingTimesLastYear    5.108594e-02\n",
       "22 PercentSalaryHike        3.495744e-02\n",
       "9  EmployeeNumber           2.979650e-02\n",
       "37 compa_level              2.663984e-02\n",
       "24 RelationshipSatisfaction 2.453174e-02\n",
       "7  Education                1.650537e-02\n",
       "11 Gender                   6.495864e-03\n",
       "23 PerformanceRating        6.139652e-05\n",
       "33 hipo                     6.139652e-05\n",
       "2  Attrition                0.000000e+00"
      ]
     },
     "metadata": {},
     "output_type": "display_data"
    }
   ],
   "source": [
    "IV <- create_infotables(data = employee, y = \"turnover\") \n",
    "IV$Summary"
   ]
  },
  {
   "cell_type": "markdown",
   "metadata": {
    "papermill": {
     "duration": 0.096405,
     "end_time": "2020-10-13T23:52:42.257670",
     "exception": false,
     "start_time": "2020-10-13T23:52:42.161265",
     "status": "completed"
    },
    "tags": []
   },
   "source": [
    "\n",
    "Split employee data set into training and testing data set. Check to ensure proportions of active and inactive employees are similar between data sets. It's also a good idea to check to that job level proportions are similar in both data sets. "
   ]
  },
  {
   "cell_type": "code",
   "execution_count": 23,
   "metadata": {
    "execution": {
     "iopub.execute_input": "2020-10-13T23:52:42.449500Z",
     "iopub.status.busy": "2020-10-13T23:52:42.447597Z",
     "iopub.status.idle": "2020-10-13T23:52:42.551589Z",
     "shell.execute_reply": "2020-10-13T23:52:42.550346Z"
    },
    "papermill": {
     "duration": 0.19977,
     "end_time": "2020-10-13T23:52:42.551757",
     "exception": false,
     "start_time": "2020-10-13T23:52:42.351987",
     "status": "completed"
    },
    "tags": []
   },
   "outputs": [
    {
     "name": "stderr",
     "output_type": "stream",
     "text": [
      "Warning message:\n",
      "“The `i` argument of ``[`()` can't be a matrix as of tibble 3.0.0.\n",
      "Convert to a vector.\n",
      "\u001b[90mThis warning is displayed once every 8 hours.\u001b[39m\n",
      "\u001b[90mCall `lifecycle::last_warnings()` to see where this warning was generated.\u001b[39m”\n"
     ]
    },
    {
     "data": {
      "text/html": [
       "<table class=\"dataframe\">\n",
       "<caption>A grouped_df: 10 × 4</caption>\n",
       "<thead>\n",
       "\t<tr><th scope=col>JobLevel</th><th scope=col>Attrition</th><th scope=col>n</th><th scope=col>prop</th></tr>\n",
       "\t<tr><th scope=col>&lt;fct&gt;</th><th scope=col>&lt;chr&gt;</th><th scope=col>&lt;int&gt;</th><th scope=col>&lt;dbl&gt;</th></tr>\n",
       "</thead>\n",
       "<tbody>\n",
       "\t<tr><td>1</td><td>No </td><td>207</td><td>0.74460432</td></tr>\n",
       "\t<tr><td>1</td><td>Yes</td><td> 71</td><td>0.25539568</td></tr>\n",
       "\t<tr><td>2</td><td>No </td><td>253</td><td>0.93014706</td></tr>\n",
       "\t<tr><td>2</td><td>Yes</td><td> 19</td><td>0.06985294</td></tr>\n",
       "\t<tr><td>3</td><td>No </td><td> 82</td><td>0.85416667</td></tr>\n",
       "\t<tr><td>3</td><td>Yes</td><td> 14</td><td>0.14583333</td></tr>\n",
       "\t<tr><td>4</td><td>No </td><td> 53</td><td>0.98148148</td></tr>\n",
       "\t<tr><td>4</td><td>Yes</td><td>  1</td><td>0.01851852</td></tr>\n",
       "\t<tr><td>5</td><td>No </td><td> 32</td><td>0.91428571</td></tr>\n",
       "\t<tr><td>5</td><td>Yes</td><td>  3</td><td>0.08571429</td></tr>\n",
       "</tbody>\n",
       "</table>\n"
      ],
      "text/latex": [
       "A grouped\\_df: 10 × 4\n",
       "\\begin{tabular}{llll}\n",
       " JobLevel & Attrition & n & prop\\\\\n",
       " <fct> & <chr> & <int> & <dbl>\\\\\n",
       "\\hline\n",
       "\t 1 & No  & 207 & 0.74460432\\\\\n",
       "\t 1 & Yes &  71 & 0.25539568\\\\\n",
       "\t 2 & No  & 253 & 0.93014706\\\\\n",
       "\t 2 & Yes &  19 & 0.06985294\\\\\n",
       "\t 3 & No  &  82 & 0.85416667\\\\\n",
       "\t 3 & Yes &  14 & 0.14583333\\\\\n",
       "\t 4 & No  &  53 & 0.98148148\\\\\n",
       "\t 4 & Yes &   1 & 0.01851852\\\\\n",
       "\t 5 & No  &  32 & 0.91428571\\\\\n",
       "\t 5 & Yes &   3 & 0.08571429\\\\\n",
       "\\end{tabular}\n"
      ],
      "text/markdown": [
       "\n",
       "A grouped_df: 10 × 4\n",
       "\n",
       "| JobLevel &lt;fct&gt; | Attrition &lt;chr&gt; | n &lt;int&gt; | prop &lt;dbl&gt; |\n",
       "|---|---|---|---|\n",
       "| 1 | No  | 207 | 0.74460432 |\n",
       "| 1 | Yes |  71 | 0.25539568 |\n",
       "| 2 | No  | 253 | 0.93014706 |\n",
       "| 2 | Yes |  19 | 0.06985294 |\n",
       "| 3 | No  |  82 | 0.85416667 |\n",
       "| 3 | Yes |  14 | 0.14583333 |\n",
       "| 4 | No  |  53 | 0.98148148 |\n",
       "| 4 | Yes |   1 | 0.01851852 |\n",
       "| 5 | No  |  32 | 0.91428571 |\n",
       "| 5 | Yes |   3 | 0.08571429 |\n",
       "\n"
      ],
      "text/plain": [
       "   JobLevel Attrition n   prop      \n",
       "1  1        No        207 0.74460432\n",
       "2  1        Yes        71 0.25539568\n",
       "3  2        No        253 0.93014706\n",
       "4  2        Yes        19 0.06985294\n",
       "5  3        No         82 0.85416667\n",
       "6  3        Yes        14 0.14583333\n",
       "7  4        No         53 0.98148148\n",
       "8  4        Yes         1 0.01851852\n",
       "9  5        No         32 0.91428571\n",
       "10 5        Yes         3 0.08571429"
      ]
     },
     "metadata": {},
     "output_type": "display_data"
    },
    {
     "data": {
      "text/html": [
       "<table class=\"dataframe\">\n",
       "<caption>A grouped_df: 10 × 4</caption>\n",
       "<thead>\n",
       "\t<tr><th scope=col>JobLevel</th><th scope=col>Attrition</th><th scope=col>n</th><th scope=col>prop</th></tr>\n",
       "\t<tr><th scope=col>&lt;fct&gt;</th><th scope=col>&lt;chr&gt;</th><th scope=col>&lt;int&gt;</th><th scope=col>&lt;dbl&gt;</th></tr>\n",
       "</thead>\n",
       "<tbody>\n",
       "\t<tr><td>1</td><td>No </td><td>193</td><td>0.72830189</td></tr>\n",
       "\t<tr><td>1</td><td>Yes</td><td> 72</td><td>0.27169811</td></tr>\n",
       "\t<tr><td>2</td><td>No </td><td>229</td><td>0.87404580</td></tr>\n",
       "\t<tr><td>2</td><td>Yes</td><td> 33</td><td>0.12595420</td></tr>\n",
       "\t<tr><td>3</td><td>No </td><td>104</td><td>0.85245902</td></tr>\n",
       "\t<tr><td>3</td><td>Yes</td><td> 18</td><td>0.14754098</td></tr>\n",
       "\t<tr><td>4</td><td>No </td><td> 48</td><td>0.92307692</td></tr>\n",
       "\t<tr><td>4</td><td>Yes</td><td>  4</td><td>0.07692308</td></tr>\n",
       "\t<tr><td>5</td><td>No </td><td> 32</td><td>0.94117647</td></tr>\n",
       "\t<tr><td>5</td><td>Yes</td><td>  2</td><td>0.05882353</td></tr>\n",
       "</tbody>\n",
       "</table>\n"
      ],
      "text/latex": [
       "A grouped\\_df: 10 × 4\n",
       "\\begin{tabular}{llll}\n",
       " JobLevel & Attrition & n & prop\\\\\n",
       " <fct> & <chr> & <int> & <dbl>\\\\\n",
       "\\hline\n",
       "\t 1 & No  & 193 & 0.72830189\\\\\n",
       "\t 1 & Yes &  72 & 0.27169811\\\\\n",
       "\t 2 & No  & 229 & 0.87404580\\\\\n",
       "\t 2 & Yes &  33 & 0.12595420\\\\\n",
       "\t 3 & No  & 104 & 0.85245902\\\\\n",
       "\t 3 & Yes &  18 & 0.14754098\\\\\n",
       "\t 4 & No  &  48 & 0.92307692\\\\\n",
       "\t 4 & Yes &   4 & 0.07692308\\\\\n",
       "\t 5 & No  &  32 & 0.94117647\\\\\n",
       "\t 5 & Yes &   2 & 0.05882353\\\\\n",
       "\\end{tabular}\n"
      ],
      "text/markdown": [
       "\n",
       "A grouped_df: 10 × 4\n",
       "\n",
       "| JobLevel &lt;fct&gt; | Attrition &lt;chr&gt; | n &lt;int&gt; | prop &lt;dbl&gt; |\n",
       "|---|---|---|---|\n",
       "| 1 | No  | 193 | 0.72830189 |\n",
       "| 1 | Yes |  72 | 0.27169811 |\n",
       "| 2 | No  | 229 | 0.87404580 |\n",
       "| 2 | Yes |  33 | 0.12595420 |\n",
       "| 3 | No  | 104 | 0.85245902 |\n",
       "| 3 | Yes |  18 | 0.14754098 |\n",
       "| 4 | No  |  48 | 0.92307692 |\n",
       "| 4 | Yes |   4 | 0.07692308 |\n",
       "| 5 | No  |  32 | 0.94117647 |\n",
       "| 5 | Yes |   2 | 0.05882353 |\n",
       "\n"
      ],
      "text/plain": [
       "   JobLevel Attrition n   prop      \n",
       "1  1        No        193 0.72830189\n",
       "2  1        Yes        72 0.27169811\n",
       "3  2        No        229 0.87404580\n",
       "4  2        Yes        33 0.12595420\n",
       "5  3        No        104 0.85245902\n",
       "6  3        Yes        18 0.14754098\n",
       "7  4        No         48 0.92307692\n",
       "8  4        Yes         4 0.07692308\n",
       "9  5        No         32 0.94117647\n",
       "10 5        Yes         2 0.05882353"
      ]
     },
     "metadata": {},
     "output_type": "display_data"
    }
   ],
   "source": [
    "set.seed(401) \n",
    "\n",
    "index_training <- createDataPartition(employee$turnover, p = 0.5, list = FALSE) \n",
    "training_set <- employee[index_training, ]\n",
    "testing_set <- employee[-index_training, ]\n",
    "\n",
    "# check proportions in training and testing data sets \n",
    "\n",
    "training_set %>%\n",
    "  count(Attrition) %>%\n",
    "  mutate(prop = n/sum(n)) \n",
    "\n",
    "testing_set %>%\n",
    "  count(Attrition) %>%\n",
    "  mutate(prop = n/sum(n))"
   ]
  },
  {
   "cell_type": "markdown",
   "metadata": {
    "papermill": {
     "duration": 0.095724,
     "end_time": "2020-10-13T23:52:42.740691",
     "exception": false,
     "start_time": "2020-10-13T23:52:42.644967",
     "status": "completed"
    },
    "tags": []
   },
   "source": [
    "Assessment of multicollinearity - test Variance Inflation Factor (VIF)"
   ]
  },
  {
   "cell_type": "code",
   "execution_count": 24,
   "metadata": {
    "execution": {
     "iopub.execute_input": "2020-10-13T23:52:42.934125Z",
     "iopub.status.busy": "2020-10-13T23:52:42.931800Z",
     "iopub.status.idle": "2020-10-13T23:52:43.011448Z",
     "shell.execute_reply": "2020-10-13T23:52:43.008921Z"
    },
    "papermill": {
     "duration": 0.179376,
     "end_time": "2020-10-13T23:52:43.011723",
     "exception": false,
     "start_time": "2020-10-13T23:52:42.832347",
     "status": "completed"
    },
    "tags": []
   },
   "outputs": [],
   "source": [
    "# generate multiple logistic regression model from all independent variables\n",
    "\n",
    "\n",
    "training_set_filter <- training_set %>%\n",
    "  select(-c(EmployeeNumber, BusinessTravel, Attrition, hipo))\n",
    "\n",
    "\n",
    "multi_log <- glm(turnover ~ ., family = \"binomial\", data = training_set_filter,  maxit = 100)  "
   ]
  },
  {
   "cell_type": "markdown",
   "metadata": {
    "papermill": {
     "duration": 0.099371,
     "end_time": "2020-10-13T23:52:43.242419",
     "exception": false,
     "start_time": "2020-10-13T23:52:43.143048",
     "status": "completed"
    },
    "tags": []
   },
   "source": [
    "At this point, checking the model's VIF throws the follwowing error: aliased coefficients in the model.  \n",
    "Run summary() on the model to identify if some of the columns are perfectly collinear with other variables. Summary finds median compensation and annual salary as trouble variables here so I remove and check VIF once again. "
   ]
  },
  {
   "cell_type": "code",
   "execution_count": 25,
   "metadata": {
    "execution": {
     "iopub.execute_input": "2020-10-13T23:52:43.446952Z",
     "iopub.status.busy": "2020-10-13T23:52:43.444821Z",
     "iopub.status.idle": "2020-10-13T23:52:43.487273Z",
     "shell.execute_reply": "2020-10-13T23:52:43.484786Z"
    },
    "papermill": {
     "duration": 0.147035,
     "end_time": "2020-10-13T23:52:43.487523",
     "exception": false,
     "start_time": "2020-10-13T23:52:43.340488",
     "status": "completed"
    },
    "tags": []
   },
   "outputs": [
    {
     "data": {
      "text/plain": [
       "\n",
       "Call:\n",
       "glm(formula = turnover ~ ., family = \"binomial\", data = training_set_filter, \n",
       "    maxit = 100)\n",
       "\n",
       "Deviance Residuals: \n",
       "     Min        1Q    Median        3Q       Max  \n",
       "-1.89320  -0.40095  -0.18477  -0.04302   3.15487  \n",
       "\n",
       "Coefficients: (2 not defined because of singularities)\n",
       "                                   Estimate Std. Error z value Pr(>|z|)    \n",
       "(Intercept)                      -5.813e+00  8.422e+02  -0.007 0.994493    \n",
       "Age                              -2.053e-02  2.188e-02  -0.938 0.348097    \n",
       "DailyRate                        -4.096e-04  3.524e-04  -1.162 0.245107    \n",
       "DepartmentResearch & Development  1.301e+01  8.422e+02   0.015 0.987677    \n",
       "DepartmentSales                   1.384e+01  8.422e+02   0.016 0.986892    \n",
       "DistanceFromHome                  3.838e-02  1.747e-02   2.197 0.028043 *  \n",
       "Education2                       -2.062e-01  5.552e-01  -0.371 0.710298    \n",
       "Education3                        5.362e-01  4.564e-01   1.175 0.239967    \n",
       "Education4                        4.678e-01  5.038e-01   0.929 0.353063    \n",
       "Education5                        7.704e-01  9.429e-01   0.817 0.413892    \n",
       "EducationFieldLife Sciences      -1.592e+00  1.258e+00  -1.265 0.205840    \n",
       "EducationFieldMarketing          -1.561e+00  1.328e+00  -1.175 0.239857    \n",
       "EducationFieldMedical            -1.396e+00  1.245e+00  -1.121 0.262129    \n",
       "EducationFieldOther              -1.287e+00  1.429e+00  -0.901 0.367670    \n",
       "EducationFieldTechnical Degree   -8.778e-03  1.291e+00  -0.007 0.994573    \n",
       "EnvironmentSatisfaction          -4.562e-01  1.377e-01  -3.313 0.000922 ***\n",
       "GenderMale                        2.900e-01  2.929e-01   0.990 0.322227    \n",
       "HourlyRate                        1.309e-03  6.978e-03   0.188 0.851155    \n",
       "JobInvolvement                   -4.439e-01  1.928e-01  -2.302 0.021328 *  \n",
       "JobLevel2                        -3.719e+00  1.396e+00  -2.665 0.007707 ** \n",
       "JobLevel3                        -2.926e+00  2.606e+00  -1.123 0.261421    \n",
       "JobLevel4                        -6.363e+00  4.331e+00  -1.469 0.141762    \n",
       "JobLevel5                        -2.702e+00  5.472e+00  -0.494 0.621475    \n",
       "JobRoleHuman Resources            1.283e+01  8.422e+02   0.015 0.987850    \n",
       "JobRoleLaboratory Technician      8.167e-02  1.334e+00   0.061 0.951181    \n",
       "JobRoleManager                   -2.581e-01  1.893e+00  -0.136 0.891517    \n",
       "JobRoleManufacturing Director     1.938e+00  8.974e-01   2.159 0.030818 *  \n",
       "JobRoleResearch Director         -6.115e-01  1.788e+00  -0.342 0.732342    \n",
       "JobRoleResearch Scientist        -1.310e+00  1.346e+00  -0.973 0.330319    \n",
       "JobRoleSales Executive            1.636e+00  1.948e+00   0.840 0.401146    \n",
       "JobRoleSales Representative      -2.785e-01  2.241e+00  -0.124 0.901112    \n",
       "JobSatisfaction                  -2.090e-01  2.052e-01  -1.018 0.308482    \n",
       "MaritalStatusMarried              1.132e+00  4.711e-01   2.402 0.016310 *  \n",
       "MaritalStatusSingle               1.571e+00  6.050e-01   2.597 0.009404 ** \n",
       "MonthlyIncome                     5.508e-05  3.725e-04   0.148 0.882436    \n",
       "MonthlyRate                       9.343e-06  2.039e-05   0.458 0.646814    \n",
       "NumCompaniesWorked                1.540e-01  8.017e-02   1.921 0.054772 .  \n",
       "OverTimeYes                       2.227e+00  3.155e-01   7.059 1.68e-12 ***\n",
       "PercentSalaryHike                -4.218e-02  6.231e-02  -0.677 0.498444    \n",
       "PerformanceRating                 2.050e-01  6.249e-01   0.328 0.742853    \n",
       "RelationshipSatisfaction         -3.459e-01  1.312e-01  -2.636 0.008387 ** \n",
       "StockOptionLevel                 -4.100e-01  2.685e-01  -1.527 0.126707    \n",
       "TotalWorkingYears                -3.900e-02  4.681e-02  -0.833 0.404715    \n",
       "TrainingTimesLastYear            -1.475e-01  1.089e-01  -1.355 0.175366    \n",
       "WorkLifeBalance                  -2.100e-01  2.126e-01  -0.988 0.323342    \n",
       "YearsAtCompany                    1.118e-01  6.107e-02   1.830 0.067200 .  \n",
       "YearsInCurrentRole               -4.392e-02  7.460e-02  -0.589 0.556027    \n",
       "YearsSinceLastPromotion           1.798e-01  7.214e-02   2.492 0.012701 *  \n",
       "YearsWithCurrManager             -2.719e-01  7.550e-02  -3.602 0.000316 ***\n",
       "disengaged                        6.012e-01  5.417e-01   1.110 0.267048    \n",
       "median_comp                              NA         NA      NA       NA    \n",
       "compa_ratio                      -3.379e+00  1.464e+00  -2.308 0.021018 *  \n",
       "compa_levelBelow                 -1.157e+00  4.799e-01  -2.412 0.015861 *  \n",
       "AnnualSalary                             NA         NA      NA       NA    \n",
       "job_hop                           4.264e-02  6.779e-02   0.629 0.529311    \n",
       "---\n",
       "Signif. codes:  0 ‘***’ 0.001 ‘**’ 0.01 ‘*’ 0.05 ‘.’ 0.1 ‘ ’ 1\n",
       "\n",
       "(Dispersion parameter for binomial family taken to be 1)\n",
       "\n",
       "    Null deviance: 613.52  on 734  degrees of freedom\n",
       "Residual deviance: 366.84  on 682  degrees of freedom\n",
       "AIC: 472.84\n",
       "\n",
       "Number of Fisher Scoring iterations: 15\n"
      ]
     },
     "metadata": {},
     "output_type": "display_data"
    }
   ],
   "source": [
    "summary(multi_log)\n"
   ]
  },
  {
   "cell_type": "code",
   "execution_count": 26,
   "metadata": {
    "execution": {
     "iopub.execute_input": "2020-10-13T23:52:43.716853Z",
     "iopub.status.busy": "2020-10-13T23:52:43.715358Z",
     "iopub.status.idle": "2020-10-13T23:52:43.879465Z",
     "shell.execute_reply": "2020-10-13T23:52:43.877149Z"
    },
    "papermill": {
     "duration": 0.261002,
     "end_time": "2020-10-13T23:52:43.879713",
     "exception": false,
     "start_time": "2020-10-13T23:52:43.618711",
     "status": "completed"
    },
    "tags": []
   },
   "outputs": [
    {
     "data": {
      "text/html": [
       "<table class=\"dataframe\">\n",
       "<caption>A matrix: 33 × 3 of type dbl</caption>\n",
       "<thead>\n",
       "\t<tr><th></th><th scope=col>GVIF</th><th scope=col>Df</th><th scope=col>GVIF^(1/(2*Df))</th></tr>\n",
       "</thead>\n",
       "<tbody>\n",
       "\t<tr><th scope=row>Age</th><td>2.269994e+00</td><td>1</td><td> 1.506650</td></tr>\n",
       "\t<tr><th scope=row>DailyRate</th><td>1.186041e+00</td><td>1</td><td> 1.089055</td></tr>\n",
       "\t<tr><th scope=row>Department</th><td>8.025544e+07</td><td>2</td><td>94.649564</td></tr>\n",
       "\t<tr><th scope=row>DistanceFromHome</th><td>1.159255e+00</td><td>1</td><td> 1.076687</td></tr>\n",
       "\t<tr><th scope=row>Education</th><td>2.056105e+00</td><td>4</td><td> 1.094286</td></tr>\n",
       "\t<tr><th scope=row>EducationField</th><td>5.931670e+00</td><td>5</td><td> 1.194862</td></tr>\n",
       "\t<tr><th scope=row>EnvironmentSatisfaction</th><td>1.250930e+00</td><td>1</td><td> 1.118450</td></tr>\n",
       "\t<tr><th scope=row>Gender</th><td>1.157181e+00</td><td>1</td><td> 1.075724</td></tr>\n",
       "\t<tr><th scope=row>HourlyRate</th><td>1.179941e+00</td><td>1</td><td> 1.086251</td></tr>\n",
       "\t<tr><th scope=row>JobInvolvement</th><td>1.088150e+00</td><td>1</td><td> 1.043144</td></tr>\n",
       "\t<tr><th scope=row>JobLevel</th><td>1.466408e+03</td><td>4</td><td> 2.487607</td></tr>\n",
       "\t<tr><th scope=row>JobRole</th><td>1.165971e+10</td><td>8</td><td> 4.257631</td></tr>\n",
       "\t<tr><th scope=row>JobSatisfaction</th><td>3.202781e+00</td><td>1</td><td> 1.789631</td></tr>\n",
       "\t<tr><th scope=row>MaritalStatus</th><td>2.495407e+00</td><td>2</td><td> 1.256855</td></tr>\n",
       "\t<tr><th scope=row>MonthlyIncome</th><td>1.172542e+02</td><td>1</td><td>10.828398</td></tr>\n",
       "\t<tr><th scope=row>MonthlyRate</th><td>1.212167e+00</td><td>1</td><td> 1.100985</td></tr>\n",
       "\t<tr><th scope=row>NumCompaniesWorked</th><td>2.188661e+00</td><td>1</td><td> 1.479412</td></tr>\n",
       "\t<tr><th scope=row>OverTime</th><td>1.390696e+00</td><td>1</td><td> 1.179278</td></tr>\n",
       "\t<tr><th scope=row>PercentSalaryHike</th><td>3.019243e+00</td><td>1</td><td> 1.737597</td></tr>\n",
       "\t<tr><th scope=row>PerformanceRating</th><td>2.948310e+00</td><td>1</td><td> 1.717064</td></tr>\n",
       "\t<tr><th scope=row>RelationshipSatisfaction</th><td>1.183709e+00</td><td>1</td><td> 1.087984</td></tr>\n",
       "\t<tr><th scope=row>StockOptionLevel</th><td>2.258990e+00</td><td>1</td><td> 1.502994</td></tr>\n",
       "\t<tr><th scope=row>TotalWorkingYears</th><td>6.677722e+00</td><td>1</td><td> 2.584129</td></tr>\n",
       "\t<tr><th scope=row>TrainingTimesLastYear</th><td>1.175199e+00</td><td>1</td><td> 1.084066</td></tr>\n",
       "\t<tr><th scope=row>WorkLifeBalance</th><td>1.194903e+00</td><td>1</td><td> 1.093116</td></tr>\n",
       "\t<tr><th scope=row>YearsAtCompany</th><td>8.301344e+00</td><td>1</td><td> 2.881205</td></tr>\n",
       "\t<tr><th scope=row>YearsInCurrentRole</th><td>3.394092e+00</td><td>1</td><td> 1.842306</td></tr>\n",
       "\t<tr><th scope=row>YearsSinceLastPromotion</th><td>3.165849e+00</td><td>1</td><td> 1.779283</td></tr>\n",
       "\t<tr><th scope=row>YearsWithCurrManager</th><td>2.902797e+00</td><td>1</td><td> 1.703760</td></tr>\n",
       "\t<tr><th scope=row>disengaged</th><td>3.142303e+00</td><td>1</td><td> 1.772654</td></tr>\n",
       "\t<tr><th scope=row>compa_ratio</th><td>7.107030e+00</td><td>1</td><td> 2.665901</td></tr>\n",
       "\t<tr><th scope=row>compa_level</th><td>3.214955e+00</td><td>1</td><td> 1.793029</td></tr>\n",
       "\t<tr><th scope=row>job_hop</th><td>4.477065e+00</td><td>1</td><td> 2.115908</td></tr>\n",
       "</tbody>\n",
       "</table>\n"
      ],
      "text/latex": [
       "A matrix: 33 × 3 of type dbl\n",
       "\\begin{tabular}{r|lll}\n",
       "  & GVIF & Df & GVIF\\textasciicircum{}(1/(2*Df))\\\\\n",
       "\\hline\n",
       "\tAge & 2.269994e+00 & 1 &  1.506650\\\\\n",
       "\tDailyRate & 1.186041e+00 & 1 &  1.089055\\\\\n",
       "\tDepartment & 8.025544e+07 & 2 & 94.649564\\\\\n",
       "\tDistanceFromHome & 1.159255e+00 & 1 &  1.076687\\\\\n",
       "\tEducation & 2.056105e+00 & 4 &  1.094286\\\\\n",
       "\tEducationField & 5.931670e+00 & 5 &  1.194862\\\\\n",
       "\tEnvironmentSatisfaction & 1.250930e+00 & 1 &  1.118450\\\\\n",
       "\tGender & 1.157181e+00 & 1 &  1.075724\\\\\n",
       "\tHourlyRate & 1.179941e+00 & 1 &  1.086251\\\\\n",
       "\tJobInvolvement & 1.088150e+00 & 1 &  1.043144\\\\\n",
       "\tJobLevel & 1.466408e+03 & 4 &  2.487607\\\\\n",
       "\tJobRole & 1.165971e+10 & 8 &  4.257631\\\\\n",
       "\tJobSatisfaction & 3.202781e+00 & 1 &  1.789631\\\\\n",
       "\tMaritalStatus & 2.495407e+00 & 2 &  1.256855\\\\\n",
       "\tMonthlyIncome & 1.172542e+02 & 1 & 10.828398\\\\\n",
       "\tMonthlyRate & 1.212167e+00 & 1 &  1.100985\\\\\n",
       "\tNumCompaniesWorked & 2.188661e+00 & 1 &  1.479412\\\\\n",
       "\tOverTime & 1.390696e+00 & 1 &  1.179278\\\\\n",
       "\tPercentSalaryHike & 3.019243e+00 & 1 &  1.737597\\\\\n",
       "\tPerformanceRating & 2.948310e+00 & 1 &  1.717064\\\\\n",
       "\tRelationshipSatisfaction & 1.183709e+00 & 1 &  1.087984\\\\\n",
       "\tStockOptionLevel & 2.258990e+00 & 1 &  1.502994\\\\\n",
       "\tTotalWorkingYears & 6.677722e+00 & 1 &  2.584129\\\\\n",
       "\tTrainingTimesLastYear & 1.175199e+00 & 1 &  1.084066\\\\\n",
       "\tWorkLifeBalance & 1.194903e+00 & 1 &  1.093116\\\\\n",
       "\tYearsAtCompany & 8.301344e+00 & 1 &  2.881205\\\\\n",
       "\tYearsInCurrentRole & 3.394092e+00 & 1 &  1.842306\\\\\n",
       "\tYearsSinceLastPromotion & 3.165849e+00 & 1 &  1.779283\\\\\n",
       "\tYearsWithCurrManager & 2.902797e+00 & 1 &  1.703760\\\\\n",
       "\tdisengaged & 3.142303e+00 & 1 &  1.772654\\\\\n",
       "\tcompa\\_ratio & 7.107030e+00 & 1 &  2.665901\\\\\n",
       "\tcompa\\_level & 3.214955e+00 & 1 &  1.793029\\\\\n",
       "\tjob\\_hop & 4.477065e+00 & 1 &  2.115908\\\\\n",
       "\\end{tabular}\n"
      ],
      "text/markdown": [
       "\n",
       "A matrix: 33 × 3 of type dbl\n",
       "\n",
       "| <!--/--> | GVIF | Df | GVIF^(1/(2*Df)) |\n",
       "|---|---|---|---|\n",
       "| Age | 2.269994e+00 | 1 |  1.506650 |\n",
       "| DailyRate | 1.186041e+00 | 1 |  1.089055 |\n",
       "| Department | 8.025544e+07 | 2 | 94.649564 |\n",
       "| DistanceFromHome | 1.159255e+00 | 1 |  1.076687 |\n",
       "| Education | 2.056105e+00 | 4 |  1.094286 |\n",
       "| EducationField | 5.931670e+00 | 5 |  1.194862 |\n",
       "| EnvironmentSatisfaction | 1.250930e+00 | 1 |  1.118450 |\n",
       "| Gender | 1.157181e+00 | 1 |  1.075724 |\n",
       "| HourlyRate | 1.179941e+00 | 1 |  1.086251 |\n",
       "| JobInvolvement | 1.088150e+00 | 1 |  1.043144 |\n",
       "| JobLevel | 1.466408e+03 | 4 |  2.487607 |\n",
       "| JobRole | 1.165971e+10 | 8 |  4.257631 |\n",
       "| JobSatisfaction | 3.202781e+00 | 1 |  1.789631 |\n",
       "| MaritalStatus | 2.495407e+00 | 2 |  1.256855 |\n",
       "| MonthlyIncome | 1.172542e+02 | 1 | 10.828398 |\n",
       "| MonthlyRate | 1.212167e+00 | 1 |  1.100985 |\n",
       "| NumCompaniesWorked | 2.188661e+00 | 1 |  1.479412 |\n",
       "| OverTime | 1.390696e+00 | 1 |  1.179278 |\n",
       "| PercentSalaryHike | 3.019243e+00 | 1 |  1.737597 |\n",
       "| PerformanceRating | 2.948310e+00 | 1 |  1.717064 |\n",
       "| RelationshipSatisfaction | 1.183709e+00 | 1 |  1.087984 |\n",
       "| StockOptionLevel | 2.258990e+00 | 1 |  1.502994 |\n",
       "| TotalWorkingYears | 6.677722e+00 | 1 |  2.584129 |\n",
       "| TrainingTimesLastYear | 1.175199e+00 | 1 |  1.084066 |\n",
       "| WorkLifeBalance | 1.194903e+00 | 1 |  1.093116 |\n",
       "| YearsAtCompany | 8.301344e+00 | 1 |  2.881205 |\n",
       "| YearsInCurrentRole | 3.394092e+00 | 1 |  1.842306 |\n",
       "| YearsSinceLastPromotion | 3.165849e+00 | 1 |  1.779283 |\n",
       "| YearsWithCurrManager | 2.902797e+00 | 1 |  1.703760 |\n",
       "| disengaged | 3.142303e+00 | 1 |  1.772654 |\n",
       "| compa_ratio | 7.107030e+00 | 1 |  2.665901 |\n",
       "| compa_level | 3.214955e+00 | 1 |  1.793029 |\n",
       "| job_hop | 4.477065e+00 | 1 |  2.115908 |\n",
       "\n"
      ],
      "text/plain": [
       "                         GVIF         Df GVIF^(1/(2*Df))\n",
       "Age                      2.269994e+00 1   1.506650      \n",
       "DailyRate                1.186041e+00 1   1.089055      \n",
       "Department               8.025544e+07 2  94.649564      \n",
       "DistanceFromHome         1.159255e+00 1   1.076687      \n",
       "Education                2.056105e+00 4   1.094286      \n",
       "EducationField           5.931670e+00 5   1.194862      \n",
       "EnvironmentSatisfaction  1.250930e+00 1   1.118450      \n",
       "Gender                   1.157181e+00 1   1.075724      \n",
       "HourlyRate               1.179941e+00 1   1.086251      \n",
       "JobInvolvement           1.088150e+00 1   1.043144      \n",
       "JobLevel                 1.466408e+03 4   2.487607      \n",
       "JobRole                  1.165971e+10 8   4.257631      \n",
       "JobSatisfaction          3.202781e+00 1   1.789631      \n",
       "MaritalStatus            2.495407e+00 2   1.256855      \n",
       "MonthlyIncome            1.172542e+02 1  10.828398      \n",
       "MonthlyRate              1.212167e+00 1   1.100985      \n",
       "NumCompaniesWorked       2.188661e+00 1   1.479412      \n",
       "OverTime                 1.390696e+00 1   1.179278      \n",
       "PercentSalaryHike        3.019243e+00 1   1.737597      \n",
       "PerformanceRating        2.948310e+00 1   1.717064      \n",
       "RelationshipSatisfaction 1.183709e+00 1   1.087984      \n",
       "StockOptionLevel         2.258990e+00 1   1.502994      \n",
       "TotalWorkingYears        6.677722e+00 1   2.584129      \n",
       "TrainingTimesLastYear    1.175199e+00 1   1.084066      \n",
       "WorkLifeBalance          1.194903e+00 1   1.093116      \n",
       "YearsAtCompany           8.301344e+00 1   2.881205      \n",
       "YearsInCurrentRole       3.394092e+00 1   1.842306      \n",
       "YearsSinceLastPromotion  3.165849e+00 1   1.779283      \n",
       "YearsWithCurrManager     2.902797e+00 1   1.703760      \n",
       "disengaged               3.142303e+00 1   1.772654      \n",
       "compa_ratio              7.107030e+00 1   2.665901      \n",
       "compa_level              3.214955e+00 1   1.793029      \n",
       "job_hop                  4.477065e+00 1   2.115908      "
      ]
     },
     "metadata": {},
     "output_type": "display_data"
    }
   ],
   "source": [
    "training_set_filter <- training_set_filter %>%\n",
    "  select(-c(median_comp, AnnualSalary)) \n",
    "multi_log <- glm(turnover ~ ., family = \"binomial\", data = training_set_filter,  maxit = 100)  \n",
    "vif(multi_log)"
   ]
  },
  {
   "cell_type": "markdown",
   "metadata": {
    "papermill": {
     "duration": 0.092637,
     "end_time": "2020-10-13T23:52:44.112531",
     "exception": false,
     "start_time": "2020-10-13T23:52:44.019894",
     "status": "completed"
    },
    "tags": []
   },
   "source": [
    "Repeat steps to remove variable with highest VIF one at a time until all VIF scores are less than 5. "
   ]
  },
  {
   "cell_type": "code",
   "execution_count": 27,
   "metadata": {
    "execution": {
     "iopub.execute_input": "2020-10-13T23:52:44.304928Z",
     "iopub.status.busy": "2020-10-13T23:52:44.303613Z",
     "iopub.status.idle": "2020-10-13T23:52:44.571065Z",
     "shell.execute_reply": "2020-10-13T23:52:44.568361Z"
    },
    "papermill": {
     "duration": 0.367287,
     "end_time": "2020-10-13T23:52:44.571298",
     "exception": false,
     "start_time": "2020-10-13T23:52:44.204011",
     "status": "completed"
    },
    "tags": []
   },
   "outputs": [
    {
     "data": {
      "text/html": [
       "<table class=\"dataframe\">\n",
       "<caption>A matrix: 32 × 3 of type dbl</caption>\n",
       "<thead>\n",
       "\t<tr><th></th><th scope=col>GVIF</th><th scope=col>Df</th><th scope=col>GVIF^(1/(2*Df))</th></tr>\n",
       "</thead>\n",
       "<tbody>\n",
       "\t<tr><th scope=row>Age</th><td>  2.232791</td><td>1</td><td>1.494253</td></tr>\n",
       "\t<tr><th scope=row>DailyRate</th><td>  1.157888</td><td>1</td><td>1.076052</td></tr>\n",
       "\t<tr><th scope=row>Department</th><td>  4.642600</td><td>2</td><td>1.467879</td></tr>\n",
       "\t<tr><th scope=row>DistanceFromHome</th><td>  1.119489</td><td>1</td><td>1.058059</td></tr>\n",
       "\t<tr><th scope=row>Education</th><td>  1.656665</td><td>4</td><td>1.065134</td></tr>\n",
       "\t<tr><th scope=row>EducationField</th><td>  5.253820</td><td>5</td><td>1.180450</td></tr>\n",
       "\t<tr><th scope=row>EnvironmentSatisfaction</th><td>  1.165163</td><td>1</td><td>1.079427</td></tr>\n",
       "\t<tr><th scope=row>Gender</th><td>  1.107098</td><td>1</td><td>1.052187</td></tr>\n",
       "\t<tr><th scope=row>HourlyRate</th><td>  1.116065</td><td>1</td><td>1.056440</td></tr>\n",
       "\t<tr><th scope=row>JobInvolvement</th><td>  1.065617</td><td>1</td><td>1.032287</td></tr>\n",
       "\t<tr><th scope=row>JobLevel</th><td>118.889202</td><td>4</td><td>1.817158</td></tr>\n",
       "\t<tr><th scope=row>JobSatisfaction</th><td>  3.154367</td><td>1</td><td>1.776054</td></tr>\n",
       "\t<tr><th scope=row>MaritalStatus</th><td>  2.325308</td><td>2</td><td>1.234867</td></tr>\n",
       "\t<tr><th scope=row>MonthlyIncome</th><td> 73.257345</td><td>1</td><td>8.559050</td></tr>\n",
       "\t<tr><th scope=row>MonthlyRate</th><td>  1.132702</td><td>1</td><td>1.064285</td></tr>\n",
       "\t<tr><th scope=row>NumCompaniesWorked</th><td>  2.158953</td><td>1</td><td>1.469337</td></tr>\n",
       "\t<tr><th scope=row>OverTime</th><td>  1.297993</td><td>1</td><td>1.139295</td></tr>\n",
       "\t<tr><th scope=row>PercentSalaryHike</th><td>  2.879738</td><td>1</td><td>1.696979</td></tr>\n",
       "\t<tr><th scope=row>PerformanceRating</th><td>  2.850076</td><td>1</td><td>1.688217</td></tr>\n",
       "\t<tr><th scope=row>RelationshipSatisfaction</th><td>  1.149746</td><td>1</td><td>1.072262</td></tr>\n",
       "\t<tr><th scope=row>StockOptionLevel</th><td>  2.148986</td><td>1</td><td>1.465942</td></tr>\n",
       "\t<tr><th scope=row>TotalWorkingYears</th><td>  6.238897</td><td>1</td><td>2.497779</td></tr>\n",
       "\t<tr><th scope=row>TrainingTimesLastYear</th><td>  1.134856</td><td>1</td><td>1.065296</td></tr>\n",
       "\t<tr><th scope=row>WorkLifeBalance</th><td>  1.151285</td><td>1</td><td>1.072980</td></tr>\n",
       "\t<tr><th scope=row>YearsAtCompany</th><td>  7.448360</td><td>1</td><td>2.729168</td></tr>\n",
       "\t<tr><th scope=row>YearsInCurrentRole</th><td>  3.299615</td><td>1</td><td>1.816484</td></tr>\n",
       "\t<tr><th scope=row>YearsSinceLastPromotion</th><td>  2.902492</td><td>1</td><td>1.703670</td></tr>\n",
       "\t<tr><th scope=row>YearsWithCurrManager</th><td>  2.593585</td><td>1</td><td>1.610461</td></tr>\n",
       "\t<tr><th scope=row>disengaged</th><td>  3.148358</td><td>1</td><td>1.774361</td></tr>\n",
       "\t<tr><th scope=row>compa_ratio</th><td>  5.726469</td><td>1</td><td>2.393004</td></tr>\n",
       "\t<tr><th scope=row>compa_level</th><td>  3.025209</td><td>1</td><td>1.739313</td></tr>\n",
       "\t<tr><th scope=row>job_hop</th><td>  4.140299</td><td>1</td><td>2.034772</td></tr>\n",
       "</tbody>\n",
       "</table>\n"
      ],
      "text/latex": [
       "A matrix: 32 × 3 of type dbl\n",
       "\\begin{tabular}{r|lll}\n",
       "  & GVIF & Df & GVIF\\textasciicircum{}(1/(2*Df))\\\\\n",
       "\\hline\n",
       "\tAge &   2.232791 & 1 & 1.494253\\\\\n",
       "\tDailyRate &   1.157888 & 1 & 1.076052\\\\\n",
       "\tDepartment &   4.642600 & 2 & 1.467879\\\\\n",
       "\tDistanceFromHome &   1.119489 & 1 & 1.058059\\\\\n",
       "\tEducation &   1.656665 & 4 & 1.065134\\\\\n",
       "\tEducationField &   5.253820 & 5 & 1.180450\\\\\n",
       "\tEnvironmentSatisfaction &   1.165163 & 1 & 1.079427\\\\\n",
       "\tGender &   1.107098 & 1 & 1.052187\\\\\n",
       "\tHourlyRate &   1.116065 & 1 & 1.056440\\\\\n",
       "\tJobInvolvement &   1.065617 & 1 & 1.032287\\\\\n",
       "\tJobLevel & 118.889202 & 4 & 1.817158\\\\\n",
       "\tJobSatisfaction &   3.154367 & 1 & 1.776054\\\\\n",
       "\tMaritalStatus &   2.325308 & 2 & 1.234867\\\\\n",
       "\tMonthlyIncome &  73.257345 & 1 & 8.559050\\\\\n",
       "\tMonthlyRate &   1.132702 & 1 & 1.064285\\\\\n",
       "\tNumCompaniesWorked &   2.158953 & 1 & 1.469337\\\\\n",
       "\tOverTime &   1.297993 & 1 & 1.139295\\\\\n",
       "\tPercentSalaryHike &   2.879738 & 1 & 1.696979\\\\\n",
       "\tPerformanceRating &   2.850076 & 1 & 1.688217\\\\\n",
       "\tRelationshipSatisfaction &   1.149746 & 1 & 1.072262\\\\\n",
       "\tStockOptionLevel &   2.148986 & 1 & 1.465942\\\\\n",
       "\tTotalWorkingYears &   6.238897 & 1 & 2.497779\\\\\n",
       "\tTrainingTimesLastYear &   1.134856 & 1 & 1.065296\\\\\n",
       "\tWorkLifeBalance &   1.151285 & 1 & 1.072980\\\\\n",
       "\tYearsAtCompany &   7.448360 & 1 & 2.729168\\\\\n",
       "\tYearsInCurrentRole &   3.299615 & 1 & 1.816484\\\\\n",
       "\tYearsSinceLastPromotion &   2.902492 & 1 & 1.703670\\\\\n",
       "\tYearsWithCurrManager &   2.593585 & 1 & 1.610461\\\\\n",
       "\tdisengaged &   3.148358 & 1 & 1.774361\\\\\n",
       "\tcompa\\_ratio &   5.726469 & 1 & 2.393004\\\\\n",
       "\tcompa\\_level &   3.025209 & 1 & 1.739313\\\\\n",
       "\tjob\\_hop &   4.140299 & 1 & 2.034772\\\\\n",
       "\\end{tabular}\n"
      ],
      "text/markdown": [
       "\n",
       "A matrix: 32 × 3 of type dbl\n",
       "\n",
       "| <!--/--> | GVIF | Df | GVIF^(1/(2*Df)) |\n",
       "|---|---|---|---|\n",
       "| Age |   2.232791 | 1 | 1.494253 |\n",
       "| DailyRate |   1.157888 | 1 | 1.076052 |\n",
       "| Department |   4.642600 | 2 | 1.467879 |\n",
       "| DistanceFromHome |   1.119489 | 1 | 1.058059 |\n",
       "| Education |   1.656665 | 4 | 1.065134 |\n",
       "| EducationField |   5.253820 | 5 | 1.180450 |\n",
       "| EnvironmentSatisfaction |   1.165163 | 1 | 1.079427 |\n",
       "| Gender |   1.107098 | 1 | 1.052187 |\n",
       "| HourlyRate |   1.116065 | 1 | 1.056440 |\n",
       "| JobInvolvement |   1.065617 | 1 | 1.032287 |\n",
       "| JobLevel | 118.889202 | 4 | 1.817158 |\n",
       "| JobSatisfaction |   3.154367 | 1 | 1.776054 |\n",
       "| MaritalStatus |   2.325308 | 2 | 1.234867 |\n",
       "| MonthlyIncome |  73.257345 | 1 | 8.559050 |\n",
       "| MonthlyRate |   1.132702 | 1 | 1.064285 |\n",
       "| NumCompaniesWorked |   2.158953 | 1 | 1.469337 |\n",
       "| OverTime |   1.297993 | 1 | 1.139295 |\n",
       "| PercentSalaryHike |   2.879738 | 1 | 1.696979 |\n",
       "| PerformanceRating |   2.850076 | 1 | 1.688217 |\n",
       "| RelationshipSatisfaction |   1.149746 | 1 | 1.072262 |\n",
       "| StockOptionLevel |   2.148986 | 1 | 1.465942 |\n",
       "| TotalWorkingYears |   6.238897 | 1 | 2.497779 |\n",
       "| TrainingTimesLastYear |   1.134856 | 1 | 1.065296 |\n",
       "| WorkLifeBalance |   1.151285 | 1 | 1.072980 |\n",
       "| YearsAtCompany |   7.448360 | 1 | 2.729168 |\n",
       "| YearsInCurrentRole |   3.299615 | 1 | 1.816484 |\n",
       "| YearsSinceLastPromotion |   2.902492 | 1 | 1.703670 |\n",
       "| YearsWithCurrManager |   2.593585 | 1 | 1.610461 |\n",
       "| disengaged |   3.148358 | 1 | 1.774361 |\n",
       "| compa_ratio |   5.726469 | 1 | 2.393004 |\n",
       "| compa_level |   3.025209 | 1 | 1.739313 |\n",
       "| job_hop |   4.140299 | 1 | 2.034772 |\n",
       "\n"
      ],
      "text/plain": [
       "                         GVIF       Df GVIF^(1/(2*Df))\n",
       "Age                        2.232791 1  1.494253       \n",
       "DailyRate                  1.157888 1  1.076052       \n",
       "Department                 4.642600 2  1.467879       \n",
       "DistanceFromHome           1.119489 1  1.058059       \n",
       "Education                  1.656665 4  1.065134       \n",
       "EducationField             5.253820 5  1.180450       \n",
       "EnvironmentSatisfaction    1.165163 1  1.079427       \n",
       "Gender                     1.107098 1  1.052187       \n",
       "HourlyRate                 1.116065 1  1.056440       \n",
       "JobInvolvement             1.065617 1  1.032287       \n",
       "JobLevel                 118.889202 4  1.817158       \n",
       "JobSatisfaction            3.154367 1  1.776054       \n",
       "MaritalStatus              2.325308 2  1.234867       \n",
       "MonthlyIncome             73.257345 1  8.559050       \n",
       "MonthlyRate                1.132702 1  1.064285       \n",
       "NumCompaniesWorked         2.158953 1  1.469337       \n",
       "OverTime                   1.297993 1  1.139295       \n",
       "PercentSalaryHike          2.879738 1  1.696979       \n",
       "PerformanceRating          2.850076 1  1.688217       \n",
       "RelationshipSatisfaction   1.149746 1  1.072262       \n",
       "StockOptionLevel           2.148986 1  1.465942       \n",
       "TotalWorkingYears          6.238897 1  2.497779       \n",
       "TrainingTimesLastYear      1.134856 1  1.065296       \n",
       "WorkLifeBalance            1.151285 1  1.072980       \n",
       "YearsAtCompany             7.448360 1  2.729168       \n",
       "YearsInCurrentRole         3.299615 1  1.816484       \n",
       "YearsSinceLastPromotion    2.902492 1  1.703670       \n",
       "YearsWithCurrManager       2.593585 1  1.610461       \n",
       "disengaged                 3.148358 1  1.774361       \n",
       "compa_ratio                5.726469 1  2.393004       \n",
       "compa_level                3.025209 1  1.739313       \n",
       "job_hop                    4.140299 1  2.034772       "
      ]
     },
     "metadata": {},
     "output_type": "display_data"
    },
    {
     "data": {
      "text/html": [
       "<table class=\"dataframe\">\n",
       "<caption>A matrix: 31 × 3 of type dbl</caption>\n",
       "<thead>\n",
       "\t<tr><th></th><th scope=col>GVIF</th><th scope=col>Df</th><th scope=col>GVIF^(1/(2*Df))</th></tr>\n",
       "</thead>\n",
       "<tbody>\n",
       "\t<tr><th scope=row>Age</th><td>2.059964</td><td>1</td><td>1.435257</td></tr>\n",
       "\t<tr><th scope=row>DailyRate</th><td>1.137344</td><td>1</td><td>1.066464</td></tr>\n",
       "\t<tr><th scope=row>Department</th><td>4.207811</td><td>2</td><td>1.432234</td></tr>\n",
       "\t<tr><th scope=row>DistanceFromHome</th><td>1.094412</td><td>1</td><td>1.046141</td></tr>\n",
       "\t<tr><th scope=row>Education</th><td>1.536033</td><td>4</td><td>1.055116</td></tr>\n",
       "\t<tr><th scope=row>EducationField</th><td>5.139691</td><td>5</td><td>1.177860</td></tr>\n",
       "\t<tr><th scope=row>EnvironmentSatisfaction</th><td>1.149599</td><td>1</td><td>1.072193</td></tr>\n",
       "\t<tr><th scope=row>Gender</th><td>1.101016</td><td>1</td><td>1.049293</td></tr>\n",
       "\t<tr><th scope=row>HourlyRate</th><td>1.086434</td><td>1</td><td>1.042321</td></tr>\n",
       "\t<tr><th scope=row>JobInvolvement</th><td>1.050024</td><td>1</td><td>1.024707</td></tr>\n",
       "\t<tr><th scope=row>JobSatisfaction</th><td>3.065967</td><td>1</td><td>1.750990</td></tr>\n",
       "\t<tr><th scope=row>MaritalStatus</th><td>2.370813</td><td>2</td><td>1.240864</td></tr>\n",
       "\t<tr><th scope=row>MonthlyIncome</th><td>2.902806</td><td>1</td><td>1.703762</td></tr>\n",
       "\t<tr><th scope=row>MonthlyRate</th><td>1.101163</td><td>1</td><td>1.049363</td></tr>\n",
       "\t<tr><th scope=row>NumCompaniesWorked</th><td>2.325587</td><td>1</td><td>1.524987</td></tr>\n",
       "\t<tr><th scope=row>OverTime</th><td>1.221618</td><td>1</td><td>1.105268</td></tr>\n",
       "\t<tr><th scope=row>PercentSalaryHike</th><td>2.891066</td><td>1</td><td>1.700313</td></tr>\n",
       "\t<tr><th scope=row>PerformanceRating</th><td>2.893165</td><td>1</td><td>1.700931</td></tr>\n",
       "\t<tr><th scope=row>RelationshipSatisfaction</th><td>1.140579</td><td>1</td><td>1.067979</td></tr>\n",
       "\t<tr><th scope=row>StockOptionLevel</th><td>2.131455</td><td>1</td><td>1.459950</td></tr>\n",
       "\t<tr><th scope=row>TotalWorkingYears</th><td>6.089832</td><td>1</td><td>2.467758</td></tr>\n",
       "\t<tr><th scope=row>TrainingTimesLastYear</th><td>1.089111</td><td>1</td><td>1.043605</td></tr>\n",
       "\t<tr><th scope=row>WorkLifeBalance</th><td>1.132769</td><td>1</td><td>1.064316</td></tr>\n",
       "\t<tr><th scope=row>YearsAtCompany</th><td>6.945794</td><td>1</td><td>2.635487</td></tr>\n",
       "\t<tr><th scope=row>YearsInCurrentRole</th><td>3.089771</td><td>1</td><td>1.757774</td></tr>\n",
       "\t<tr><th scope=row>YearsSinceLastPromotion</th><td>2.863203</td><td>1</td><td>1.692100</td></tr>\n",
       "\t<tr><th scope=row>YearsWithCurrManager</th><td>2.359256</td><td>1</td><td>1.535987</td></tr>\n",
       "\t<tr><th scope=row>disengaged</th><td>3.080554</td><td>1</td><td>1.755151</td></tr>\n",
       "\t<tr><th scope=row>compa_ratio</th><td>2.840299</td><td>1</td><td>1.685319</td></tr>\n",
       "\t<tr><th scope=row>compa_level</th><td>2.845799</td><td>1</td><td>1.686950</td></tr>\n",
       "\t<tr><th scope=row>job_hop</th><td>4.293674</td><td>1</td><td>2.072118</td></tr>\n",
       "</tbody>\n",
       "</table>\n"
      ],
      "text/latex": [
       "A matrix: 31 × 3 of type dbl\n",
       "\\begin{tabular}{r|lll}\n",
       "  & GVIF & Df & GVIF\\textasciicircum{}(1/(2*Df))\\\\\n",
       "\\hline\n",
       "\tAge & 2.059964 & 1 & 1.435257\\\\\n",
       "\tDailyRate & 1.137344 & 1 & 1.066464\\\\\n",
       "\tDepartment & 4.207811 & 2 & 1.432234\\\\\n",
       "\tDistanceFromHome & 1.094412 & 1 & 1.046141\\\\\n",
       "\tEducation & 1.536033 & 4 & 1.055116\\\\\n",
       "\tEducationField & 5.139691 & 5 & 1.177860\\\\\n",
       "\tEnvironmentSatisfaction & 1.149599 & 1 & 1.072193\\\\\n",
       "\tGender & 1.101016 & 1 & 1.049293\\\\\n",
       "\tHourlyRate & 1.086434 & 1 & 1.042321\\\\\n",
       "\tJobInvolvement & 1.050024 & 1 & 1.024707\\\\\n",
       "\tJobSatisfaction & 3.065967 & 1 & 1.750990\\\\\n",
       "\tMaritalStatus & 2.370813 & 2 & 1.240864\\\\\n",
       "\tMonthlyIncome & 2.902806 & 1 & 1.703762\\\\\n",
       "\tMonthlyRate & 1.101163 & 1 & 1.049363\\\\\n",
       "\tNumCompaniesWorked & 2.325587 & 1 & 1.524987\\\\\n",
       "\tOverTime & 1.221618 & 1 & 1.105268\\\\\n",
       "\tPercentSalaryHike & 2.891066 & 1 & 1.700313\\\\\n",
       "\tPerformanceRating & 2.893165 & 1 & 1.700931\\\\\n",
       "\tRelationshipSatisfaction & 1.140579 & 1 & 1.067979\\\\\n",
       "\tStockOptionLevel & 2.131455 & 1 & 1.459950\\\\\n",
       "\tTotalWorkingYears & 6.089832 & 1 & 2.467758\\\\\n",
       "\tTrainingTimesLastYear & 1.089111 & 1 & 1.043605\\\\\n",
       "\tWorkLifeBalance & 1.132769 & 1 & 1.064316\\\\\n",
       "\tYearsAtCompany & 6.945794 & 1 & 2.635487\\\\\n",
       "\tYearsInCurrentRole & 3.089771 & 1 & 1.757774\\\\\n",
       "\tYearsSinceLastPromotion & 2.863203 & 1 & 1.692100\\\\\n",
       "\tYearsWithCurrManager & 2.359256 & 1 & 1.535987\\\\\n",
       "\tdisengaged & 3.080554 & 1 & 1.755151\\\\\n",
       "\tcompa\\_ratio & 2.840299 & 1 & 1.685319\\\\\n",
       "\tcompa\\_level & 2.845799 & 1 & 1.686950\\\\\n",
       "\tjob\\_hop & 4.293674 & 1 & 2.072118\\\\\n",
       "\\end{tabular}\n"
      ],
      "text/markdown": [
       "\n",
       "A matrix: 31 × 3 of type dbl\n",
       "\n",
       "| <!--/--> | GVIF | Df | GVIF^(1/(2*Df)) |\n",
       "|---|---|---|---|\n",
       "| Age | 2.059964 | 1 | 1.435257 |\n",
       "| DailyRate | 1.137344 | 1 | 1.066464 |\n",
       "| Department | 4.207811 | 2 | 1.432234 |\n",
       "| DistanceFromHome | 1.094412 | 1 | 1.046141 |\n",
       "| Education | 1.536033 | 4 | 1.055116 |\n",
       "| EducationField | 5.139691 | 5 | 1.177860 |\n",
       "| EnvironmentSatisfaction | 1.149599 | 1 | 1.072193 |\n",
       "| Gender | 1.101016 | 1 | 1.049293 |\n",
       "| HourlyRate | 1.086434 | 1 | 1.042321 |\n",
       "| JobInvolvement | 1.050024 | 1 | 1.024707 |\n",
       "| JobSatisfaction | 3.065967 | 1 | 1.750990 |\n",
       "| MaritalStatus | 2.370813 | 2 | 1.240864 |\n",
       "| MonthlyIncome | 2.902806 | 1 | 1.703762 |\n",
       "| MonthlyRate | 1.101163 | 1 | 1.049363 |\n",
       "| NumCompaniesWorked | 2.325587 | 1 | 1.524987 |\n",
       "| OverTime | 1.221618 | 1 | 1.105268 |\n",
       "| PercentSalaryHike | 2.891066 | 1 | 1.700313 |\n",
       "| PerformanceRating | 2.893165 | 1 | 1.700931 |\n",
       "| RelationshipSatisfaction | 1.140579 | 1 | 1.067979 |\n",
       "| StockOptionLevel | 2.131455 | 1 | 1.459950 |\n",
       "| TotalWorkingYears | 6.089832 | 1 | 2.467758 |\n",
       "| TrainingTimesLastYear | 1.089111 | 1 | 1.043605 |\n",
       "| WorkLifeBalance | 1.132769 | 1 | 1.064316 |\n",
       "| YearsAtCompany | 6.945794 | 1 | 2.635487 |\n",
       "| YearsInCurrentRole | 3.089771 | 1 | 1.757774 |\n",
       "| YearsSinceLastPromotion | 2.863203 | 1 | 1.692100 |\n",
       "| YearsWithCurrManager | 2.359256 | 1 | 1.535987 |\n",
       "| disengaged | 3.080554 | 1 | 1.755151 |\n",
       "| compa_ratio | 2.840299 | 1 | 1.685319 |\n",
       "| compa_level | 2.845799 | 1 | 1.686950 |\n",
       "| job_hop | 4.293674 | 1 | 2.072118 |\n",
       "\n"
      ],
      "text/plain": [
       "                         GVIF     Df GVIF^(1/(2*Df))\n",
       "Age                      2.059964 1  1.435257       \n",
       "DailyRate                1.137344 1  1.066464       \n",
       "Department               4.207811 2  1.432234       \n",
       "DistanceFromHome         1.094412 1  1.046141       \n",
       "Education                1.536033 4  1.055116       \n",
       "EducationField           5.139691 5  1.177860       \n",
       "EnvironmentSatisfaction  1.149599 1  1.072193       \n",
       "Gender                   1.101016 1  1.049293       \n",
       "HourlyRate               1.086434 1  1.042321       \n",
       "JobInvolvement           1.050024 1  1.024707       \n",
       "JobSatisfaction          3.065967 1  1.750990       \n",
       "MaritalStatus            2.370813 2  1.240864       \n",
       "MonthlyIncome            2.902806 1  1.703762       \n",
       "MonthlyRate              1.101163 1  1.049363       \n",
       "NumCompaniesWorked       2.325587 1  1.524987       \n",
       "OverTime                 1.221618 1  1.105268       \n",
       "PercentSalaryHike        2.891066 1  1.700313       \n",
       "PerformanceRating        2.893165 1  1.700931       \n",
       "RelationshipSatisfaction 1.140579 1  1.067979       \n",
       "StockOptionLevel         2.131455 1  1.459950       \n",
       "TotalWorkingYears        6.089832 1  2.467758       \n",
       "TrainingTimesLastYear    1.089111 1  1.043605       \n",
       "WorkLifeBalance          1.132769 1  1.064316       \n",
       "YearsAtCompany           6.945794 1  2.635487       \n",
       "YearsInCurrentRole       3.089771 1  1.757774       \n",
       "YearsSinceLastPromotion  2.863203 1  1.692100       \n",
       "YearsWithCurrManager     2.359256 1  1.535987       \n",
       "disengaged               3.080554 1  1.755151       \n",
       "compa_ratio              2.840299 1  1.685319       \n",
       "compa_level              2.845799 1  1.686950       \n",
       "job_hop                  4.293674 1  2.072118       "
      ]
     },
     "metadata": {},
     "output_type": "display_data"
    },
    {
     "data": {
      "text/html": [
       "<table class=\"dataframe\">\n",
       "<caption>A matrix: 30 × 3 of type dbl</caption>\n",
       "<thead>\n",
       "\t<tr><th></th><th scope=col>GVIF</th><th scope=col>Df</th><th scope=col>GVIF^(1/(2*Df))</th></tr>\n",
       "</thead>\n",
       "<tbody>\n",
       "\t<tr><th scope=row>Age</th><td>2.026366</td><td>1</td><td>1.423505</td></tr>\n",
       "\t<tr><th scope=row>DailyRate</th><td>1.123488</td><td>1</td><td>1.059947</td></tr>\n",
       "\t<tr><th scope=row>Department</th><td>4.189372</td><td>2</td><td>1.430663</td></tr>\n",
       "\t<tr><th scope=row>DistanceFromHome</th><td>1.092967</td><td>1</td><td>1.045450</td></tr>\n",
       "\t<tr><th scope=row>Education</th><td>1.500195</td><td>4</td><td>1.052007</td></tr>\n",
       "\t<tr><th scope=row>EducationField</th><td>4.925845</td><td>5</td><td>1.172865</td></tr>\n",
       "\t<tr><th scope=row>EnvironmentSatisfaction</th><td>1.146481</td><td>1</td><td>1.070738</td></tr>\n",
       "\t<tr><th scope=row>Gender</th><td>1.108055</td><td>1</td><td>1.052642</td></tr>\n",
       "\t<tr><th scope=row>HourlyRate</th><td>1.079324</td><td>1</td><td>1.038905</td></tr>\n",
       "\t<tr><th scope=row>JobInvolvement</th><td>1.047668</td><td>1</td><td>1.023557</td></tr>\n",
       "\t<tr><th scope=row>JobSatisfaction</th><td>3.059788</td><td>1</td><td>1.749225</td></tr>\n",
       "\t<tr><th scope=row>MaritalStatus</th><td>2.298663</td><td>2</td><td>1.231314</td></tr>\n",
       "\t<tr><th scope=row>MonthlyIncome</th><td>2.767257</td><td>1</td><td>1.663507</td></tr>\n",
       "\t<tr><th scope=row>MonthlyRate</th><td>1.107830</td><td>1</td><td>1.052535</td></tr>\n",
       "\t<tr><th scope=row>NumCompaniesWorked</th><td>2.294083</td><td>1</td><td>1.514623</td></tr>\n",
       "\t<tr><th scope=row>OverTime</th><td>1.200716</td><td>1</td><td>1.095772</td></tr>\n",
       "\t<tr><th scope=row>PercentSalaryHike</th><td>2.845981</td><td>1</td><td>1.687004</td></tr>\n",
       "\t<tr><th scope=row>PerformanceRating</th><td>2.857904</td><td>1</td><td>1.690534</td></tr>\n",
       "\t<tr><th scope=row>RelationshipSatisfaction</th><td>1.134526</td><td>1</td><td>1.065141</td></tr>\n",
       "\t<tr><th scope=row>StockOptionLevel</th><td>2.124823</td><td>1</td><td>1.457677</td></tr>\n",
       "\t<tr><th scope=row>TotalWorkingYears</th><td>5.085918</td><td>1</td><td>2.255198</td></tr>\n",
       "\t<tr><th scope=row>TrainingTimesLastYear</th><td>1.090029</td><td>1</td><td>1.044045</td></tr>\n",
       "\t<tr><th scope=row>WorkLifeBalance</th><td>1.127071</td><td>1</td><td>1.061636</td></tr>\n",
       "\t<tr><th scope=row>YearsInCurrentRole</th><td>2.741837</td><td>1</td><td>1.655849</td></tr>\n",
       "\t<tr><th scope=row>YearsSinceLastPromotion</th><td>2.473050</td><td>1</td><td>1.572594</td></tr>\n",
       "\t<tr><th scope=row>YearsWithCurrManager</th><td>2.402602</td><td>1</td><td>1.550033</td></tr>\n",
       "\t<tr><th scope=row>disengaged</th><td>3.077155</td><td>1</td><td>1.754182</td></tr>\n",
       "\t<tr><th scope=row>compa_ratio</th><td>2.842774</td><td>1</td><td>1.686053</td></tr>\n",
       "\t<tr><th scope=row>compa_level</th><td>2.825506</td><td>1</td><td>1.680924</td></tr>\n",
       "\t<tr><th scope=row>job_hop</th><td>3.709931</td><td>1</td><td>1.926118</td></tr>\n",
       "</tbody>\n",
       "</table>\n"
      ],
      "text/latex": [
       "A matrix: 30 × 3 of type dbl\n",
       "\\begin{tabular}{r|lll}\n",
       "  & GVIF & Df & GVIF\\textasciicircum{}(1/(2*Df))\\\\\n",
       "\\hline\n",
       "\tAge & 2.026366 & 1 & 1.423505\\\\\n",
       "\tDailyRate & 1.123488 & 1 & 1.059947\\\\\n",
       "\tDepartment & 4.189372 & 2 & 1.430663\\\\\n",
       "\tDistanceFromHome & 1.092967 & 1 & 1.045450\\\\\n",
       "\tEducation & 1.500195 & 4 & 1.052007\\\\\n",
       "\tEducationField & 4.925845 & 5 & 1.172865\\\\\n",
       "\tEnvironmentSatisfaction & 1.146481 & 1 & 1.070738\\\\\n",
       "\tGender & 1.108055 & 1 & 1.052642\\\\\n",
       "\tHourlyRate & 1.079324 & 1 & 1.038905\\\\\n",
       "\tJobInvolvement & 1.047668 & 1 & 1.023557\\\\\n",
       "\tJobSatisfaction & 3.059788 & 1 & 1.749225\\\\\n",
       "\tMaritalStatus & 2.298663 & 2 & 1.231314\\\\\n",
       "\tMonthlyIncome & 2.767257 & 1 & 1.663507\\\\\n",
       "\tMonthlyRate & 1.107830 & 1 & 1.052535\\\\\n",
       "\tNumCompaniesWorked & 2.294083 & 1 & 1.514623\\\\\n",
       "\tOverTime & 1.200716 & 1 & 1.095772\\\\\n",
       "\tPercentSalaryHike & 2.845981 & 1 & 1.687004\\\\\n",
       "\tPerformanceRating & 2.857904 & 1 & 1.690534\\\\\n",
       "\tRelationshipSatisfaction & 1.134526 & 1 & 1.065141\\\\\n",
       "\tStockOptionLevel & 2.124823 & 1 & 1.457677\\\\\n",
       "\tTotalWorkingYears & 5.085918 & 1 & 2.255198\\\\\n",
       "\tTrainingTimesLastYear & 1.090029 & 1 & 1.044045\\\\\n",
       "\tWorkLifeBalance & 1.127071 & 1 & 1.061636\\\\\n",
       "\tYearsInCurrentRole & 2.741837 & 1 & 1.655849\\\\\n",
       "\tYearsSinceLastPromotion & 2.473050 & 1 & 1.572594\\\\\n",
       "\tYearsWithCurrManager & 2.402602 & 1 & 1.550033\\\\\n",
       "\tdisengaged & 3.077155 & 1 & 1.754182\\\\\n",
       "\tcompa\\_ratio & 2.842774 & 1 & 1.686053\\\\\n",
       "\tcompa\\_level & 2.825506 & 1 & 1.680924\\\\\n",
       "\tjob\\_hop & 3.709931 & 1 & 1.926118\\\\\n",
       "\\end{tabular}\n"
      ],
      "text/markdown": [
       "\n",
       "A matrix: 30 × 3 of type dbl\n",
       "\n",
       "| <!--/--> | GVIF | Df | GVIF^(1/(2*Df)) |\n",
       "|---|---|---|---|\n",
       "| Age | 2.026366 | 1 | 1.423505 |\n",
       "| DailyRate | 1.123488 | 1 | 1.059947 |\n",
       "| Department | 4.189372 | 2 | 1.430663 |\n",
       "| DistanceFromHome | 1.092967 | 1 | 1.045450 |\n",
       "| Education | 1.500195 | 4 | 1.052007 |\n",
       "| EducationField | 4.925845 | 5 | 1.172865 |\n",
       "| EnvironmentSatisfaction | 1.146481 | 1 | 1.070738 |\n",
       "| Gender | 1.108055 | 1 | 1.052642 |\n",
       "| HourlyRate | 1.079324 | 1 | 1.038905 |\n",
       "| JobInvolvement | 1.047668 | 1 | 1.023557 |\n",
       "| JobSatisfaction | 3.059788 | 1 | 1.749225 |\n",
       "| MaritalStatus | 2.298663 | 2 | 1.231314 |\n",
       "| MonthlyIncome | 2.767257 | 1 | 1.663507 |\n",
       "| MonthlyRate | 1.107830 | 1 | 1.052535 |\n",
       "| NumCompaniesWorked | 2.294083 | 1 | 1.514623 |\n",
       "| OverTime | 1.200716 | 1 | 1.095772 |\n",
       "| PercentSalaryHike | 2.845981 | 1 | 1.687004 |\n",
       "| PerformanceRating | 2.857904 | 1 | 1.690534 |\n",
       "| RelationshipSatisfaction | 1.134526 | 1 | 1.065141 |\n",
       "| StockOptionLevel | 2.124823 | 1 | 1.457677 |\n",
       "| TotalWorkingYears | 5.085918 | 1 | 2.255198 |\n",
       "| TrainingTimesLastYear | 1.090029 | 1 | 1.044045 |\n",
       "| WorkLifeBalance | 1.127071 | 1 | 1.061636 |\n",
       "| YearsInCurrentRole | 2.741837 | 1 | 1.655849 |\n",
       "| YearsSinceLastPromotion | 2.473050 | 1 | 1.572594 |\n",
       "| YearsWithCurrManager | 2.402602 | 1 | 1.550033 |\n",
       "| disengaged | 3.077155 | 1 | 1.754182 |\n",
       "| compa_ratio | 2.842774 | 1 | 1.686053 |\n",
       "| compa_level | 2.825506 | 1 | 1.680924 |\n",
       "| job_hop | 3.709931 | 1 | 1.926118 |\n",
       "\n"
      ],
      "text/plain": [
       "                         GVIF     Df GVIF^(1/(2*Df))\n",
       "Age                      2.026366 1  1.423505       \n",
       "DailyRate                1.123488 1  1.059947       \n",
       "Department               4.189372 2  1.430663       \n",
       "DistanceFromHome         1.092967 1  1.045450       \n",
       "Education                1.500195 4  1.052007       \n",
       "EducationField           4.925845 5  1.172865       \n",
       "EnvironmentSatisfaction  1.146481 1  1.070738       \n",
       "Gender                   1.108055 1  1.052642       \n",
       "HourlyRate               1.079324 1  1.038905       \n",
       "JobInvolvement           1.047668 1  1.023557       \n",
       "JobSatisfaction          3.059788 1  1.749225       \n",
       "MaritalStatus            2.298663 2  1.231314       \n",
       "MonthlyIncome            2.767257 1  1.663507       \n",
       "MonthlyRate              1.107830 1  1.052535       \n",
       "NumCompaniesWorked       2.294083 1  1.514623       \n",
       "OverTime                 1.200716 1  1.095772       \n",
       "PercentSalaryHike        2.845981 1  1.687004       \n",
       "PerformanceRating        2.857904 1  1.690534       \n",
       "RelationshipSatisfaction 1.134526 1  1.065141       \n",
       "StockOptionLevel         2.124823 1  1.457677       \n",
       "TotalWorkingYears        5.085918 1  2.255198       \n",
       "TrainingTimesLastYear    1.090029 1  1.044045       \n",
       "WorkLifeBalance          1.127071 1  1.061636       \n",
       "YearsInCurrentRole       2.741837 1  1.655849       \n",
       "YearsSinceLastPromotion  2.473050 1  1.572594       \n",
       "YearsWithCurrManager     2.402602 1  1.550033       \n",
       "disengaged               3.077155 1  1.754182       \n",
       "compa_ratio              2.842774 1  1.686053       \n",
       "compa_level              2.825506 1  1.680924       \n",
       "job_hop                  3.709931 1  1.926118       "
      ]
     },
     "metadata": {},
     "output_type": "display_data"
    }
   ],
   "source": [
    "model_2 <- glm(turnover ~ . -JobRole, family = \"binomial\", data = training_set_filter, maxit = 100)\n",
    "vif(model_2)\n",
    "model_3 <- glm(turnover ~ . -JobRole - JobLevel, family = \"binomial\", data = training_set_filter, maxit = 100) \n",
    "vif(model_3)\n",
    "\n",
    "model_final <- glm(turnover ~ . -JobRole - JobLevel -YearsAtCompany, family = \"binomial\", data = training_set_filter, maxit = 100) \n",
    "vif(model_final)"
   ]
  },
  {
   "cell_type": "markdown",
   "metadata": {
    "papermill": {
     "duration": 0.094239,
     "end_time": "2020-10-13T23:52:44.787675",
     "exception": false,
     "start_time": "2020-10-13T23:52:44.693436",
     "status": "completed"
    },
    "tags": []
   },
   "source": [
    "High VIF scores have been successfully removed. \n",
    "\n",
    "Generate predictions on training data set and visualize prediciton distribution: "
   ]
  },
  {
   "cell_type": "code",
   "execution_count": 28,
   "metadata": {
    "execution": {
     "iopub.execute_input": "2020-10-13T23:52:44.985947Z",
     "iopub.status.busy": "2020-10-13T23:52:44.984232Z",
     "iopub.status.idle": "2020-10-13T23:52:45.150699Z",
     "shell.execute_reply": "2020-10-13T23:52:45.149437Z"
    },
    "papermill": {
     "duration": 0.26664,
     "end_time": "2020-10-13T23:52:45.150865",
     "exception": false,
     "start_time": "2020-10-13T23:52:44.884225",
     "status": "completed"
    },
    "tags": []
   },
   "outputs": [
    {
     "data": {
      "image/png": "[encoded data removed]"
     },
     "metadata": {
      "image/png": {
       "height": 480,
       "width": 480
      }
     },
     "output_type": "display_data"
    }
   ],
   "source": [
    "training_prediction <- predict(model_final, \n",
    "                               newdata = training_set_filter, type = \"response\") \n",
    "hist(training_prediction)"
   ]
  },
  {
   "cell_type": "markdown",
   "metadata": {
    "papermill": {
     "duration": 0.099687,
     "end_time": "2020-10-13T23:52:45.347454",
     "exception": false,
     "start_time": "2020-10-13T23:52:45.247767",
     "status": "completed"
    },
    "tags": []
   },
   "source": [
    "Now the model predicts outcomes on the out-of-sample data that was stored in the test set: "
   ]
  },
  {
   "cell_type": "code",
   "execution_count": 29,
   "metadata": {
    "execution": {
     "iopub.execute_input": "2020-10-13T23:52:45.550679Z",
     "iopub.status.busy": "2020-10-13T23:52:45.549186Z",
     "iopub.status.idle": "2020-10-13T23:52:45.708383Z",
     "shell.execute_reply": "2020-10-13T23:52:45.706857Z"
    },
    "papermill": {
     "duration": 0.263731,
     "end_time": "2020-10-13T23:52:45.708601",
     "exception": false,
     "start_time": "2020-10-13T23:52:45.444870",
     "status": "completed"
    },
    "tags": []
   },
   "outputs": [
    {
     "data": {
      "image/png": "[encoded data removed]"
     },
     "metadata": {
      "image/png": {
       "height": 480,
       "width": 480
      }
     },
     "output_type": "display_data"
    }
   ],
   "source": [
    "testing_prediction <- predict(model_final, \n",
    "                              newdata = testing_set, type = \"response\")\n",
    "hist(testing_prediction)\n"
   ]
  },
  {
   "cell_type": "markdown",
   "metadata": {
    "papermill": {
     "duration": 0.098682,
     "end_time": "2020-10-13T23:52:45.905542",
     "exception": false,
     "start_time": "2020-10-13T23:52:45.806860",
     "status": "completed"
    },
    "tags": []
   },
   "source": [
    "Turn probabilities into binary responses with a 0.5 cutoff point and generate a confusion matrix to observe model's accuracy. "
   ]
  },
  {
   "cell_type": "code",
   "execution_count": 30,
   "metadata": {
    "execution": {
     "iopub.execute_input": "2020-10-13T23:52:46.108580Z",
     "iopub.status.busy": "2020-10-13T23:52:46.107159Z",
     "iopub.status.idle": "2020-10-13T23:52:46.169860Z",
     "shell.execute_reply": "2020-10-13T23:52:46.168247Z"
    },
    "papermill": {
     "duration": 0.167302,
     "end_time": "2020-10-13T23:52:46.170029",
     "exception": false,
     "start_time": "2020-10-13T23:52:46.002727",
     "status": "completed"
    },
    "tags": []
   },
   "outputs": [
    {
     "data": {
      "text/plain": [
       "                  \n",
       "predicition_cutoff   0   1\n",
       "                 0 582  94\n",
       "                 1  24  35"
      ]
     },
     "metadata": {},
     "output_type": "display_data"
    },
    {
     "data": {
      "text/plain": [
       "Confusion Matrix and Statistics\n",
       "\n",
       "   predicition_cutoff\n",
       "      0   1\n",
       "  0 582  24\n",
       "  1  94  35\n",
       "                                          \n",
       "               Accuracy : 0.8395          \n",
       "                 95% CI : (0.8109, 0.8653)\n",
       "    No Information Rate : 0.9197          \n",
       "    P-Value [Acc > NIR] : 1               \n",
       "                                          \n",
       "                  Kappa : 0.2946          \n",
       "                                          \n",
       " Mcnemar's Test P-Value : 2.126e-10       \n",
       "                                          \n",
       "            Sensitivity : 0.8609          \n",
       "            Specificity : 0.5932          \n",
       "         Pos Pred Value : 0.9604          \n",
       "         Neg Pred Value : 0.2713          \n",
       "             Prevalence : 0.9197          \n",
       "         Detection Rate : 0.7918          \n",
       "   Detection Prevalence : 0.8245          \n",
       "      Balanced Accuracy : 0.7271          \n",
       "                                          \n",
       "       'Positive' Class : 0               \n",
       "                                          "
      ]
     },
     "metadata": {},
     "output_type": "display_data"
    }
   ],
   "source": [
    "# classify predictions with cutoff score \n",
    "\n",
    "predicition_cutoff <- ifelse(testing_prediction > 0.5, 1, 0)\n",
    "table(predicition_cutoff, testing_set$turnover)\n",
    "\n",
    "\n",
    "# generate confusion matrix \n",
    "\n",
    "conf_matrix <- confusionMatrix(table(testing_set$turnover, \n",
    "                                          predicition_cutoff))\n",
    "conf_matrix"
   ]
  },
  {
   "cell_type": "code",
   "execution_count": 31,
   "metadata": {
    "execution": {
     "iopub.execute_input": "2020-10-13T23:52:46.380828Z",
     "iopub.status.busy": "2020-10-13T23:52:46.378776Z",
     "iopub.status.idle": "2020-10-13T23:52:46.434080Z",
     "shell.execute_reply": "2020-10-13T23:52:46.431819Z"
    },
    "papermill": {
     "duration": 0.161577,
     "end_time": "2020-10-13T23:52:46.434306",
     "exception": false,
     "start_time": "2020-10-13T23:52:46.272729",
     "status": "completed"
    },
    "tags": []
   },
   "outputs": [
    {
     "data": {
      "text/plain": [
       "\n",
       "Call:\n",
       "glm(formula = turnover ~ . - JobRole - JobLevel - YearsAtCompany, \n",
       "    family = \"binomial\", data = training_set_filter, maxit = 100)\n",
       "\n",
       "Deviance Residuals: \n",
       "    Min       1Q   Median       3Q      Max  \n",
       "-1.7197  -0.4789  -0.2636  -0.1077   3.1917  \n",
       "\n",
       "Coefficients:\n",
       "                                   Estimate Std. Error z value Pr(>|z|)    \n",
       "(Intercept)                       5.061e+00  2.216e+00   2.284  0.02237 *  \n",
       "Age                              -1.952e-02  2.010e-02  -0.971  0.33158    \n",
       "DailyRate                        -3.426e-04  3.217e-04  -1.065  0.28687    \n",
       "DepartmentResearch & Development -2.094e-01  8.599e-01  -0.244  0.80759    \n",
       "DepartmentSales                   6.140e-01  8.799e-01   0.698  0.48527    \n",
       "DistanceFromHome                  2.855e-02  1.552e-02   1.839  0.06596 .  \n",
       "Education2                       -1.505e-01  5.179e-01  -0.291  0.77128    \n",
       "Education3                        6.165e-01  4.286e-01   1.438  0.15038    \n",
       "Education4                        5.835e-01  4.690e-01   1.244  0.21344    \n",
       "Education5                        1.955e-01  8.095e-01   0.242  0.80916    \n",
       "EducationFieldLife Sciences      -1.416e+00  1.111e+00  -1.274  0.20266    \n",
       "EducationFieldMarketing          -1.488e+00  1.176e+00  -1.265  0.20594    \n",
       "EducationFieldMedical            -1.319e+00  1.101e+00  -1.198  0.23078    \n",
       "EducationFieldOther              -1.493e+00  1.256e+00  -1.189  0.23448    \n",
       "EducationFieldTechnical Degree   -8.707e-02  1.142e+00  -0.076  0.93921    \n",
       "EnvironmentSatisfaction          -3.730e-01  1.238e-01  -3.014  0.00258 ** \n",
       "GenderMale                        2.551e-01  2.696e-01   0.946  0.34405    \n",
       "HourlyRate                       -3.679e-03  6.308e-03  -0.583  0.55979    \n",
       "JobInvolvement                   -4.145e-01  1.716e-01  -2.415  0.01574 *  \n",
       "JobSatisfaction                  -1.448e-01  1.893e-01  -0.765  0.44453    \n",
       "MaritalStatusMarried              8.631e-01  4.242e-01   2.035  0.04190 *  \n",
       "MaritalStatusSingle               1.218e+00  5.399e-01   2.256  0.02408 *  \n",
       "MonthlyIncome                    -1.255e-04  5.846e-05  -2.147  0.03177 *  \n",
       "MonthlyRate                       1.435e-06  1.830e-05   0.078  0.93748    \n",
       "NumCompaniesWorked                1.139e-01  7.778e-02   1.465  0.14300    \n",
       "OverTimeYes                       1.804e+00  2.737e-01   6.591 4.36e-11 ***\n",
       "PercentSalaryHike                -6.176e-02  5.652e-02  -1.093  0.27453    \n",
       "PerformanceRating                 4.774e-01  5.723e-01   0.834  0.40412    \n",
       "RelationshipSatisfaction         -2.565e-01  1.197e-01  -2.142  0.03217 *  \n",
       "StockOptionLevel                 -4.046e-01  2.442e-01  -1.657  0.09758 .  \n",
       "TotalWorkingYears                -4.224e-02  4.343e-02  -0.973  0.33072    \n",
       "TrainingTimesLastYear            -8.168e-02  9.904e-02  -0.825  0.40953    \n",
       "WorkLifeBalance                  -2.480e-01  1.881e-01  -1.318  0.18745    \n",
       "YearsInCurrentRole               -1.066e-02  6.516e-02  -0.164  0.87008    \n",
       "YearsSinceLastPromotion           2.035e-01  6.185e-02   3.290  0.00100 ** \n",
       "YearsWithCurrManager             -2.111e-01  6.623e-02  -3.188  0.00143 ** \n",
       "disengaged                        7.406e-01  4.963e-01   1.492  0.13562    \n",
       "compa_ratio                      -1.960e+00  8.287e-01  -2.365  0.01801 *  \n",
       "compa_levelBelow                 -8.797e-01  4.205e-01  -2.092  0.03646 *  \n",
       "job_hop                           5.983e-02  7.213e-02   0.829  0.40685    \n",
       "---\n",
       "Signif. codes:  0 ‘***’ 0.001 ‘**’ 0.01 ‘*’ 0.05 ‘.’ 0.1 ‘ ’ 1\n",
       "\n",
       "(Dispersion parameter for binomial family taken to be 1)\n",
       "\n",
       "    Null deviance: 613.52  on 734  degrees of freedom\n",
       "Residual deviance: 423.13  on 695  degrees of freedom\n",
       "AIC: 503.13\n",
       "\n",
       "Number of Fisher Scoring iterations: 6\n"
      ]
     },
     "metadata": {},
     "output_type": "display_data"
    }
   ],
   "source": [
    "summary(model_final)"
   ]
  },
  {
   "cell_type": "markdown",
   "metadata": {
    "papermill": {
     "duration": 0.099143,
     "end_time": "2020-10-13T23:52:46.661791",
     "exception": false,
     "start_time": "2020-10-13T23:52:46.562648",
     "status": "completed"
    },
    "tags": []
   },
   "source": [
    "** VI) k-Nearest Neighbor Classifier **"
   ]
  },
  {
   "cell_type": "code",
   "execution_count": 32,
   "metadata": {
    "execution": {
     "iopub.execute_input": "2020-10-13T23:52:46.868304Z",
     "iopub.status.busy": "2020-10-13T23:52:46.867022Z",
     "iopub.status.idle": "2020-10-13T23:52:46.889644Z",
     "shell.execute_reply": "2020-10-13T23:52:46.888515Z"
    },
    "papermill": {
     "duration": 0.126664,
     "end_time": "2020-10-13T23:52:46.889805",
     "exception": false,
     "start_time": "2020-10-13T23:52:46.763141",
     "status": "completed"
    },
    "tags": []
   },
   "outputs": [],
   "source": [
    "em <- employee %>%\n",
    "  ungroup(JobLevel) %>%\n",
    "  select(Attrition, DailyRate, EnvironmentSatisfaction, PerformanceRating, \n",
    "         RelationshipSatisfaction)\n"
   ]
  },
  {
   "cell_type": "markdown",
   "metadata": {
    "papermill": {
     "duration": 0.1085,
     "end_time": "2020-10-13T23:52:47.099281",
     "exception": false,
     "start_time": "2020-10-13T23:52:46.990781",
     "status": "completed"
    },
    "tags": []
   },
   "source": [
    "Normalize the numerical data: "
   ]
  },
  {
   "cell_type": "code",
   "execution_count": 33,
   "metadata": {
    "execution": {
     "iopub.execute_input": "2020-10-13T23:52:47.310074Z",
     "iopub.status.busy": "2020-10-13T23:52:47.308538Z",
     "iopub.status.idle": "2020-10-13T23:52:47.350206Z",
     "shell.execute_reply": "2020-10-13T23:52:47.348142Z"
    },
    "papermill": {
     "duration": 0.149296,
     "end_time": "2020-10-13T23:52:47.350396",
     "exception": false,
     "start_time": "2020-10-13T23:52:47.201100",
     "status": "completed"
    },
    "tags": []
   },
   "outputs": [
    {
     "name": "stdout",
     "output_type": "stream",
     "text": [
      "'data.frame':\t1470 obs. of  4 variables:\n",
      " $ DailyRate               : num  0.1546 0.0823 0.7316 0.7652 0.3429 ...\n",
      " $ EnvironmentSatisfaction : num  1 0 0.333 1 0.667 ...\n",
      " $ PerformanceRating       : num  0 1 1 0 0 0 0 0 0 0 ...\n",
      " $ RelationshipSatisfaction: num  0 0 0.667 0.667 1 ...\n"
     ]
    }
   ],
   "source": [
    "ran <- runif(nrow(em)) \n",
    "\n",
    "em <- em [order(ran), ]\n",
    "\n",
    "normalize <- function(x) { \n",
    "  return ((x - min(x)) / (max(x) - min(x))) }\n",
    "\n",
    "em_norm <- as.data.frame(lapply(em[2:5], normalize)) \n",
    "str(em_norm)\n"
   ]
  },
  {
   "cell_type": "markdown",
   "metadata": {
    "papermill": {
     "duration": 0.114438,
     "end_time": "2020-10-13T23:52:47.567775",
     "exception": false,
     "start_time": "2020-10-13T23:52:47.453337",
     "status": "completed"
    },
    "tags": []
   },
   "source": [
    "Calculate and execute the data splits"
   ]
  },
  {
   "cell_type": "code",
   "execution_count": 34,
   "metadata": {
    "execution": {
     "iopub.execute_input": "2020-10-13T23:52:47.802984Z",
     "iopub.status.busy": "2020-10-13T23:52:47.801397Z",
     "iopub.status.idle": "2020-10-13T23:52:47.835919Z",
     "shell.execute_reply": "2020-10-13T23:52:47.834736Z"
    },
    "papermill": {
     "duration": 0.140284,
     "end_time": "2020-10-13T23:52:47.836127",
     "exception": false,
     "start_time": "2020-10-13T23:52:47.695843",
     "status": "completed"
    },
    "tags": []
   },
   "outputs": [
    {
     "data": {
      "text/html": [
       "1029"
      ],
      "text/latex": [
       "1029"
      ],
      "text/markdown": [
       "1029"
      ],
      "text/plain": [
       "[1] 1029"
      ]
     },
     "metadata": {},
     "output_type": "display_data"
    },
    {
     "data": {
      "text/html": [
       "441"
      ],
      "text/latex": [
       "441"
      ],
      "text/markdown": [
       "441"
      ],
      "text/plain": [
       "[1] 441"
      ]
     },
     "metadata": {},
     "output_type": "display_data"
    },
    {
     "data": {
      "text/html": [
       "38.3405790253616"
      ],
      "text/latex": [
       "38.3405790253616"
      ],
      "text/markdown": [
       "38.3405790253616"
      ],
      "text/plain": [
       "[1] 38.34058"
      ]
     },
     "metadata": {},
     "output_type": "display_data"
    }
   ],
   "source": [
    "1470 * 0.7\n",
    "1470- 1029\n",
    "sqrt(1470)\n",
    "em_train <- em_norm[1:1029, ]\n",
    "em_test <- em_norm[1030:1470, ]\n",
    "em_train_target <- em$Attrition[1:1029] \n",
    "em_test_target <- em$Attrition[1030:1470] "
   ]
  },
  {
   "cell_type": "markdown",
   "metadata": {
    "papermill": {
     "duration": 0.106097,
     "end_time": "2020-10-13T23:52:48.046489",
     "exception": false,
     "start_time": "2020-10-13T23:52:47.940392",
     "status": "completed"
    },
    "tags": []
   },
   "source": [
    "Run kNN and generate confusion matrix: "
   ]
  },
  {
   "cell_type": "code",
   "execution_count": 35,
   "metadata": {
    "execution": {
     "iopub.execute_input": "2020-10-13T23:52:48.259270Z",
     "iopub.status.busy": "2020-10-13T23:52:48.258012Z",
     "iopub.status.idle": "2020-10-13T23:52:48.295668Z",
     "shell.execute_reply": "2020-10-13T23:52:48.293413Z"
    },
    "papermill": {
     "duration": 0.14592,
     "end_time": "2020-10-13T23:52:48.295853",
     "exception": false,
     "start_time": "2020-10-13T23:52:48.149933",
     "status": "completed"
    },
    "tags": []
   },
   "outputs": [
    {
     "data": {
      "text/plain": [
       "            em_test_target\n",
       "em_test_pred  No Yes\n",
       "         No  371  70\n",
       "         Yes   0   0"
      ]
     },
     "metadata": {},
     "output_type": "display_data"
    }
   ],
   "source": [
    "library(class) \n",
    "library(caret) \n",
    "em_test_pred <- knn(train = em_train, test = em_test, cl = em_train_target, \n",
    "                    k = 38)\n",
    "\n",
    "\n",
    "tab <- table(em_test_pred, em_test_target)\n",
    "tab"
   ]
  },
  {
   "cell_type": "markdown",
   "metadata": {
    "papermill": {
     "duration": 0.108624,
     "end_time": "2020-10-13T23:52:48.508263",
     "exception": false,
     "start_time": "2020-10-13T23:52:48.399639",
     "status": "completed"
    },
    "tags": []
   },
   "source": [
    "kNN showing 84% accuracy although it incorrectly classified all of those instances in which an employee left in the target sample. "
   ]
  },
  {
   "cell_type": "markdown",
   "metadata": {
    "papermill": {
     "duration": 0.104262,
     "end_time": "2020-10-13T23:52:48.717137",
     "exception": false,
     "start_time": "2020-10-13T23:52:48.612875",
     "status": "completed"
    },
    "tags": []
   },
   "source": [
    "**VII) Risk Assessment****\n",
    "\n",
    "Below, I filter by current employees only. I'll then apply the model to the filtered data set to generate indiviudal turnover probabilities. "
   ]
  },
  {
   "cell_type": "code",
   "execution_count": 36,
   "metadata": {
    "execution": {
     "iopub.execute_input": "2020-10-13T23:52:48.934428Z",
     "iopub.status.busy": "2020-10-13T23:52:48.932616Z",
     "iopub.status.idle": "2020-10-13T23:52:48.973802Z",
     "shell.execute_reply": "2020-10-13T23:52:48.971320Z"
    },
    "papermill": {
     "duration": 0.150005,
     "end_time": "2020-10-13T23:52:48.974067",
     "exception": false,
     "start_time": "2020-10-13T23:52:48.824062",
     "status": "completed"
    },
    "tags": []
   },
   "outputs": [
    {
     "data": {
      "text/html": [
       "<style>\n",
       ".dl-inline {width: auto; margin:0; padding: 0}\n",
       ".dl-inline>dt, .dl-inline>dd {float: none; width: auto; display: inline-block}\n",
       ".dl-inline>dt::after {content: \":\\0020\"; padding-right: .5ex}\n",
       ".dl-inline>dt:not(:first-of-type) {padding-left: .5ex}\n",
       "</style><dl class=dl-inline><dt>100</dt><dd>0.043359523861343</dd><dt>1003</dt><dd>0.462477767639722</dd></dl>\n"
      ],
      "text/latex": [
       "\\begin{description*}\n",
       "\\item[100] 0.043359523861343\n",
       "\\item[1003] 0.462477767639722\n",
       "\\end{description*}\n"
      ],
      "text/markdown": [
       "100\n",
       ":   0.0433595238613431003\n",
       ":   0.462477767639722\n",
       "\n"
      ],
      "text/plain": [
       "       100       1003 \n",
       "0.04335952 0.46247777 "
      ]
     },
     "metadata": {},
     "output_type": "display_data"
    }
   ],
   "source": [
    "employee_current <- employee %>%\n",
    "  filter(Attrition == \"No\")\n",
    "\n",
    "employee_current$churn_risk <- predict(model_final, newdata = employee_current, \n",
    "                          type = \"response\") \n",
    "\n",
    "# check random employees' churn risk \n",
    "employee_current$churn_risk[c(100, 1003)]"
   ]
  },
  {
   "cell_type": "markdown",
   "metadata": {
    "papermill": {
     "duration": 0.103833,
     "end_time": "2020-10-13T23:52:49.227491",
     "exception": false,
     "start_time": "2020-10-13T23:52:49.123658",
     "status": "completed"
    },
    "tags": []
   },
   "source": [
    "Generate risk buckets for an estimation on the opportunity size for workforce retention efforts: "
   ]
  },
  {
   "cell_type": "code",
   "execution_count": 37,
   "metadata": {
    "execution": {
     "iopub.execute_input": "2020-10-13T23:52:49.445853Z",
     "iopub.status.busy": "2020-10-13T23:52:49.444340Z",
     "iopub.status.idle": "2020-10-13T23:52:49.484941Z",
     "shell.execute_reply": "2020-10-13T23:52:49.483465Z"
    },
    "papermill": {
     "duration": 0.151665,
     "end_time": "2020-10-13T23:52:49.485114",
     "exception": false,
     "start_time": "2020-10-13T23:52:49.333449",
     "status": "completed"
    },
    "tags": []
   },
   "outputs": [
    {
     "data": {
      "text/html": [
       "<table class=\"dataframe\">\n",
       "<caption>A grouped_df: 4 × 2</caption>\n",
       "<thead>\n",
       "\t<tr><th scope=col>risk_level</th><th scope=col>n</th></tr>\n",
       "\t<tr><th scope=col>&lt;fct&gt;</th><th scope=col>&lt;int&gt;</th></tr>\n",
       "</thead>\n",
       "<tbody>\n",
       "\t<tr><td>no-risk    </td><td>1029</td></tr>\n",
       "\t<tr><td>low-risk   </td><td>  94</td></tr>\n",
       "\t<tr><td>medium-risk</td><td>  73</td></tr>\n",
       "\t<tr><td>high-risk  </td><td>  37</td></tr>\n",
       "</tbody>\n",
       "</table>\n"
      ],
      "text/latex": [
       "A grouped\\_df: 4 × 2\n",
       "\\begin{tabular}{ll}\n",
       " risk\\_level & n\\\\\n",
       " <fct> & <int>\\\\\n",
       "\\hline\n",
       "\t no-risk     & 1029\\\\\n",
       "\t low-risk    &   94\\\\\n",
       "\t medium-risk &   73\\\\\n",
       "\t high-risk   &   37\\\\\n",
       "\\end{tabular}\n"
      ],
      "text/markdown": [
       "\n",
       "A grouped_df: 4 × 2\n",
       "\n",
       "| risk_level &lt;fct&gt; | n &lt;int&gt; |\n",
       "|---|---|\n",
       "| no-risk     | 1029 |\n",
       "| low-risk    |   94 |\n",
       "| medium-risk |   73 |\n",
       "| high-risk   |   37 |\n",
       "\n"
      ],
      "text/plain": [
       "  risk_level  n   \n",
       "1 no-risk     1029\n",
       "2 low-risk      94\n",
       "3 medium-risk   73\n",
       "4 high-risk     37"
      ]
     },
     "metadata": {},
     "output_type": "display_data"
    }
   ],
   "source": [
    "employee_risk <- employee_current %>%\n",
    "  mutate(risk_level = cut(churn_risk, breaks = c(0, 0.2, 0.3, 0.5, 1), \n",
    "                          labels = c(\"no-risk\", \"low-risk\",\n",
    "                                     \"medium-risk\", \"high-risk\")))\n",
    "employee_risk %>%\n",
    "  group_by(risk_level) %>%\n",
    "  count(risk_level) "
   ]
  },
  {
   "cell_type": "markdown",
   "metadata": {
    "papermill": {
     "duration": 0.106262,
     "end_time": "2020-10-13T23:52:49.697976",
     "exception": false,
     "start_time": "2020-10-13T23:52:49.591714",
     "status": "completed"
    },
    "tags": []
   },
   "source": [
    "Before moving on to proposed intervention efforts, I wanted to generate and validate another logistic regression model. I pare back the number of predicting variables in the second model to see if my model accuracy can be improved. \n"
   ]
  },
  {
   "cell_type": "code",
   "execution_count": 38,
   "metadata": {
    "execution": {
     "iopub.execute_input": "2020-10-13T23:52:49.918768Z",
     "iopub.status.busy": "2020-10-13T23:52:49.917083Z",
     "iopub.status.idle": "2020-10-13T23:52:50.250852Z",
     "shell.execute_reply": "2020-10-13T23:52:50.249902Z"
    },
    "papermill": {
     "duration": 0.444749,
     "end_time": "2020-10-13T23:52:50.251047",
     "exception": false,
     "start_time": "2020-10-13T23:52:49.806298",
     "status": "completed"
    },
    "tags": []
   },
   "outputs": [
    {
     "data": {
      "text/html": [
       "<style>\n",
       ".list-inline {list-style: none; margin:0; padding: 0}\n",
       ".list-inline>li {display: inline-block}\n",
       ".list-inline>li:not(:last-child)::after {content: \"\\00b7\"; padding: 0 .5ex}\n",
       "</style>\n",
       "<ol class=list-inline><li>FALSE</li><li>TRUE</li><li>TRUE</li><li>TRUE</li><li>TRUE</li><li>TRUE</li><li>TRUE</li><li>TRUE</li><li>TRUE</li><li>FALSE</li><li>TRUE</li><li>FALSE</li><li>TRUE</li><li>TRUE</li><li>FALSE</li><li>TRUE</li><li>TRUE</li><li>TRUE</li><li>TRUE</li><li>TRUE</li><li>FALSE</li><li>FALSE</li><li>FALSE</li><li>TRUE</li><li>TRUE</li><li>FALSE</li><li>FALSE</li><li>FALSE</li><li>TRUE</li><li>FALSE</li><li>TRUE</li><li>TRUE</li><li>FALSE</li><li>TRUE</li><li>TRUE</li><li>TRUE</li><li>TRUE</li><li>TRUE</li><li>TRUE</li><li>TRUE</li></ol>\n"
      ],
      "text/latex": [
       "\\begin{enumerate*}\n",
       "\\item FALSE\n",
       "\\item TRUE\n",
       "\\item TRUE\n",
       "\\item TRUE\n",
       "\\item TRUE\n",
       "\\item TRUE\n",
       "\\item TRUE\n",
       "\\item TRUE\n",
       "\\item TRUE\n",
       "\\item FALSE\n",
       "\\item TRUE\n",
       "\\item FALSE\n",
       "\\item TRUE\n",
       "\\item TRUE\n",
       "\\item FALSE\n",
       "\\item TRUE\n",
       "\\item TRUE\n",
       "\\item TRUE\n",
       "\\item TRUE\n",
       "\\item TRUE\n",
       "\\item FALSE\n",
       "\\item FALSE\n",
       "\\item FALSE\n",
       "\\item TRUE\n",
       "\\item TRUE\n",
       "\\item FALSE\n",
       "\\item FALSE\n",
       "\\item FALSE\n",
       "\\item TRUE\n",
       "\\item FALSE\n",
       "\\item TRUE\n",
       "\\item TRUE\n",
       "\\item FALSE\n",
       "\\item TRUE\n",
       "\\item TRUE\n",
       "\\item TRUE\n",
       "\\item TRUE\n",
       "\\item TRUE\n",
       "\\item TRUE\n",
       "\\item TRUE\n",
       "\\end{enumerate*}\n"
      ],
      "text/markdown": [
       "1. FALSE\n",
       "2. TRUE\n",
       "3. TRUE\n",
       "4. TRUE\n",
       "5. TRUE\n",
       "6. TRUE\n",
       "7. TRUE\n",
       "8. TRUE\n",
       "9. TRUE\n",
       "10. FALSE\n",
       "11. TRUE\n",
       "12. FALSE\n",
       "13. TRUE\n",
       "14. TRUE\n",
       "15. FALSE\n",
       "16. TRUE\n",
       "17. TRUE\n",
       "18. TRUE\n",
       "19. TRUE\n",
       "20. TRUE\n",
       "21. FALSE\n",
       "22. FALSE\n",
       "23. FALSE\n",
       "24. TRUE\n",
       "25. TRUE\n",
       "26. FALSE\n",
       "27. FALSE\n",
       "28. FALSE\n",
       "29. TRUE\n",
       "30. FALSE\n",
       "31. TRUE\n",
       "32. TRUE\n",
       "33. FALSE\n",
       "34. TRUE\n",
       "35. TRUE\n",
       "36. TRUE\n",
       "37. TRUE\n",
       "38. TRUE\n",
       "39. TRUE\n",
       "40. TRUE\n",
       "\n",
       "\n"
      ],
      "text/plain": [
       " [1] FALSE  TRUE  TRUE  TRUE  TRUE  TRUE  TRUE  TRUE  TRUE FALSE  TRUE FALSE\n",
       "[13]  TRUE  TRUE FALSE  TRUE  TRUE  TRUE  TRUE  TRUE FALSE FALSE FALSE  TRUE\n",
       "[25]  TRUE FALSE FALSE FALSE  TRUE FALSE  TRUE  TRUE FALSE  TRUE  TRUE  TRUE\n",
       "[37]  TRUE  TRUE  TRUE  TRUE"
      ]
     },
     "metadata": {},
     "output_type": "display_data"
    },
    {
     "data": {
      "image/png": "[encoded data removed]"
     },
     "metadata": {
      "image/png": {
       "height": 480,
       "width": 480
      }
     },
     "output_type": "display_data"
    },
    {
     "data": {
      "text/plain": [
       "   \n",
       "    FALSE TRUE\n",
       "  0   841   19\n",
       "  1   134   33"
      ]
     },
     "metadata": {},
     "output_type": "display_data"
    },
    {
     "data": {
      "text/html": [
       "0.851022395326193"
      ],
      "text/latex": [
       "0.851022395326193"
      ],
      "text/markdown": [
       "0.851022395326193"
      ],
      "text/plain": [
       "[1] 0.8510224"
      ]
     },
     "metadata": {},
     "output_type": "display_data"
    },
    {
     "data": {
      "text/plain": [
       "                               \n",
       "new_logit_prediction_categories   0   1\n",
       "                              0 366  56\n",
       "                              1   7  14"
      ]
     },
     "metadata": {},
     "output_type": "display_data"
    },
    {
     "data": {
      "text/plain": [
       "Confusion Matrix and Statistics\n",
       "\n",
       "                               \n",
       "new_logit_prediction_categories   0   1\n",
       "                              0 366  56\n",
       "                              1   7  14\n",
       "                                         \n",
       "               Accuracy : 0.8578         \n",
       "                 95% CI : (0.8217, 0.889)\n",
       "    No Information Rate : 0.842          \n",
       "    P-Value [Acc > NIR] : 0.1997         \n",
       "                                         \n",
       "                  Kappa : 0.2532         \n",
       "                                         \n",
       " Mcnemar's Test P-Value : 1.472e-09      \n",
       "                                         \n",
       "            Sensitivity : 0.9812         \n",
       "            Specificity : 0.2000         \n",
       "         Pos Pred Value : 0.8673         \n",
       "         Neg Pred Value : 0.6667         \n",
       "             Prevalence : 0.8420         \n",
       "         Detection Rate : 0.8262         \n",
       "   Detection Prevalence : 0.9526         \n",
       "      Balanced Accuracy : 0.5906         \n",
       "                                         \n",
       "       'Positive' Class : 0              \n",
       "                                         "
      ]
     },
     "metadata": {},
     "output_type": "display_data"
    },
    {
     "data": {
      "image/png": "[encoded data removed]"
     },
     "metadata": {
      "image/png": {
       "height": 480,
       "width": 480
      }
     },
     "output_type": "display_data"
    }
   ],
   "source": [
    "# split data \n",
    "\n",
    "library(caTools)\n",
    "split <- sample.split(as.data.frame(employee), SplitRatio = 0.7) \n",
    "split\n",
    "train <- subset(as.data.frame(employee), split == \"TRUE\")\n",
    "test <- subset(as.data.frame(employee), split == \"FALSE\") \n",
    "\n",
    "\n",
    "\n",
    "new_logit <- glm(turnover ~ JobRole + MonthlyIncome + OverTime + JobLevel + \n",
    "                   TotalWorkingYears + YearsAtCompany + Age, \n",
    "                 family = \"binomial\", data = train) \n",
    "new_logit_train_predict <- predict(new_logit, \n",
    "                               newdata = train, type = \"response\") \n",
    "hist(new_logit_train_predict)\n",
    "\n",
    "\n",
    "# run new model through test data set; check for \n",
    "# similarity in prediction distribution\n",
    "\n",
    "new_logit_test_predict <- predict(new_logit, \n",
    "                                   newdata = test, type = \"response\") \n",
    "hist(new_logit_test_predict)\n",
    "\n",
    "\n",
    "\n",
    "# confusion matrix \n",
    "\n",
    "new_logit_conf_matrix <- table(train$turnover, new_logit_train_predict > 0.5) \n",
    "new_logit_conf_matrix\n",
    "\n",
    "(new_logit_conf_matrix[[1,1]] + new_logit_conf_matrix[[2,2]]) / sum(new_logit_conf_matrix)\n",
    "new_logit_prediction_categories <- ifelse(new_logit_test_predict > 0.5, 1, 0)\n",
    "\n",
    "# Construct a confusion matrix\n",
    "new_logit_conf_matrix <- table(new_logit_prediction_categories, test$turnover)\n",
    "new_logit_conf_matrix\n",
    "confusionMatrix(new_logit_conf_matrix)"
   ]
  },
  {
   "cell_type": "markdown",
   "metadata": {
    "papermill": {
     "duration": 0.111082,
     "end_time": "2020-10-13T23:52:50.474663",
     "exception": false,
     "start_time": "2020-10-13T23:52:50.363581",
     "status": "completed"
    },
    "tags": []
   },
   "source": [
    "**VIII) Retention Strategy **"
   ]
  }
 ],
 "metadata": {
  "kernelspec": {
   "display_name": "R",
   "language": "R",
   "name": "ir"
  },
  "language_info": {
   "codemirror_mode": "r",
   "file_extension": ".r",
   "mimetype": "text/x-r-source",
   "name": "R",
   "pygments_lexer": "r",
   "version": "3.6.3"
  },
  "papermill": {
   "duration": 69.170561,
   "end_time": "2020-10-13T23:52:50.700260",
   "environment_variables": {},
   "exception": null,
   "input_path": "__notebook__.ipynb",
   "output_path": "__notebook__.ipynb",
   "parameters": {},
   "start_time": "2020-10-13T23:51:41.529699",
   "version": "2.1.3"
  }
 },
 "nbformat": 4,
 "nbformat_minor": 4
}
